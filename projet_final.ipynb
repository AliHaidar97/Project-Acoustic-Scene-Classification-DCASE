{
  "cells": [
    {
      "cell_type": "code",
      "execution_count": null,
      "metadata": {
        "id": "4JPjoY9toaUa",
        "colab": {
          "base_uri": "https://localhost:8080/"
        },
        "outputId": "8b442de5-e12a-4de4-bec6-5c8c507c3f55"
      },
      "outputs": [
        {
          "output_type": "stream",
          "name": "stdout",
          "text": [
            "Drive already mounted at /content/drive; to attempt to forcibly remount, call drive.mount(\"/content/drive\", force_remount=True).\n"
          ]
        }
      ],
      "source": [
        "from google.colab import drive\n",
        "drive.mount('/content/drive')"
      ]
    },
    {
      "cell_type": "code",
      "execution_count": null,
      "metadata": {
        "id": "ULpRF1dOo2Rf",
        "colab": {
          "base_uri": "https://localhost:8080/"
        },
        "outputId": "18889a27-c890-46d2-814c-874c71c0f0fc"
      },
      "outputs": [
        {
          "output_type": "stream",
          "name": "stderr",
          "text": [
            "UsageError: Line magic function `%apt` not found.\n"
          ]
        }
      ],
      "source": [
        "#% pip install torch===1.7.1 torchvision===0.8.2 torchaudio===0.7.2 -f https://download.pytorch.org/whl/torch_stable.html\n",
        "#% pip install tqdm scikit-learn tensorboard pandas pyaml torchlibrosa\n",
        "%apt install -y libsndfile1"
      ]
    },
    {
      "cell_type": "code",
      "execution_count": null,
      "metadata": {
        "colab": {
          "base_uri": "https://localhost:8080/"
        },
        "id": "c-6nrS7OoiMB",
        "outputId": "24c9954d-af4c-4feb-bafd-a1c09939eea5"
      },
      "outputs": [
        {
          "output_type": "stream",
          "name": "stdout",
          "text": [
            "[Errno 2] No such file or directory: 'Project-Acoustic-Scene-Classification-DCASE-Final'\n",
            "/content/drive/.shortcut-targets-by-id/1LU4hupdEeS2P7GrBnEit-cTXA28tHCMc/Project-Acoustic-Scene-Classification-DCASE-Final\n"
          ]
        }
      ],
      "source": [
        "%cd Project-Acoustic-Scene-Classification-DCASE-Final"
      ]
    },
    {
      "cell_type": "code",
      "source": [
        "%ls"
      ],
      "metadata": {
        "colab": {
          "base_uri": "https://localhost:8080/"
        },
        "id": "1RTk4RugAAgT",
        "outputId": "deba502d-4a3e-41cd-c3a4-d2a917ef645d"
      },
      "execution_count": null,
      "outputs": [
        {
          "output_type": "stream",
          "name": "stdout",
          "text": [
            "\u001b[0m\u001b[01;34mconfigs\u001b[0m/                 \u001b[01;34mour_trained_models\u001b[0m/  README.md   test.py\n",
            "construct_dataset.ipynb  projectAli.ipynb     \u001b[01;34msaves\u001b[0m/      \u001b[01;34mtrained_models\u001b[0m/\n",
            "\u001b[01;34mdata\u001b[0m/                    projet2.ipynb        \u001b[01;34msaves_Ali\u001b[0m/  train.py\n",
            "Dockerfile               projet.ipynb         setup.py    utils.py\n",
            "LICENSE                  \u001b[01;34m__pycache__\u001b[0m/         \u001b[01;34msp4asc\u001b[0m/\n"
          ]
        }
      ]
    },
    {
      "cell_type": "code",
      "execution_count": null,
      "metadata": {
        "id": "P37p-6W9oKaR"
      },
      "outputs": [],
      "source": [
        "import numpy as np\n",
        "import matplotlib.pyplot as plt\n",
        "import os\n",
        "import torch\n",
        "import torch.nn as nn\n",
        "import torchvision\n",
        "from torchvision import models,transforms,datasets\n",
        "import time\n",
        "import torchaudio\n",
        "from sp4asc.datasets.dcase import DCaseDataset\n",
        "import librosa\n",
        "import librosa.display\n",
        "import pandas as pd\n",
        "\n",
        "from torch.utils.data import Dataset\n",
        "from torch.utils.data import DataLoader\n",
        "\n",
        "from sp4asc.models.cnns import LogMelSpectrogram\n",
        "from sp4asc.training import TrainingManager\n",
        "\n",
        "EPS = 1e-6\n",
        "import utils\n",
        "import copy\n",
        "%matplotlib inline"
      ]
    },
    {
      "cell_type": "code",
      "execution_count": null,
      "metadata": {
        "colab": {
          "base_uri": "https://localhost:8080/"
        },
        "id": "nvpdiMcwoKaV",
        "outputId": "7e1caac4-0552-47ae-cb3f-011eb51bcbad"
      },
      "outputs": [
        {
          "output_type": "stream",
          "name": "stdout",
          "text": [
            "Using gpu: True \n"
          ]
        }
      ],
      "source": [
        "device = torch.device(\"cuda:0\" if torch.cuda.is_available() else \"cpu\")\n",
        "print('Using gpu: %s ' % torch.cuda.is_available())"
      ]
    },
    {
      "cell_type": "markdown",
      "metadata": {
        "id": "Y40Y2l6VoKab"
      },
      "source": [
        "### Creating ResNet model"
      ]
    },
    {
      "cell_type": "code",
      "execution_count": null,
      "metadata": {
        "id": "w6hVOvwZoKac"
      },
      "outputs": [],
      "source": [
        "model_resnet = models.resnet18(pretrained=False,progress=True)"
      ]
    },
    {
      "cell_type": "code",
      "execution_count": null,
      "metadata": {
        "id": "bcE13C38oKac"
      },
      "outputs": [],
      "source": [
        "model_resnet.fc = torch.nn.Linear(in_features=512,out_features=10)\n",
        "model_resnet.conv1 = nn.Conv2d(1, 64, kernel_size=7, stride=2, padding=3, bias=False)"
      ]
    },
    {
      "cell_type": "code",
      "execution_count": null,
      "metadata": {
        "colab": {
          "base_uri": "https://localhost:8080/"
        },
        "id": "d2C4uAN5oKad",
        "outputId": "455f715f-b772-4642-824a-5b241e9adf49"
      },
      "outputs": [
        {
          "output_type": "stream",
          "name": "stdout",
          "text": [
            "ResNet(\n",
            "  (conv1): Conv2d(1, 64, kernel_size=(7, 7), stride=(2, 2), padding=(3, 3), bias=False)\n",
            "  (bn1): BatchNorm2d(64, eps=1e-05, momentum=0.1, affine=True, track_running_stats=True)\n",
            "  (relu): ReLU(inplace=True)\n",
            "  (maxpool): MaxPool2d(kernel_size=3, stride=2, padding=1, dilation=1, ceil_mode=False)\n",
            "  (layer1): Sequential(\n",
            "    (0): BasicBlock(\n",
            "      (conv1): Conv2d(64, 64, kernel_size=(3, 3), stride=(1, 1), padding=(1, 1), bias=False)\n",
            "      (bn1): BatchNorm2d(64, eps=1e-05, momentum=0.1, affine=True, track_running_stats=True)\n",
            "      (relu): ReLU(inplace=True)\n",
            "      (conv2): Conv2d(64, 64, kernel_size=(3, 3), stride=(1, 1), padding=(1, 1), bias=False)\n",
            "      (bn2): BatchNorm2d(64, eps=1e-05, momentum=0.1, affine=True, track_running_stats=True)\n",
            "    )\n",
            "    (1): BasicBlock(\n",
            "      (conv1): Conv2d(64, 64, kernel_size=(3, 3), stride=(1, 1), padding=(1, 1), bias=False)\n",
            "      (bn1): BatchNorm2d(64, eps=1e-05, momentum=0.1, affine=True, track_running_stats=True)\n",
            "      (relu): ReLU(inplace=True)\n",
            "      (conv2): Conv2d(64, 64, kernel_size=(3, 3), stride=(1, 1), padding=(1, 1), bias=False)\n",
            "      (bn2): BatchNorm2d(64, eps=1e-05, momentum=0.1, affine=True, track_running_stats=True)\n",
            "    )\n",
            "  )\n",
            "  (layer2): Sequential(\n",
            "    (0): BasicBlock(\n",
            "      (conv1): Conv2d(64, 128, kernel_size=(3, 3), stride=(2, 2), padding=(1, 1), bias=False)\n",
            "      (bn1): BatchNorm2d(128, eps=1e-05, momentum=0.1, affine=True, track_running_stats=True)\n",
            "      (relu): ReLU(inplace=True)\n",
            "      (conv2): Conv2d(128, 128, kernel_size=(3, 3), stride=(1, 1), padding=(1, 1), bias=False)\n",
            "      (bn2): BatchNorm2d(128, eps=1e-05, momentum=0.1, affine=True, track_running_stats=True)\n",
            "      (downsample): Sequential(\n",
            "        (0): Conv2d(64, 128, kernel_size=(1, 1), stride=(2, 2), bias=False)\n",
            "        (1): BatchNorm2d(128, eps=1e-05, momentum=0.1, affine=True, track_running_stats=True)\n",
            "      )\n",
            "    )\n",
            "    (1): BasicBlock(\n",
            "      (conv1): Conv2d(128, 128, kernel_size=(3, 3), stride=(1, 1), padding=(1, 1), bias=False)\n",
            "      (bn1): BatchNorm2d(128, eps=1e-05, momentum=0.1, affine=True, track_running_stats=True)\n",
            "      (relu): ReLU(inplace=True)\n",
            "      (conv2): Conv2d(128, 128, kernel_size=(3, 3), stride=(1, 1), padding=(1, 1), bias=False)\n",
            "      (bn2): BatchNorm2d(128, eps=1e-05, momentum=0.1, affine=True, track_running_stats=True)\n",
            "    )\n",
            "  )\n",
            "  (layer3): Sequential(\n",
            "    (0): BasicBlock(\n",
            "      (conv1): Conv2d(128, 256, kernel_size=(3, 3), stride=(2, 2), padding=(1, 1), bias=False)\n",
            "      (bn1): BatchNorm2d(256, eps=1e-05, momentum=0.1, affine=True, track_running_stats=True)\n",
            "      (relu): ReLU(inplace=True)\n",
            "      (conv2): Conv2d(256, 256, kernel_size=(3, 3), stride=(1, 1), padding=(1, 1), bias=False)\n",
            "      (bn2): BatchNorm2d(256, eps=1e-05, momentum=0.1, affine=True, track_running_stats=True)\n",
            "      (downsample): Sequential(\n",
            "        (0): Conv2d(128, 256, kernel_size=(1, 1), stride=(2, 2), bias=False)\n",
            "        (1): BatchNorm2d(256, eps=1e-05, momentum=0.1, affine=True, track_running_stats=True)\n",
            "      )\n",
            "    )\n",
            "    (1): BasicBlock(\n",
            "      (conv1): Conv2d(256, 256, kernel_size=(3, 3), stride=(1, 1), padding=(1, 1), bias=False)\n",
            "      (bn1): BatchNorm2d(256, eps=1e-05, momentum=0.1, affine=True, track_running_stats=True)\n",
            "      (relu): ReLU(inplace=True)\n",
            "      (conv2): Conv2d(256, 256, kernel_size=(3, 3), stride=(1, 1), padding=(1, 1), bias=False)\n",
            "      (bn2): BatchNorm2d(256, eps=1e-05, momentum=0.1, affine=True, track_running_stats=True)\n",
            "    )\n",
            "  )\n",
            "  (layer4): Sequential(\n",
            "    (0): BasicBlock(\n",
            "      (conv1): Conv2d(256, 512, kernel_size=(3, 3), stride=(2, 2), padding=(1, 1), bias=False)\n",
            "      (bn1): BatchNorm2d(512, eps=1e-05, momentum=0.1, affine=True, track_running_stats=True)\n",
            "      (relu): ReLU(inplace=True)\n",
            "      (conv2): Conv2d(512, 512, kernel_size=(3, 3), stride=(1, 1), padding=(1, 1), bias=False)\n",
            "      (bn2): BatchNorm2d(512, eps=1e-05, momentum=0.1, affine=True, track_running_stats=True)\n",
            "      (downsample): Sequential(\n",
            "        (0): Conv2d(256, 512, kernel_size=(1, 1), stride=(2, 2), bias=False)\n",
            "        (1): BatchNorm2d(512, eps=1e-05, momentum=0.1, affine=True, track_running_stats=True)\n",
            "      )\n",
            "    )\n",
            "    (1): BasicBlock(\n",
            "      (conv1): Conv2d(512, 512, kernel_size=(3, 3), stride=(1, 1), padding=(1, 1), bias=False)\n",
            "      (bn1): BatchNorm2d(512, eps=1e-05, momentum=0.1, affine=True, track_running_stats=True)\n",
            "      (relu): ReLU(inplace=True)\n",
            "      (conv2): Conv2d(512, 512, kernel_size=(3, 3), stride=(1, 1), padding=(1, 1), bias=False)\n",
            "      (bn2): BatchNorm2d(512, eps=1e-05, momentum=0.1, affine=True, track_running_stats=True)\n",
            "    )\n",
            "  )\n",
            "  (avgpool): AdaptiveAvgPool2d(output_size=(1, 1))\n",
            "  (fc): Linear(in_features=512, out_features=10, bias=True)\n",
            ")\n"
          ]
        }
      ],
      "source": [
        "print(model_resnet)"
      ]
    },
    {
      "cell_type": "markdown",
      "metadata": {
        "id": "T50a79csoKad"
      },
      "source": [
        "#### Data Extraction"
      ]
    },
    {
      "cell_type": "code",
      "execution_count": null,
      "metadata": {
        "id": "QYofYV_UoKae"
      },
      "outputs": [],
      "source": [
        "def get_audio(file):\n",
        "    signal, sample_rate = librosa.load(file, sr= 22050) \n",
        "\n",
        "def draw_signal(signal, sample_rate):\n",
        "    FIG_SIZE = (15,4)\n",
        "    plt.figure(figsize=FIG_SIZE)\n",
        "    librosa.display.waveshow(signal, sample_rate, alpha=0.4)\n",
        "    plt.xlabel(\"Time (s)\")\n",
        "    plt.ylabel(\"Amplitude\")\n",
        "    plt.title(\"Waveform\")\n",
        "\n",
        "    # FFT -> power spectrum\n",
        "    # perform Fourier transform\n",
        "    fft = np.fft.fft(signal)\n",
        "\n",
        "    # calculate abs values on complex numbers to get magnitude\n",
        "    spectrum = np.abs(fft)\n",
        "\n",
        "    # create frequency variable\n",
        "    f = np.linspace(0, sample_rate, len(spectrum))\n",
        "\n",
        "    # take half of the spectrum and frequency\n",
        "    left_spectrum = spectrum[:int(len(spectrum)/2)]\n",
        "    left_f = f[:int(len(spectrum)/2)]\n",
        "\n",
        "    # plot spectrum\n",
        "    plt.figure(figsize=FIG_SIZE)\n",
        "    plt.plot(left_f, left_spectrum, alpha=0.4)\n",
        "    plt.xlabel(\"Frequency\")\n",
        "    plt.ylabel(\"Magnitude\")\n",
        "    plt.title(\"Power spectrum\")\n"
      ]
    },
    {
      "cell_type": "code",
      "source": [
        "%ls"
      ],
      "metadata": {
        "colab": {
          "base_uri": "https://localhost:8080/"
        },
        "id": "UT4K9zHK8J9w",
        "outputId": "67e4ce71-d185-4fbc-a7d9-9f51d2e859d9"
      },
      "execution_count": null,
      "outputs": [
        {
          "output_type": "stream",
          "name": "stdout",
          "text": [
            "\u001b[0m\u001b[01;34mconfigs\u001b[0m/                 \u001b[01;34mour_trained_models\u001b[0m/  README.md   test.py\n",
            "construct_dataset.ipynb  projectAli.ipynb     \u001b[01;34msaves\u001b[0m/      \u001b[01;34mtrained_models\u001b[0m/\n",
            "\u001b[01;34mdata\u001b[0m/                    projet2.ipynb        \u001b[01;34msaves_Ali\u001b[0m/  train.py\n",
            "Dockerfile               projet.ipynb         setup.py    utils.py\n",
            "LICENSE                  \u001b[01;34m__pycache__\u001b[0m/         \u001b[01;34msp4asc\u001b[0m/\n"
          ]
        }
      ]
    },
    {
      "cell_type": "code",
      "execution_count": null,
      "metadata": {
        "id": "W0fGlAnDoKae",
        "colab": {
          "base_uri": "https://localhost:8080/",
          "height": 779
        },
        "outputId": "efedc12c-c225-4047-a7e1-5cfaf6d89a2c"
      },
      "outputs": [
        {
          "output_type": "error",
          "ename": "PermissionError",
          "evalue": "ignored",
          "traceback": [
            "\u001b[0;31m---------------------------------------------------------------------------\u001b[0m",
            "\u001b[0;31mPermissionError\u001b[0m                           Traceback (most recent call last)",
            "\u001b[0;32m<ipython-input-33-019e284ff409>\u001b[0m in \u001b[0;36m<module>\u001b[0;34m()\u001b[0m\n\u001b[1;32m      7\u001b[0m \u001b[0mfiles\u001b[0m \u001b[0;34m=\u001b[0m \u001b[0;34m[\u001b[0m\u001b[0;34m[\u001b[0m\u001b[0mfile\u001b[0m\u001b[0;34m]\u001b[0m \u001b[0;34m+\u001b[0m \u001b[0mfile\u001b[0m\u001b[0;34m.\u001b[0m\u001b[0mreplace\u001b[0m\u001b[0;34m(\u001b[0m\u001b[0;34m'.wav'\u001b[0m\u001b[0;34m,\u001b[0m\u001b[0;34m''\u001b[0m\u001b[0;34m)\u001b[0m\u001b[0;34m.\u001b[0m\u001b[0msplit\u001b[0m\u001b[0;34m(\u001b[0m\u001b[0;34m'-'\u001b[0m\u001b[0;34m,\u001b[0m\u001b[0;36m5\u001b[0m\u001b[0;34m)\u001b[0m \u001b[0;32mfor\u001b[0m \u001b[0mfile\u001b[0m \u001b[0;32min\u001b[0m \u001b[0mfiles\u001b[0m\u001b[0;34m]\u001b[0m\u001b[0;34m\u001b[0m\u001b[0;34m\u001b[0m\u001b[0m\n\u001b[1;32m      8\u001b[0m \u001b[0mdf_files\u001b[0m \u001b[0;34m=\u001b[0m \u001b[0mpd\u001b[0m\u001b[0;34m.\u001b[0m\u001b[0mDataFrame\u001b[0m\u001b[0;34m(\u001b[0m\u001b[0mfiles\u001b[0m\u001b[0;34m,\u001b[0m\u001b[0mcolumns\u001b[0m\u001b[0;34m=\u001b[0m\u001b[0;34m[\u001b[0m\u001b[0;34m'file_name'\u001b[0m\u001b[0;34m,\u001b[0m\u001b[0;34m'label_name'\u001b[0m\u001b[0;34m,\u001b[0m\u001b[0;34m'city'\u001b[0m\u001b[0;34m,\u001b[0m\u001b[0;34m'location_id'\u001b[0m\u001b[0;34m,\u001b[0m\u001b[0;34m'segment_id'\u001b[0m\u001b[0;34m,\u001b[0m\u001b[0;34m'device_id'\u001b[0m\u001b[0;34m]\u001b[0m\u001b[0;34m)\u001b[0m\u001b[0;34m\u001b[0m\u001b[0;34m\u001b[0m\u001b[0m\n\u001b[0;32m----> 9\u001b[0;31m \u001b[0mdf_files\u001b[0m\u001b[0;34m.\u001b[0m\u001b[0mto_csv\u001b[0m\u001b[0;34m(\u001b[0m\u001b[0mroot_dir\u001b[0m \u001b[0;34m+\u001b[0m \u001b[0;34m'/train_data.csv'\u001b[0m\u001b[0;34m,\u001b[0m\u001b[0mindex\u001b[0m\u001b[0;34m=\u001b[0m\u001b[0;32mFalse\u001b[0m\u001b[0;34m)\u001b[0m\u001b[0;34m\u001b[0m\u001b[0;34m\u001b[0m\u001b[0m\n\u001b[0m",
            "\u001b[0;32m/usr/local/lib/python3.7/dist-packages/pandas/core/generic.py\u001b[0m in \u001b[0;36mto_csv\u001b[0;34m(self, path_or_buf, sep, na_rep, float_format, columns, header, index, index_label, mode, encoding, compression, quoting, quotechar, line_terminator, chunksize, date_format, doublequote, escapechar, decimal, errors, storage_options)\u001b[0m\n\u001b[1;32m   3480\u001b[0m             \u001b[0mdoublequote\u001b[0m\u001b[0;34m=\u001b[0m\u001b[0mdoublequote\u001b[0m\u001b[0;34m,\u001b[0m\u001b[0;34m\u001b[0m\u001b[0;34m\u001b[0m\u001b[0m\n\u001b[1;32m   3481\u001b[0m             \u001b[0mescapechar\u001b[0m\u001b[0;34m=\u001b[0m\u001b[0mescapechar\u001b[0m\u001b[0;34m,\u001b[0m\u001b[0;34m\u001b[0m\u001b[0;34m\u001b[0m\u001b[0m\n\u001b[0;32m-> 3482\u001b[0;31m             \u001b[0mstorage_options\u001b[0m\u001b[0;34m=\u001b[0m\u001b[0mstorage_options\u001b[0m\u001b[0;34m,\u001b[0m\u001b[0;34m\u001b[0m\u001b[0;34m\u001b[0m\u001b[0m\n\u001b[0m\u001b[1;32m   3483\u001b[0m         )\n\u001b[1;32m   3484\u001b[0m \u001b[0;34m\u001b[0m\u001b[0m\n",
            "\u001b[0;32m/usr/local/lib/python3.7/dist-packages/pandas/io/formats/format.py\u001b[0m in \u001b[0;36mto_csv\u001b[0;34m(self, path_or_buf, encoding, sep, columns, index_label, mode, compression, quoting, quotechar, line_terminator, chunksize, date_format, doublequote, escapechar, errors, storage_options)\u001b[0m\n\u001b[1;32m   1103\u001b[0m             \u001b[0mformatter\u001b[0m\u001b[0;34m=\u001b[0m\u001b[0mself\u001b[0m\u001b[0;34m.\u001b[0m\u001b[0mfmt\u001b[0m\u001b[0;34m,\u001b[0m\u001b[0;34m\u001b[0m\u001b[0;34m\u001b[0m\u001b[0m\n\u001b[1;32m   1104\u001b[0m         )\n\u001b[0;32m-> 1105\u001b[0;31m         \u001b[0mcsv_formatter\u001b[0m\u001b[0;34m.\u001b[0m\u001b[0msave\u001b[0m\u001b[0;34m(\u001b[0m\u001b[0;34m)\u001b[0m\u001b[0;34m\u001b[0m\u001b[0;34m\u001b[0m\u001b[0m\n\u001b[0m\u001b[1;32m   1106\u001b[0m \u001b[0;34m\u001b[0m\u001b[0m\n\u001b[1;32m   1107\u001b[0m         \u001b[0;32mif\u001b[0m \u001b[0mcreated_buffer\u001b[0m\u001b[0;34m:\u001b[0m\u001b[0;34m\u001b[0m\u001b[0;34m\u001b[0m\u001b[0m\n",
            "\u001b[0;32m/usr/local/lib/python3.7/dist-packages/pandas/io/formats/csvs.py\u001b[0m in \u001b[0;36msave\u001b[0;34m(self)\u001b[0m\n\u001b[1;32m    241\u001b[0m             \u001b[0merrors\u001b[0m\u001b[0;34m=\u001b[0m\u001b[0mself\u001b[0m\u001b[0;34m.\u001b[0m\u001b[0merrors\u001b[0m\u001b[0;34m,\u001b[0m\u001b[0;34m\u001b[0m\u001b[0;34m\u001b[0m\u001b[0m\n\u001b[1;32m    242\u001b[0m             \u001b[0mcompression\u001b[0m\u001b[0;34m=\u001b[0m\u001b[0mself\u001b[0m\u001b[0;34m.\u001b[0m\u001b[0mcompression\u001b[0m\u001b[0;34m,\u001b[0m\u001b[0;34m\u001b[0m\u001b[0;34m\u001b[0m\u001b[0m\n\u001b[0;32m--> 243\u001b[0;31m             \u001b[0mstorage_options\u001b[0m\u001b[0;34m=\u001b[0m\u001b[0mself\u001b[0m\u001b[0;34m.\u001b[0m\u001b[0mstorage_options\u001b[0m\u001b[0;34m,\u001b[0m\u001b[0;34m\u001b[0m\u001b[0;34m\u001b[0m\u001b[0m\n\u001b[0m\u001b[1;32m    244\u001b[0m         ) as handles:\n\u001b[1;32m    245\u001b[0m \u001b[0;34m\u001b[0m\u001b[0m\n",
            "\u001b[0;32m/usr/local/lib/python3.7/dist-packages/pandas/io/common.py\u001b[0m in \u001b[0;36mget_handle\u001b[0;34m(path_or_buf, mode, encoding, compression, memory_map, is_text, errors, storage_options)\u001b[0m\n\u001b[1;32m    705\u001b[0m                 \u001b[0mencoding\u001b[0m\u001b[0;34m=\u001b[0m\u001b[0mioargs\u001b[0m\u001b[0;34m.\u001b[0m\u001b[0mencoding\u001b[0m\u001b[0;34m,\u001b[0m\u001b[0;34m\u001b[0m\u001b[0;34m\u001b[0m\u001b[0m\n\u001b[1;32m    706\u001b[0m                 \u001b[0merrors\u001b[0m\u001b[0;34m=\u001b[0m\u001b[0merrors\u001b[0m\u001b[0;34m,\u001b[0m\u001b[0;34m\u001b[0m\u001b[0;34m\u001b[0m\u001b[0m\n\u001b[0;32m--> 707\u001b[0;31m                 \u001b[0mnewline\u001b[0m\u001b[0;34m=\u001b[0m\u001b[0;34m\"\"\u001b[0m\u001b[0;34m,\u001b[0m\u001b[0;34m\u001b[0m\u001b[0;34m\u001b[0m\u001b[0m\n\u001b[0m\u001b[1;32m    708\u001b[0m             )\n\u001b[1;32m    709\u001b[0m         \u001b[0;32melse\u001b[0m\u001b[0;34m:\u001b[0m\u001b[0;34m\u001b[0m\u001b[0;34m\u001b[0m\u001b[0m\n",
            "\u001b[0;31mPermissionError\u001b[0m: [Errno 1] Operation not permitted: 'data/TAU-urban-acoustic-scenes-2020-mobile-development/train_data.csv'"
          ]
        }
      ],
      "source": [
        "import os\n",
        "\n",
        "root_dir = \"data/TAU-urban-acoustic-scenes-2020-mobile-development\"\n",
        "\n",
        "files = os.listdir(root_dir + '/audio_train')\n",
        "\n",
        "files = [[file] + file.replace('.wav','').split('-',5) for file in files]\n",
        "df_files = pd.DataFrame(files,columns=['file_name','label_name','city','location_id','segment_id','device_id'])\n",
        "df_files.to_csv(root_dir + '/train_data.csv',index=False)"
      ]
    },
    {
      "cell_type": "code",
      "execution_count": null,
      "metadata": {
        "id": "_B3ffIGcoKae"
      },
      "outputs": [],
      "source": [
        "root_dir =\"data/TAU-urban-acoustic-scenes-2020-mobile-development\"\n",
        "files = os.listdir(root_dir + '/audio_test')\n",
        "files = [[file] + file.replace('.wav','').split('-',5) for file in files]\n",
        "df_files = pd.DataFrame(files,columns=['file_name','label_name','city','location_id','segment_id','device_id'])\n",
        "df_files.to_csv(root_dir + '/test_data.csv',index=False)"
      ]
    },
    {
      "cell_type": "code",
      "execution_count": null,
      "metadata": {
        "id": "OO5urrv3oKaf"
      },
      "outputs": [],
      "source": [
        "# dataloader \n",
        "\n",
        "class DCaseDataset(Dataset):\n",
        "    labelind2name = {\n",
        "        0: \"airport\",\n",
        "        1: \"bus\",\n",
        "        2: \"metro\",\n",
        "        3: \"metro_station\",\n",
        "        4: \"park\",\n",
        "        5: \"public_square\",\n",
        "        6: \"shopping_mall\",\n",
        "        7: \"street_pedestrian\",\n",
        "        8: \"street_traffic\",\n",
        "        9: \"tram\",\n",
        "    }\n",
        "    name2labelind = {\n",
        "        \"airport\": 0,\n",
        "        \"bus\": 1,\n",
        "        \"metro\": 2,\n",
        "        \"metro_station\": 3,\n",
        "        \"park\": 4,\n",
        "        \"public_square\": 5,\n",
        "        \"shopping_mall\": 6,\n",
        "        \"street_pedestrian\": 7,\n",
        "        \"street_traffic\": 8,\n",
        "        \"tram\": 9,\n",
        "    }\n",
        "\n",
        "    def __init__(self,root_dir,split):\n",
        "        self.root_dir = root_dir\n",
        "        self.split = split\n",
        "        if split == \"train\":\n",
        "            csv_path = root_dir + \"/train_data.csv\"\n",
        "\n",
        "        elif split == \"val\":\n",
        "            csv_path = root_dir + \"/val_data.csv\"\n",
        "        elif split == \"test\":\n",
        "            csv_path = root_dir + \"/test_data.csv\"\n",
        "        else:\n",
        "            raise ValueError(\"Split not implemented\")\n",
        "\n",
        "        csvData = pd.read_csv(csv_path, sep=\",\")\n",
        "        # In test mode, just get file list\n",
        "        if split == \"val\":\n",
        "            self.file_names = []\n",
        "            for i in range(0, len(csvData)):\n",
        "                self.file_names.append(csvData.iloc[i, 0])\n",
        "            return\n",
        "\n",
        "        self.file_names, self.labels,self.devices = [], [],[]\n",
        "\n",
        "        for i in range(0, len(csvData)):\n",
        "            self.file_names.append(csvData.iloc[i, 0])\n",
        "            self.labels.append(csvData.iloc[i, 1])\n",
        "            self.devices.append(csvData.iloc[i,5])\n",
        "\n",
        "        # Transform class name to index\n",
        "        self.labels = [self.name2labelind[name] for name in self.labels] \n",
        "\n",
        "    def __getitem__(self,index):\n",
        "       # Load data\n",
        "        filepath = self.root_dir + '/audio_' + self.split + '/' + self.file_names[index]\n",
        "        sound, sfreq = torchaudio.load(filepath)\n",
        "        assert sound.shape[0] == 1, \"Expected mono channel\"\n",
        "        sound = torch.mean(sound, dim=0)\n",
        "        assert sfreq == 44100, \"Expected sampling rate of 44.1 kHz\"\n",
        "\n",
        "        # Remove last samples if longer than expected\n",
        "        if sound.shape[-1] >= 441000:\n",
        "            sound = sound[:441000]\n",
        "\n",
        "        if self.split == \"val\":\n",
        "            return  sound, 255, self.file_names[index], \"unknown\"\n",
        "        else:\n",
        "            return (\n",
        "                sound,\n",
        "                self.labels[index],\n",
        "                self.file_names[index],\n",
        "                self.devices[index],\n",
        "            )\n",
        "    \n",
        "    def __len__(self):\n",
        "        return len(self.file_names)\n"
      ]
    },
    {
      "cell_type": "code",
      "execution_count": null,
      "metadata": {
        "id": "pm1DQqWnoKaf"
      },
      "outputs": [],
      "source": [
        "train_dataset = DCaseDataset(\n",
        "    root_dir=\"data/TAU-urban-acoustic-scenes-2020-mobile-development\",\n",
        "    split = 'train'\n",
        ")\n",
        "\n",
        "test_dataset = DCaseDataset(\n",
        "    root_dir=\"data/TAU-urban-acoustic-scenes-2020-mobile-development\",\n",
        "    split = 'test'\n",
        ")"
      ]
    },
    {
      "cell_type": "code",
      "execution_count": null,
      "metadata": {
        "id": "itIJRQSooKag",
        "colab": {
          "base_uri": "https://localhost:8080/"
        },
        "outputId": "f04ac852-6f96-4ab6-aff1-8ac7548c250e"
      },
      "outputs": [
        {
          "output_type": "stream",
          "name": "stdout",
          "text": [
            "(tensor([ 0.0011,  0.0008,  0.0003,  ..., -0.0101, -0.0101, -0.0107]), 9, 'tram-helsinki-184-5713-a.wav', 'a')\n",
            "(tensor([-3.0518e-05, -3.0518e-04, -6.4087e-04,  ..., -3.6926e-03,\n",
            "        -1.8311e-03, -1.8311e-04]), 4, 'park-barcelona-241-7149-s1.wav', 's1')\n"
          ]
        }
      ],
      "source": [
        "print(train_dataset[0])\n",
        "print(test_dataset[0])"
      ]
    },
    {
      "cell_type": "code",
      "execution_count": null,
      "metadata": {
        "id": "I1-OHtDioKag",
        "colab": {
          "base_uri": "https://localhost:8080/",
          "height": 407
        },
        "outputId": "166e5104-f488-4259-f34b-682a9bd406a9"
      },
      "outputs": [
        {
          "output_type": "display_data",
          "data": {
            "image/png": "[encoded data removed]",
            "text/plain": [
              "<Figure size 1080x288 with 1 Axes>"
            ]
          },
          "metadata": {
            "needs_background": "light"
          }
        },
        {
          "output_type": "display_data",
          "data": {
            "image/png": "[encoded data removed]",
            "text/plain": [
              "<Figure size 1080x288 with 1 Axes>"
            ]
          },
          "metadata": {
            "needs_background": "light"
          }
        }
      ],
      "source": [
        "sample_rate = 44100\n",
        "draw_signal(train_dataset[3][0].numpy(), sample_rate)"
      ]
    },
    {
      "cell_type": "code",
      "execution_count": null,
      "metadata": {
        "id": "FzfFMxCCoKag"
      },
      "outputs": [],
      "source": [
        "import tarfile\n",
        "import argparse\n",
        "\n",
        "def make_tarfile(output_filename, source_dir):\n",
        "    with tarfile.open(output_filename, \"w:gz\") as tar:\n",
        "        for file in os.listdir(source_dir):\n",
        "            if file == \"data\":\n",
        "                pass\n",
        "            elif file.split(\".\")[-1] == \"egg-info\":\n",
        "                pass\n",
        "            else:\n",
        "                tar.add(os.path.join(source_dir, file))"
      ]
    },
    {
      "cell_type": "code",
      "execution_count": null,
      "metadata": {
        "id": "N4WhZdVyoKah"
      },
      "outputs": [],
      "source": [
        "batchsize = 64\n",
        "num_workers = 1\n",
        "reload = False\n",
        "dropout = 0.2\n",
        "specAugment = [128, 2, 32, 2]\n",
        "lr = 1e-3\n",
        "eta_min = 1e-5\n",
        "epoch = 1\n",
        "weight_decay = 1e-5\n",
        "mixup_alpha = None\n",
        "out_dir =  \"data/TAU-urban-acoustic-scenes-2020-mobile-development/trained_models/\""
      ]
    },
    {
      "cell_type": "code",
      "execution_count": null,
      "metadata": {
        "id": "mwUD_tnloKah"
      },
      "outputs": [],
      "source": [
        "from sp4asc.training import CELoss\n",
        "from sp4asc.training import MixUp\n",
        "from torch.utils.tensorboard import SummaryWriter\n",
        "from tqdm import tqdm\n",
        "\n",
        "class TrainingManager:\n",
        "    def __init__(\n",
        "        self,\n",
        "        net,\n",
        "        spectrogram,\n",
        "        loader_train,\n",
        "        loader_test,\n",
        "        optim,\n",
        "        scheduler,\n",
        "        max_epoch,\n",
        "        reload,\n",
        "        mixup_alpha,\n",
        "        path_to_ckpt,\n",
        "        nb_classes=10\n",
        "    ):\n",
        "\n",
        "        # Optim. methods\n",
        "        self.optim = optim\n",
        "        self.scheduler = scheduler\n",
        "\n",
        "        # Dataloaders\n",
        "        self.max_epoch = max_epoch\n",
        "        self.loader_train = loader_train\n",
        "        self.loader_test = loader_test\n",
        "\n",
        "        # Networks\n",
        "        self.dev = \"cuda\" if torch.cuda.is_available() else \"cpu\"\n",
        "        self.net = net.to(self.dev)\n",
        "        self.spectrogram = spectrogram.to(self.dev).eval()\n",
        "\n",
        "        # Mixup and loss\n",
        "        self.loss = CELoss(nb_classes=nb_classes)\n",
        "        self.mixup = MixUp(alpha=mixup_alpha, nb_classes=nb_classes)\n",
        "\n",
        "        # Checkpoints\n",
        "        self.path_to_ckpt = path_to_ckpt + \"/ckpt.pth\"\n",
        "        if reload:\n",
        "            self.load_state()\n",
        "        else:\n",
        "            self.current_epoch = 0\n",
        "\n",
        "        # Monitoring\n",
        "        self.writer = SummaryWriter(\n",
        "            path_to_ckpt + \"/tensorboard/\",\n",
        "            purge_step=self.current_epoch + 1,\n",
        "        )\n",
        "\n",
        "    def print_log(self, running_loss, nb_it, acc, nb_instances):\n",
        "        log = (\n",
        "            \"\\nEpoch: {0:d} :\".format(self.current_epoch)\n",
        "            + \" loss = {0:.3f}\".format(running_loss / (nb_it + 1))\n",
        "            + \" - acc1 = {0:.3f}\".format(100 * acc / nb_instances)\n",
        "        )\n",
        "        print(log)\n",
        "\n",
        "    def one_epoch(self, training):\n",
        "\n",
        "        # Train or eval mode\n",
        "        if training:\n",
        "            self.net.train()\n",
        "            self.mixup.train()\n",
        "            loader = self.loader_train\n",
        "            print(\"\\nTraining: %d/%d epochs\" % (self.current_epoch, self.max_epoch))\n",
        "        else:\n",
        "            self.net.eval()\n",
        "            self.mixup.eval()\n",
        "            loader = self.loader_test\n",
        "            print(\"\\nTest:\")\n",
        "\n",
        "        # Stat.\n",
        "        acc = 0\n",
        "        nb_instances = 0\n",
        "        running_loss = 0\n",
        "        delta = len(loader) // 3\n",
        "\n",
        "        # Loop over mini-batches\n",
        "        bar_format = \"{desc:<5.5}{percentage:3.0f}%|{bar:50}{r_bar}\"\n",
        "        for it, batch in enumerate(tqdm(loader, bar_format=bar_format)):\n",
        "\n",
        "            # Data\n",
        "            sound = batch[0].to(self.dev, non_blocking=True)\n",
        "            gt_class = batch[1].to(self.dev, non_blocking=True)\n",
        "           \n",
        "            # Get network outputs with mixup during training\n",
        "            with torch.no_grad():\n",
        "                sound = self.spectrogram(sound)\n",
        "               \n",
        "                sound, gt_class = self.mixup(sound, gt_class)\n",
        "                \n",
        "                if not training:\n",
        "                    pred_class = self.net(sound)\n",
        "            if training:\n",
        "                self.optim.zero_grad()\n",
        "                pred_class = self.net(sound)\n",
        "\n",
        "            # Loss & backprop\n",
        "            loss_class = self.loss(pred_class, gt_class)\n",
        "            if training:\n",
        "                \n",
        "                loss_class.backward()\n",
        "                # Freezing Pruned weights by making their gradients Zero\n",
        "                for name, p in model.named_parameters():\n",
        "                    if 'weight' in name:\n",
        "                        tensor = p.data.cpu().numpy()\n",
        "                        grad_tensor = p.grad.data.cpu().numpy()\n",
        "                        grad_tensor = np.where(tensor < EPS, 0, grad_tensor)\n",
        "                        p.grad.data = torch.from_numpy(grad_tensor).to(device)\n",
        "                \n",
        "                self.optim.step()\n",
        "\n",
        "            # Log\n",
        "            acc += (pred_class.max(1)[1] == gt_class.max(1)[1]).sum()\n",
        "            nb_instances += gt_class.shape[0]\n",
        "            running_loss += loss_class.item()\n",
        "            if it % delta == delta - 1:\n",
        "                self.print_log(running_loss, it, acc, nb_instances)\n",
        "\n",
        "        # Print log\n",
        "        self.print_log(running_loss, it, acc, nb_instances)\n",
        "        header = \"Train\" if training else \"Test\"\n",
        "        self.writer.add_scalar(\n",
        "            header + \"/loss\", running_loss / (it + 1), self.current_epoch + 1\n",
        "        )\n",
        "        self.writer.add_scalar(\n",
        "            header + \"/acc\", 100 * acc / nb_instances, self.current_epoch + 1\n",
        "        )\n",
        "        #add return_loss and acc\n",
        "        return running_loss,  (100 * acc / nb_instances)\n",
        "\n",
        "    def load_state(self):\n",
        "        ckpt = torch.load(self.path_to_ckpt, map_location=torch.device(self.dev))\n",
        "        self.net.load_state_dict(ckpt[\"net\"])\n",
        "        self.optim.load_state_dict(ckpt[\"optim\"])\n",
        "        self.scheduler.load_state_dict(ckpt[\"scheduler\"])\n",
        "        self.current_epoch = ckpt[\"epoch\"]\n",
        "        # Check config is the same\n",
        "        for key in ckpt[\"config\"].keys():\n",
        "            assert key in self.config.keys()\n",
        "            if key == \"reload\":\n",
        "                pass\n",
        "            assert (\n",
        "                self.config[key] == ckpt[\"config\"][key]\n",
        "            ), \"Config file is not compatible with saved one.\"\n",
        "\n",
        "    def save_state(self):\n",
        "        dict_to_save = {\n",
        "            \"epoch\": self.current_epoch,\n",
        "            \"net\": self.net.state_dict(),\n",
        "            \"optim\": self.optim.state_dict(),\n",
        "            \"scheduler\": self.scheduler.state_dict(),\n",
        "            \"config\": self.config,\n",
        "        }\n",
        "        torch.save(dict_to_save, self.path_to_ckpt)\n",
        "\n",
        "    def train(self):\n",
        "        for _ in range(self.current_epoch, self.max_epoch):\n",
        "            self.one_epoch(training=True)\n",
        "            self.scheduler.step()\n",
        "            self.one_epoch(training=False)\n",
        "            self.current_epoch += 1\n",
        "            #self.save_state()\n",
        "        print(\"Finished Training\")\n",
        "\n",
        "    def eval(self):\n",
        "        self.one_epoch(training=False)\n"
      ]
    },
    {
      "cell_type": "markdown",
      "metadata": {
        "id": "clYamic0oKai"
      },
      "source": [
        "## Lottery ticket hypothesis\n",
        "\n"
      ]
    },
    {
      "cell_type": "code",
      "execution_count": null,
      "metadata": {
        "id": "-a6ectsvoKai"
      },
      "outputs": [],
      "source": [
        "# Function for Initialization\n",
        "def weight_init(m):\n",
        "    '''\n",
        "    Usage:\n",
        "        model = Model()\n",
        "        model.apply(weight_init)\n",
        "    '''\n",
        "    if isinstance(m, nn.Conv1d):\n",
        "        nn.init.normal_(m.weight.data)\n",
        "        if m.bias is not None:\n",
        "            nn.init.normal_(m.bias.data)\n",
        "    elif isinstance(m, nn.Conv2d):\n",
        "        nn.init.xavier_normal_(m.weight.data)\n",
        "        if m.bias is not None:\n",
        "            nn.init.normal_(m.bias.data)\n",
        "    elif isinstance(m, nn.Conv3d):\n",
        "        nn.init.xavier_normal_(m.weight.data)\n",
        "        if m.bias is not None:\n",
        "           nn.init.normal_(m.bias.data)\n",
        "    elif isinstance(m, nn.ConvTranspose1d):\n",
        "        nn.init.normal_(m.weight.data)\n",
        "        if m.bias is not None:\n",
        "            nn.init.normal_(m.bias.data)\n",
        "    elif isinstance(m, nn.ConvTranspose2d):\n",
        "        nn.init.xavier_normal_(m.weight.data)\n",
        "        if m.bias is not None:\n",
        "            nn.init.normal_(m.bias.data)\n",
        "    elif isinstance(m, nn.ConvTranspose3d):\n",
        "        nn.init.xavier_normal_(m.weight.data)\n",
        "        if m.bias is not None:\n",
        "            nn.init.normal_(m.bias.data)\n",
        "    elif isinstance(m, nn.BatchNorm1d):\n",
        "        nn.init.normal_(m.weight.data, mean=1, std=0.02)\n",
        "        nn.init.constant_(m.bias.data, 0)\n",
        "    elif isinstance(m, nn.BatchNorm2d):\n",
        "        nn.init.normal_(m.weight.data, mean=1, std=0.02)\n",
        "        nn.init.constant_(m.bias.data, 0)\n",
        "    elif isinstance(m, nn.BatchNorm3d):\n",
        "        nn.init.normal_(m.weight.data, mean=1, std=0.02)\n",
        "        nn.init.constant_(m.bias.data, 0)\n",
        "    elif isinstance(m, nn.Linear):\n",
        "        nn.init.xavier_normal_(m.weight.data)\n",
        "        nn.init.normal_(m.bias.data)\n",
        "    elif isinstance(m, nn.LSTM):\n",
        "        for param in m.parameters():\n",
        "            if len(param.shape) >= 2:\n",
        "                nn.init.orthogonal_(param.data)\n",
        "            else:\n",
        "                nn.init.normal_(param.data)\n",
        "    elif isinstance(m, nn.LSTMCell):\n",
        "        for param in m.parameters():\n",
        "            if len(param.shape) >= 2:\n",
        "                nn.init.orthogonal_(param.data)\n",
        "            else:\n",
        "                nn.init.normal_(param.data)\n",
        "    elif isinstance(m, nn.GRU):\n",
        "        for param in m.parameters():\n",
        "            if len(param.shape) >= 2:\n",
        "                nn.init.orthogonal_(param.data)\n",
        "            else:\n",
        "                nn.init.normal_(param.data)\n",
        "    elif isinstance(m, nn.GRUCell):\n",
        "        for param in m.parameters():\n",
        "            if len(param.shape) >= 2:\n",
        "                nn.init.orthogonal_(param.data)\n",
        "            else:\n",
        "                nn.init.normal_(param.data)\n"
      ]
    },
    {
      "cell_type": "code",
      "execution_count": null,
      "metadata": {
        "id": "7tMNwSOyoKaj"
      },
      "outputs": [],
      "source": [
        "def original_initialization(mask_temp, initial_state_dict):\n",
        "    global model\n",
        "    \n",
        "    step = 0\n",
        "    for name, param in model.named_parameters(): \n",
        "        if \"weight\" in name: \n",
        "            weight_dev = param.device\n",
        "            param.data = torch.from_numpy(mask_temp[step] * initial_state_dict[name].cpu().numpy()).to(weight_dev)\n",
        "            step = step + 1\n",
        "        if \"bias\" in name:\n",
        "            param.data = initial_state_dict[name]\n",
        "    step = 0"
      ]
    },
    {
      "cell_type": "code",
      "execution_count": null,
      "metadata": {
        "id": "Svwni_uMoKaj"
      },
      "outputs": [],
      "source": [
        "def print_nonzeros(model):\n",
        "    nonzero = total = 0\n",
        "    for name, p in model.named_parameters():\n",
        "        tensor = p.data.cpu().numpy()\n",
        "        nz_count = np.count_nonzero(tensor)\n",
        "        total_params = np.prod(tensor.shape)\n",
        "        nonzero += nz_count\n",
        "        total += total_params\n",
        "        print(f'{name:20} | nonzeros = {nz_count:7} / {total_params:7} ({100 * nz_count / total_params:6.2f}%) | total_pruned = {total_params - nz_count :7} | shape = {tensor.shape}')\n",
        "    print(f'alive: {nonzero}, pruned : {total - nonzero}, total: {total}, Compression rate : {total/nonzero:10.2f}x  ({100 * (total-nonzero) / total:6.2f}% pruned)')\n",
        "    return (round((nonzero/total)*100,1))"
      ]
    },
    {
      "cell_type": "code",
      "execution_count": null,
      "metadata": {
        "id": "zSojBiUYoKaj"
      },
      "outputs": [],
      "source": [
        "def plot_train_test_stats(stats,\n",
        "                          epoch_num,\n",
        "                          key1='train',\n",
        "                          key2='test',\n",
        "                          key1_label=None,\n",
        "                          key2_label=None,\n",
        "                          xlabel=None,\n",
        "                          ylabel=None,\n",
        "                          title=None,\n",
        "                          yscale=None,\n",
        "                          ylim_bottom=None,\n",
        "                          ylim_top=None,\n",
        "                          savefig=None,\n",
        "                          sns_style='darkgrid'\n",
        "                          ):\n",
        "\n",
        "    assert len(stats[key1]) == epoch_num, \"len(stats['{}'])({}) != epoch_num({})\".format(key1, len(stats[key1]), epoch_num)\n",
        "    assert len(stats[key2]) == epoch_num, \"len(stats['{}'])({}) != epoch_num({})\".format(key2, len(stats[key2]), epoch_num)\n",
        "\n",
        "    plt.clf()\n",
        "    sns.set_style(sns_style)\n",
        "    x_ticks = np.arange(epoch_num)\n",
        "\n",
        "    plt.plot(x_ticks, stats[key1], label=key1_label)\n",
        "    plt.plot(x_ticks, stats[key2], label=key2_label)\n",
        "\n",
        "    if xlabel is not None:\n",
        "        plt.xlabel(xlabel)\n",
        "    if ylabel is not None:\n",
        "        plt.ylabel(ylabel)\n",
        "\n",
        "    if title is not None:\n",
        "        plt.title(title)\n",
        "\n",
        "    if yscale is not None:\n",
        "        plt.yscale(yscale)\n",
        "\n",
        "    if ylim_bottom is not None:\n",
        "        plt.ylim(bottom=ylim_bottom)\n",
        "    if ylim_top is not None:\n",
        "        plt.ylim(top=ylim_top)\n",
        "\n",
        "    plt.legend(bbox_to_anchor=(1.04,0.5), loc=\"center left\", borderaxespad=0, fancybox=True)\n",
        "\n",
        "    if savefig is not None:\n",
        "        plt.savefig(savefig, bbox_inches='tight')\n",
        "    else:\n",
        "        plt.show()"
      ]
    },
    {
      "cell_type": "code",
      "execution_count": null,
      "metadata": {
        "id": "QsUZS4r1oKaj"
      },
      "outputs": [],
      "source": [
        "# Function to make an empty mask of the same size as the model\n",
        "def make_mask(model):\n",
        "    global step\n",
        "    global mask\n",
        "    step = 0\n",
        "    for name, param in model.named_parameters(): \n",
        "        if 'weight' in name:\n",
        "            step = step + 1\n",
        "    mask = [None]* step \n",
        "    step = 0\n",
        "    for name, param in model.named_parameters(): \n",
        "        if 'weight' in name:\n",
        "            tensor = param.data.cpu().numpy()\n",
        "            mask[step] = np.ones_like(tensor)\n",
        "            step = step + 1\n",
        "    step = 0"
      ]
    },
    {
      "cell_type": "code",
      "execution_count": null,
      "metadata": {
        "id": "-v26qKZ0oKak"
      },
      "outputs": [],
      "source": [
        "# Prune by Percentile module\n",
        "def prune_by_percentile(percent, resample=False, reinit=False,**kwargs):\n",
        "        global step\n",
        "        global mask\n",
        "        global model\n",
        "\n",
        "        # Calculate percentile value\n",
        "        step = 0\n",
        "        for name, param in model.named_parameters():\n",
        "\n",
        "            # We do not prune bias term\n",
        "            if 'weight' in name:\n",
        "                tensor = param.data.cpu().numpy()\n",
        "                alive = tensor[np.nonzero(tensor)] # flattened array of nonzero values\n",
        "                percentile_value = np.percentile(abs(alive), percent)\n",
        "\n",
        "                # Convert Tensors to numpy and calculate\n",
        "                weight_dev = param.device\n",
        "                new_mask = np.where(abs(tensor) < percentile_value, 0, mask[step])\n",
        "                \n",
        "                # Apply new weight and mask\n",
        "                param.data = torch.from_numpy(tensor * new_mask).to(weight_dev)\n",
        "                mask[step] = new_mask\n",
        "                step += 1\n",
        "        step = 0"
      ]
    },
    {
      "cell_type": "code",
      "execution_count": null,
      "metadata": {
        "id": "Jo2e8mH1oKak",
        "colab": {
          "base_uri": "https://localhost:8080/"
        },
        "outputId": "532f1f76-a146-4bd1-f0b2-099a2e432360"
      },
      "outputs": [
        {
          "output_type": "stream",
          "name": "stdout",
          "text": [
            "\n",
            "\n",
            "Net at training time\n",
            "ResNet(\n",
            "  (conv1): Conv2d(1, 64, kernel_size=(7, 7), stride=(2, 2), padding=(3, 3), bias=False)\n",
            "  (bn1): BatchNorm2d(64, eps=1e-05, momentum=0.1, affine=True, track_running_stats=True)\n",
            "  (relu): ReLU(inplace=True)\n",
            "  (maxpool): MaxPool2d(kernel_size=3, stride=2, padding=1, dilation=1, ceil_mode=False)\n",
            "  (layer1): Sequential(\n",
            "    (0): BasicBlock(\n",
            "      (conv1): Conv2d(64, 64, kernel_size=(3, 3), stride=(1, 1), padding=(1, 1), bias=False)\n",
            "      (bn1): BatchNorm2d(64, eps=1e-05, momentum=0.1, affine=True, track_running_stats=True)\n",
            "      (relu): ReLU(inplace=True)\n",
            "      (conv2): Conv2d(64, 64, kernel_size=(3, 3), stride=(1, 1), padding=(1, 1), bias=False)\n",
            "      (bn2): BatchNorm2d(64, eps=1e-05, momentum=0.1, affine=True, track_running_stats=True)\n",
            "    )\n",
            "    (1): BasicBlock(\n",
            "      (conv1): Conv2d(64, 64, kernel_size=(3, 3), stride=(1, 1), padding=(1, 1), bias=False)\n",
            "      (bn1): BatchNorm2d(64, eps=1e-05, momentum=0.1, affine=True, track_running_stats=True)\n",
            "      (relu): ReLU(inplace=True)\n",
            "      (conv2): Conv2d(64, 64, kernel_size=(3, 3), stride=(1, 1), padding=(1, 1), bias=False)\n",
            "      (bn2): BatchNorm2d(64, eps=1e-05, momentum=0.1, affine=True, track_running_stats=True)\n",
            "    )\n",
            "  )\n",
            "  (layer2): Sequential(\n",
            "    (0): BasicBlock(\n",
            "      (conv1): Conv2d(64, 128, kernel_size=(3, 3), stride=(2, 2), padding=(1, 1), bias=False)\n",
            "      (bn1): BatchNorm2d(128, eps=1e-05, momentum=0.1, affine=True, track_running_stats=True)\n",
            "      (relu): ReLU(inplace=True)\n",
            "      (conv2): Conv2d(128, 128, kernel_size=(3, 3), stride=(1, 1), padding=(1, 1), bias=False)\n",
            "      (bn2): BatchNorm2d(128, eps=1e-05, momentum=0.1, affine=True, track_running_stats=True)\n",
            "      (downsample): Sequential(\n",
            "        (0): Conv2d(64, 128, kernel_size=(1, 1), stride=(2, 2), bias=False)\n",
            "        (1): BatchNorm2d(128, eps=1e-05, momentum=0.1, affine=True, track_running_stats=True)\n",
            "      )\n",
            "    )\n",
            "    (1): BasicBlock(\n",
            "      (conv1): Conv2d(128, 128, kernel_size=(3, 3), stride=(1, 1), padding=(1, 1), bias=False)\n",
            "      (bn1): BatchNorm2d(128, eps=1e-05, momentum=0.1, affine=True, track_running_stats=True)\n",
            "      (relu): ReLU(inplace=True)\n",
            "      (conv2): Conv2d(128, 128, kernel_size=(3, 3), stride=(1, 1), padding=(1, 1), bias=False)\n",
            "      (bn2): BatchNorm2d(128, eps=1e-05, momentum=0.1, affine=True, track_running_stats=True)\n",
            "    )\n",
            "  )\n",
            "  (layer3): Sequential(\n",
            "    (0): BasicBlock(\n",
            "      (conv1): Conv2d(128, 256, kernel_size=(3, 3), stride=(2, 2), padding=(1, 1), bias=False)\n",
            "      (bn1): BatchNorm2d(256, eps=1e-05, momentum=0.1, affine=True, track_running_stats=True)\n",
            "      (relu): ReLU(inplace=True)\n",
            "      (conv2): Conv2d(256, 256, kernel_size=(3, 3), stride=(1, 1), padding=(1, 1), bias=False)\n",
            "      (bn2): BatchNorm2d(256, eps=1e-05, momentum=0.1, affine=True, track_running_stats=True)\n",
            "      (downsample): Sequential(\n",
            "        (0): Conv2d(128, 256, kernel_size=(1, 1), stride=(2, 2), bias=False)\n",
            "        (1): BatchNorm2d(256, eps=1e-05, momentum=0.1, affine=True, track_running_stats=True)\n",
            "      )\n",
            "    )\n",
            "    (1): BasicBlock(\n",
            "      (conv1): Conv2d(256, 256, kernel_size=(3, 3), stride=(1, 1), padding=(1, 1), bias=False)\n",
            "      (bn1): BatchNorm2d(256, eps=1e-05, momentum=0.1, affine=True, track_running_stats=True)\n",
            "      (relu): ReLU(inplace=True)\n",
            "      (conv2): Conv2d(256, 256, kernel_size=(3, 3), stride=(1, 1), padding=(1, 1), bias=False)\n",
            "      (bn2): BatchNorm2d(256, eps=1e-05, momentum=0.1, affine=True, track_running_stats=True)\n",
            "    )\n",
            "  )\n",
            "  (layer4): Sequential(\n",
            "    (0): BasicBlock(\n",
            "      (conv1): Conv2d(256, 512, kernel_size=(3, 3), stride=(2, 2), padding=(1, 1), bias=False)\n",
            "      (bn1): BatchNorm2d(512, eps=1e-05, momentum=0.1, affine=True, track_running_stats=True)\n",
            "      (relu): ReLU(inplace=True)\n",
            "      (conv2): Conv2d(512, 512, kernel_size=(3, 3), stride=(1, 1), padding=(1, 1), bias=False)\n",
            "      (bn2): BatchNorm2d(512, eps=1e-05, momentum=0.1, affine=True, track_running_stats=True)\n",
            "      (downsample): Sequential(\n",
            "        (0): Conv2d(256, 512, kernel_size=(1, 1), stride=(2, 2), bias=False)\n",
            "        (1): BatchNorm2d(512, eps=1e-05, momentum=0.1, affine=True, track_running_stats=True)\n",
            "      )\n",
            "    )\n",
            "    (1): BasicBlock(\n",
            "      (conv1): Conv2d(512, 512, kernel_size=(3, 3), stride=(1, 1), padding=(1, 1), bias=False)\n",
            "      (bn1): BatchNorm2d(512, eps=1e-05, momentum=0.1, affine=True, track_running_stats=True)\n",
            "      (relu): ReLU(inplace=True)\n",
            "      (conv2): Conv2d(512, 512, kernel_size=(3, 3), stride=(1, 1), padding=(1, 1), bias=False)\n",
            "      (bn2): BatchNorm2d(512, eps=1e-05, momentum=0.1, affine=True, track_running_stats=True)\n",
            "    )\n",
            "  )\n",
            "  (avgpool): AdaptiveAvgPool2d(output_size=(1, 1))\n",
            "  (fc): Linear(in_features=512, out_features=10, bias=True)\n",
            ")\n"
          ]
        }
      ],
      "source": [
        "loader_train = DataLoader(\n",
        "    train_dataset,\n",
        "    batch_size=batchsize,\n",
        "    shuffle=True,\n",
        "    pin_memory=True,\n",
        "    num_workers=num_workers,\n",
        "    drop_last=True,\n",
        ")\n",
        "\n",
        "loader_test = DataLoader(\n",
        "    test_dataset,\n",
        "    batch_size=batchsize,\n",
        "    shuffle=False,\n",
        "    pin_memory=True,\n",
        "    num_workers=num_workers,\n",
        "    drop_last=True,\n",
        ")\n",
        "\n",
        "# --- Get network\n",
        "spectrogram = LogMelSpectrogram()\n",
        "model = model_resnet\n",
        "# Weight Initialization\n",
        "model.apply(weight_init)\n",
        "\n",
        "print(\"\\n\\nNet at training time\")\n",
        "print(model)\n",
        "\n",
        "# ---\n",
        "optim = torch.optim.AdamW(\n",
        "    [\n",
        "        {\"params\": model.parameters()},\n",
        "    ],\n",
        "    lr=lr,\n",
        "    weight_decay=weight_decay\n",
        ")\n",
        "scheduler = torch.optim.lr_scheduler.CosineAnnealingLR(\n",
        "    optim,\n",
        "    epoch,\n",
        "    eta_min=eta_min\n",
        ")\n",
        "\n",
        "# --- Log dir\n",
        "path2log = out_dir\n",
        "\n",
        "# --- Training\n",
        "mng = TrainingManager(\n",
        "    model,\n",
        "    spectrogram,\n",
        "    loader_train,\n",
        "    loader_test,\n",
        "    optim,\n",
        "    scheduler,\n",
        "    epoch ,\n",
        "    reload,\n",
        "    mixup_alpha,\n",
        "    path2log\n",
        ")\n",
        "\n",
        "make_mask(model)\n",
        "initial_state_dict = copy.deepcopy(model.state_dict())\n",
        "#mng.train()"
      ]
    },
    {
      "cell_type": "code",
      "execution_count": null,
      "metadata": {
        "id": "yLSjYu34oKak",
        "colab": {
          "base_uri": "https://localhost:8080/"
        },
        "outputId": "9fea5fd4-5013-4dce-d82f-b8b912c0594d"
      },
      "outputs": [
        {
          "output_type": "stream",
          "name": "stdout",
          "text": [
            "conv1.weight torch.Size([64, 1, 7, 7])\n",
            "bn1.weight torch.Size([64])\n",
            "bn1.bias torch.Size([64])\n",
            "layer1.0.conv1.weight torch.Size([64, 64, 3, 3])\n",
            "layer1.0.bn1.weight torch.Size([64])\n",
            "layer1.0.bn1.bias torch.Size([64])\n",
            "layer1.0.conv2.weight torch.Size([64, 64, 3, 3])\n",
            "layer1.0.bn2.weight torch.Size([64])\n",
            "layer1.0.bn2.bias torch.Size([64])\n",
            "layer1.1.conv1.weight torch.Size([64, 64, 3, 3])\n",
            "layer1.1.bn1.weight torch.Size([64])\n",
            "layer1.1.bn1.bias torch.Size([64])\n",
            "layer1.1.conv2.weight torch.Size([64, 64, 3, 3])\n",
            "layer1.1.bn2.weight torch.Size([64])\n",
            "layer1.1.bn2.bias torch.Size([64])\n",
            "layer2.0.conv1.weight torch.Size([128, 64, 3, 3])\n",
            "layer2.0.bn1.weight torch.Size([128])\n",
            "layer2.0.bn1.bias torch.Size([128])\n",
            "layer2.0.conv2.weight torch.Size([128, 128, 3, 3])\n",
            "layer2.0.bn2.weight torch.Size([128])\n",
            "layer2.0.bn2.bias torch.Size([128])\n",
            "layer2.0.downsample.0.weight torch.Size([128, 64, 1, 1])\n",
            "layer2.0.downsample.1.weight torch.Size([128])\n",
            "layer2.0.downsample.1.bias torch.Size([128])\n",
            "layer2.1.conv1.weight torch.Size([128, 128, 3, 3])\n",
            "layer2.1.bn1.weight torch.Size([128])\n",
            "layer2.1.bn1.bias torch.Size([128])\n",
            "layer2.1.conv2.weight torch.Size([128, 128, 3, 3])\n",
            "layer2.1.bn2.weight torch.Size([128])\n",
            "layer2.1.bn2.bias torch.Size([128])\n",
            "layer3.0.conv1.weight torch.Size([256, 128, 3, 3])\n",
            "layer3.0.bn1.weight torch.Size([256])\n",
            "layer3.0.bn1.bias torch.Size([256])\n",
            "layer3.0.conv2.weight torch.Size([256, 256, 3, 3])\n",
            "layer3.0.bn2.weight torch.Size([256])\n",
            "layer3.0.bn2.bias torch.Size([256])\n",
            "layer3.0.downsample.0.weight torch.Size([256, 128, 1, 1])\n",
            "layer3.0.downsample.1.weight torch.Size([256])\n",
            "layer3.0.downsample.1.bias torch.Size([256])\n",
            "layer3.1.conv1.weight torch.Size([256, 256, 3, 3])\n",
            "layer3.1.bn1.weight torch.Size([256])\n",
            "layer3.1.bn1.bias torch.Size([256])\n",
            "layer3.1.conv2.weight torch.Size([256, 256, 3, 3])\n",
            "layer3.1.bn2.weight torch.Size([256])\n",
            "layer3.1.bn2.bias torch.Size([256])\n",
            "layer4.0.conv1.weight torch.Size([512, 256, 3, 3])\n",
            "layer4.0.bn1.weight torch.Size([512])\n",
            "layer4.0.bn1.bias torch.Size([512])\n",
            "layer4.0.conv2.weight torch.Size([512, 512, 3, 3])\n",
            "layer4.0.bn2.weight torch.Size([512])\n",
            "layer4.0.bn2.bias torch.Size([512])\n",
            "layer4.0.downsample.0.weight torch.Size([512, 256, 1, 1])\n",
            "layer4.0.downsample.1.weight torch.Size([512])\n",
            "layer4.0.downsample.1.bias torch.Size([512])\n",
            "layer4.1.conv1.weight torch.Size([512, 512, 3, 3])\n",
            "layer4.1.bn1.weight torch.Size([512])\n",
            "layer4.1.bn1.bias torch.Size([512])\n",
            "layer4.1.conv2.weight torch.Size([512, 512, 3, 3])\n",
            "layer4.1.bn2.weight torch.Size([512])\n",
            "layer4.1.bn2.bias torch.Size([512])\n",
            "fc.weight torch.Size([10, 512])\n",
            "fc.bias torch.Size([10])\n"
          ]
        }
      ],
      "source": [
        "# Layer Looper\n",
        "for name, param in model.named_parameters():\n",
        "    print(name, param.size())"
      ]
    },
    {
      "cell_type": "code",
      "execution_count": null,
      "metadata": {
        "id": "1V9bIzyFoKak"
      },
      "outputs": [],
      "source": [
        "# Pruning\n",
        "# NOTE First Pruning Iteration is of No Compression\n",
        "bestacc = 0.0\n",
        "best_accuracy = 0\n",
        "ITERATION = 2\n",
        "comp = np.zeros(ITERATION,float)\n",
        "bestacc = np.zeros(ITERATION,float)\n",
        "step = 0\n",
        "all_loss = np.zeros(epoch,float)\n",
        "all_accuracy = np.zeros(epoch,float)\n",
        "prune_percent = 10\n",
        "resample = False\n",
        "reinit = False\n"
      ]
    },
    {
      "cell_type": "code",
      "execution_count": null,
      "metadata": {
        "id": "-gLcwuTwoKal",
        "colab": {
          "base_uri": "https://localhost:8080/"
        },
        "outputId": "c8901b55-e01d-43ea-d360-28f92dfedae4"
      },
      "outputs": [
        {
          "output_type": "stream",
          "name": "stdout",
          "text": [
            "conv1.weight         | nonzeros =    3136 /    3136 (100.00%) | total_pruned =       0 | shape = (64, 1, 7, 7)\n",
            "bn1.weight           | nonzeros =      64 /      64 (100.00%) | total_pruned =       0 | shape = (64,)\n",
            "bn1.bias             | nonzeros =       0 /      64 (  0.00%) | total_pruned =      64 | shape = (64,)\n",
            "layer1.0.conv1.weight | nonzeros =   36864 /   36864 (100.00%) | total_pruned =       0 | shape = (64, 64, 3, 3)\n",
            "layer1.0.bn1.weight  | nonzeros =      64 /      64 (100.00%) | total_pruned =       0 | shape = (64,)\n",
            "layer1.0.bn1.bias    | nonzeros =       0 /      64 (  0.00%) | total_pruned =      64 | shape = (64,)\n",
            "layer1.0.conv2.weight | nonzeros =   36864 /   36864 (100.00%) | total_pruned =       0 | shape = (64, 64, 3, 3)\n",
            "layer1.0.bn2.weight  | nonzeros =      64 /      64 (100.00%) | total_pruned =       0 | shape = (64,)\n",
            "layer1.0.bn2.bias    | nonzeros =       0 /      64 (  0.00%) | total_pruned =      64 | shape = (64,)\n",
            "layer1.1.conv1.weight | nonzeros =   36864 /   36864 (100.00%) | total_pruned =       0 | shape = (64, 64, 3, 3)\n",
            "layer1.1.bn1.weight  | nonzeros =      64 /      64 (100.00%) | total_pruned =       0 | shape = (64,)\n",
            "layer1.1.bn1.bias    | nonzeros =       0 /      64 (  0.00%) | total_pruned =      64 | shape = (64,)\n",
            "layer1.1.conv2.weight | nonzeros =   36864 /   36864 (100.00%) | total_pruned =       0 | shape = (64, 64, 3, 3)\n",
            "layer1.1.bn2.weight  | nonzeros =      64 /      64 (100.00%) | total_pruned =       0 | shape = (64,)\n",
            "layer1.1.bn2.bias    | nonzeros =       0 /      64 (  0.00%) | total_pruned =      64 | shape = (64,)\n",
            "layer2.0.conv1.weight | nonzeros =   73728 /   73728 (100.00%) | total_pruned =       0 | shape = (128, 64, 3, 3)\n",
            "layer2.0.bn1.weight  | nonzeros =     128 /     128 (100.00%) | total_pruned =       0 | shape = (128,)\n",
            "layer2.0.bn1.bias    | nonzeros =       0 /     128 (  0.00%) | total_pruned =     128 | shape = (128,)\n",
            "layer2.0.conv2.weight | nonzeros =  147456 /  147456 (100.00%) | total_pruned =       0 | shape = (128, 128, 3, 3)\n",
            "layer2.0.bn2.weight  | nonzeros =     128 /     128 (100.00%) | total_pruned =       0 | shape = (128,)\n",
            "layer2.0.bn2.bias    | nonzeros =       0 /     128 (  0.00%) | total_pruned =     128 | shape = (128,)\n",
            "layer2.0.downsample.0.weight | nonzeros =    8192 /    8192 (100.00%) | total_pruned =       0 | shape = (128, 64, 1, 1)\n",
            "layer2.0.downsample.1.weight | nonzeros =     128 /     128 (100.00%) | total_pruned =       0 | shape = (128,)\n",
            "layer2.0.downsample.1.bias | nonzeros =       0 /     128 (  0.00%) | total_pruned =     128 | shape = (128,)\n",
            "layer2.1.conv1.weight | nonzeros =  147456 /  147456 (100.00%) | total_pruned =       0 | shape = (128, 128, 3, 3)\n",
            "layer2.1.bn1.weight  | nonzeros =     128 /     128 (100.00%) | total_pruned =       0 | shape = (128,)\n",
            "layer2.1.bn1.bias    | nonzeros =       0 /     128 (  0.00%) | total_pruned =     128 | shape = (128,)\n",
            "layer2.1.conv2.weight | nonzeros =  147456 /  147456 (100.00%) | total_pruned =       0 | shape = (128, 128, 3, 3)\n",
            "layer2.1.bn2.weight  | nonzeros =     128 /     128 (100.00%) | total_pruned =       0 | shape = (128,)\n",
            "layer2.1.bn2.bias    | nonzeros =       0 /     128 (  0.00%) | total_pruned =     128 | shape = (128,)\n",
            "layer3.0.conv1.weight | nonzeros =  294912 /  294912 (100.00%) | total_pruned =       0 | shape = (256, 128, 3, 3)\n",
            "layer3.0.bn1.weight  | nonzeros =     256 /     256 (100.00%) | total_pruned =       0 | shape = (256,)\n",
            "layer3.0.bn1.bias    | nonzeros =       0 /     256 (  0.00%) | total_pruned =     256 | shape = (256,)\n",
            "layer3.0.conv2.weight | nonzeros =  589824 /  589824 (100.00%) | total_pruned =       0 | shape = (256, 256, 3, 3)\n",
            "layer3.0.bn2.weight  | nonzeros =     256 /     256 (100.00%) | total_pruned =       0 | shape = (256,)\n",
            "layer3.0.bn2.bias    | nonzeros =       0 /     256 (  0.00%) | total_pruned =     256 | shape = (256,)\n",
            "layer3.0.downsample.0.weight | nonzeros =   32768 /   32768 (100.00%) | total_pruned =       0 | shape = (256, 128, 1, 1)\n",
            "layer3.0.downsample.1.weight | nonzeros =     256 /     256 (100.00%) | total_pruned =       0 | shape = (256,)\n",
            "layer3.0.downsample.1.bias | nonzeros =       0 /     256 (  0.00%) | total_pruned =     256 | shape = (256,)\n",
            "layer3.1.conv1.weight | nonzeros =  589824 /  589824 (100.00%) | total_pruned =       0 | shape = (256, 256, 3, 3)\n",
            "layer3.1.bn1.weight  | nonzeros =     256 /     256 (100.00%) | total_pruned =       0 | shape = (256,)\n",
            "layer3.1.bn1.bias    | nonzeros =       0 /     256 (  0.00%) | total_pruned =     256 | shape = (256,)\n",
            "layer3.1.conv2.weight | nonzeros =  589824 /  589824 (100.00%) | total_pruned =       0 | shape = (256, 256, 3, 3)\n",
            "layer3.1.bn2.weight  | nonzeros =     256 /     256 (100.00%) | total_pruned =       0 | shape = (256,)\n",
            "layer3.1.bn2.bias    | nonzeros =       0 /     256 (  0.00%) | total_pruned =     256 | shape = (256,)\n",
            "layer4.0.conv1.weight | nonzeros = 1179648 / 1179648 (100.00%) | total_pruned =       0 | shape = (512, 256, 3, 3)\n",
            "layer4.0.bn1.weight  | nonzeros =     512 /     512 (100.00%) | total_pruned =       0 | shape = (512,)\n",
            "layer4.0.bn1.bias    | nonzeros =       0 /     512 (  0.00%) | total_pruned =     512 | shape = (512,)\n",
            "layer4.0.conv2.weight | nonzeros = 2359296 / 2359296 (100.00%) | total_pruned =       0 | shape = (512, 512, 3, 3)\n",
            "layer4.0.bn2.weight  | nonzeros =     512 /     512 (100.00%) | total_pruned =       0 | shape = (512,)\n",
            "layer4.0.bn2.bias    | nonzeros =       0 /     512 (  0.00%) | total_pruned =     512 | shape = (512,)\n",
            "layer4.0.downsample.0.weight | nonzeros =  131072 /  131072 (100.00%) | total_pruned =       0 | shape = (512, 256, 1, 1)\n",
            "layer4.0.downsample.1.weight | nonzeros =     512 /     512 (100.00%) | total_pruned =       0 | shape = (512,)\n",
            "layer4.0.downsample.1.bias | nonzeros =       0 /     512 (  0.00%) | total_pruned =     512 | shape = (512,)\n",
            "layer4.1.conv1.weight | nonzeros = 2359296 / 2359296 (100.00%) | total_pruned =       0 | shape = (512, 512, 3, 3)\n",
            "layer4.1.bn1.weight  | nonzeros =     512 /     512 (100.00%) | total_pruned =       0 | shape = (512,)\n",
            "layer4.1.bn1.bias    | nonzeros =       0 /     512 (  0.00%) | total_pruned =     512 | shape = (512,)\n",
            "layer4.1.conv2.weight | nonzeros = 2359296 / 2359296 (100.00%) | total_pruned =       0 | shape = (512, 512, 3, 3)\n",
            "layer4.1.bn2.weight  | nonzeros =     512 /     512 (100.00%) | total_pruned =       0 | shape = (512,)\n",
            "layer4.1.bn2.bias    | nonzeros =       0 /     512 (  0.00%) | total_pruned =     512 | shape = (512,)\n",
            "fc.weight            | nonzeros =    5120 /    5120 (100.00%) | total_pruned =       0 | shape = (10, 512)\n",
            "fc.bias              | nonzeros =      10 /      10 (100.00%) | total_pruned =       0 | shape = (10,)\n",
            "alive: 11170570, pruned : 4800, total: 11175370, Compression rate :       1.00x  (  0.04% pruned)\n"
          ]
        },
        {
          "output_type": "stream",
          "name": "stderr",
          "text": [
            "\r  0%|          | 0/1 [00:00<?, ?it/s]"
          ]
        },
        {
          "output_type": "stream",
          "name": "stdout",
          "text": [
            "\n",
            "Training: 0/1 epochs\n"
          ]
        },
        {
          "output_type": "stream",
          "name": "stderr",
          "text": [
            "\n",
            "       0%|                                                  | 0/109 [00:00<?, ?it/s]\u001b[A\n",
            "       1%|▍                                                 | 1/109 [00:24<44:29, 24.72s/it]\u001b[A\n",
            "       2%|▉                                                 | 2/109 [00:47<42:12, 23.67s/it]\u001b[A\n",
            "       3%|█▍                                                | 3/109 [01:09<40:02, 22.67s/it]\u001b[A\n",
            "       4%|█▊                                                | 4/109 [01:33<40:51, 23.35s/it]\u001b[A\n",
            "       5%|██▎                                               | 5/109 [02:01<43:14, 24.95s/it]\u001b[A\n",
            "       6%|██▊                                               | 6/109 [02:25<42:28, 24.75s/it]\u001b[A\n",
            "       6%|███▏                                              | 7/109 [02:49<41:49, 24.60s/it]\u001b[A\n",
            "       7%|███▋                                              | 8/109 [03:15<41:44, 24.79s/it]\u001b[A\n",
            "       8%|████▏                                             | 9/109 [03:36<39:36, 23.77s/it]\u001b[A\n",
            "       9%|████▌                                             | 10/109 [04:16<47:33, 28.82s/it]\u001b[A\n",
            "      10%|█████                                             | 11/109 [04:34<41:19, 25.30s/it]\u001b[A\n",
            "      11%|█████▌                                            | 12/109 [04:49<36:02, 22.29s/it]\u001b[A\n",
            "      12%|█████▉                                            | 13/109 [05:07<33:38, 21.02s/it]\u001b[A\n",
            "      13%|██████▍                                           | 14/109 [05:28<33:04, 20.89s/it]\u001b[A\n",
            "      14%|██████▉                                           | 15/109 [05:52<34:13, 21.85s/it]\u001b[A\n",
            "      15%|███████▎                                          | 16/109 [06:19<36:14, 23.38s/it]\u001b[A\n",
            "      16%|███████▊                                          | 17/109 [06:38<33:43, 22.00s/it]\u001b[A\n",
            "      17%|████████▎                                         | 18/109 [07:02<34:33, 22.79s/it]\u001b[A\n",
            "      17%|████████▋                                         | 19/109 [07:22<33:04, 22.05s/it]\u001b[A\n",
            "      18%|█████████▏                                        | 20/109 [07:42<31:42, 21.37s/it]\u001b[A\n",
            "      19%|█████████▋                                        | 21/109 [08:02<30:35, 20.85s/it]\u001b[A\n",
            "      20%|██████████                                        | 22/109 [08:27<31:55, 22.02s/it]\u001b[A\n",
            "      21%|██████████▌                                       | 23/109 [08:43<28:59, 20.23s/it]\u001b[A\n",
            "      22%|███████████                                       | 24/109 [08:59<27:10, 19.18s/it]\u001b[A\n",
            "      23%|███████████▍                                      | 25/109 [09:21<27:47, 19.85s/it]\u001b[A\n",
            "      24%|███████████▉                                      | 26/109 [09:41<27:33, 19.92s/it]\u001b[A\n",
            "      25%|████████████▍                                     | 27/109 [10:05<28:46, 21.06s/it]\u001b[A\n",
            "      26%|████████████▊                                     | 28/109 [10:22<26:59, 20.00s/it]\u001b[A\n",
            "      27%|█████████████▎                                    | 29/109 [10:44<27:12, 20.40s/it]\u001b[A\n",
            "      28%|█████████████▊                                    | 30/109 [11:07<28:11, 21.42s/it]\u001b[A\n",
            "      28%|██████████████▏                                   | 31/109 [11:24<26:03, 20.04s/it]\u001b[A\n",
            "      29%|██████████████▋                                   | 32/109 [11:41<24:29, 19.08s/it]\u001b[A\n",
            "      30%|███████████████▏                                  | 33/109 [11:58<23:29, 18.55s/it]\u001b[A\n",
            "      31%|███████████████▌                                  | 34/109 [12:18<23:44, 19.00s/it]\u001b[A\n",
            "      32%|████████████████                                  | 35/109 [12:43<25:36, 20.76s/it]\u001b[A\n",
            "      33%|████████████████▌                                 | 36/109 [13:04<25:11, 20.71s/it]\u001b[A"
          ]
        },
        {
          "output_type": "stream",
          "name": "stdout",
          "text": [
            "\n",
            "Epoch: 0 : loss = 1.847 - acc1 = 37.023\n"
          ]
        },
        {
          "output_type": "stream",
          "name": "stderr",
          "text": [
            "\n",
            "      34%|████████████████▉                                 | 37/109 [13:22<23:50, 19.87s/it]\u001b[A\n",
            "      35%|█████████████████▍                                | 38/109 [13:40<22:50, 19.31s/it]\u001b[A\n",
            "      36%|█████████████████▉                                | 39/109 [13:57<21:51, 18.74s/it]\u001b[A\n",
            "      37%|██████████████████▎                               | 40/109 [14:12<20:21, 17.71s/it]\u001b[A\n",
            "      38%|██████████████████▊                               | 41/109 [14:29<19:45, 17.44s/it]\u001b[A\n",
            "      39%|███████████████████▎                              | 42/109 [14:48<19:47, 17.72s/it]\u001b[A\n",
            "      39%|███████████████████▋                              | 43/109 [15:04<19:09, 17.41s/it]\u001b[A\n",
            "      40%|████████████████████▏                             | 44/109 [15:25<19:58, 18.44s/it]\u001b[A\n",
            "      41%|████████████████████▋                             | 45/109 [15:45<20:01, 18.77s/it]\u001b[A\n",
            "      42%|█████████████████████                             | 46/109 [16:04<19:55, 18.98s/it]\u001b[A\n",
            "      43%|█████████████████████▌                            | 47/109 [16:27<20:43, 20.06s/it]\u001b[A\n",
            "      44%|██████████████████████                            | 48/109 [16:45<19:58, 19.64s/it]\u001b[A\n",
            "      45%|██████████████████████▍                           | 49/109 [17:09<20:52, 20.87s/it]\u001b[A\n",
            "      46%|██████████████████████▉                           | 50/109 [17:27<19:43, 20.06s/it]\u001b[A\n",
            "      47%|███████████████████████▍                          | 51/109 [17:45<18:35, 19.23s/it]\u001b[A\n",
            "      48%|███████████████████████▊                          | 52/109 [18:04<18:27, 19.42s/it]\u001b[A\n",
            "      49%|████████████████████████▎                         | 53/109 [18:26<18:44, 20.08s/it]\u001b[A\n",
            "      50%|████████████████████████▊                         | 54/109 [18:43<17:33, 19.16s/it]\u001b[A\n",
            "      50%|█████████████████████████▏                        | 55/109 [19:04<17:48, 19.79s/it]\u001b[A\n",
            "      51%|█████████████████████████▋                        | 56/109 [19:23<17:17, 19.58s/it]\u001b[A\n",
            "      52%|██████████████████████████▏                       | 57/109 [19:41<16:27, 19.00s/it]\u001b[A\n",
            "      53%|██████████████████████████▌                       | 58/109 [20:06<17:38, 20.76s/it]\u001b[A\n",
            "      54%|███████████████████████████                       | 59/109 [20:22<16:08, 19.37s/it]\u001b[A\n",
            "      55%|███████████████████████████▌                      | 60/109 [20:39<15:06, 18.49s/it]\u001b[A\n",
            "      56%|███████████████████████████▉                      | 61/109 [20:55<14:19, 17.91s/it]\u001b[A\n",
            "      57%|████████████████████████████▍                     | 62/109 [21:10<13:24, 17.13s/it]\u001b[A\n",
            "      58%|████████████████████████████▉                     | 63/109 [21:26<12:51, 16.78s/it]\u001b[A\n",
            "      59%|█████████████████████████████▎                    | 64/109 [21:44<12:52, 17.16s/it]\u001b[A\n",
            "      60%|█████████████████████████████▊                    | 65/109 [22:04<13:05, 17.85s/it]\u001b[A\n",
            "      61%|██████████████████████████████▎                   | 66/109 [22:24<13:13, 18.45s/it]\u001b[A\n",
            "      61%|██████████████████████████████▋                   | 67/109 [22:45<13:26, 19.21s/it]\u001b[A\n",
            "      62%|███████████████████████████████▏                  | 68/109 [23:03<13:01, 19.07s/it]\u001b[A\n",
            "      63%|███████████████████████████████▋                  | 69/109 [23:23<12:43, 19.08s/it]\u001b[A\n",
            "      64%|████████████████████████████████                  | 70/109 [23:41<12:21, 19.02s/it]\u001b[A\n",
            "      65%|████████████████████████████████▌                 | 71/109 [24:03<12:35, 19.89s/it]\u001b[A\n",
            "      66%|█████████████████████████████████                 | 72/109 [24:26<12:51, 20.86s/it]\u001b[A"
          ]
        },
        {
          "output_type": "stream",
          "name": "stdout",
          "text": [
            "\n",
            "Epoch: 0 : loss = 1.638 - acc1 = 41.602\n"
          ]
        },
        {
          "output_type": "stream",
          "name": "stderr",
          "text": [
            "\n",
            "      67%|█████████████████████████████████▍                | 73/109 [24:50<12:58, 21.63s/it]\u001b[A\n",
            "      68%|█████████████████████████████████▉                | 74/109 [25:12<12:44, 21.85s/it]\u001b[A\n",
            "      69%|██████████████████████████████████▍               | 75/109 [25:38<13:05, 23.09s/it]\u001b[A\n",
            "      70%|██████████████████████████████████▊               | 76/109 [26:04<13:10, 23.96s/it]\u001b[A\n",
            "      71%|███████████████████████████████████▎              | 77/109 [26:24<12:08, 22.78s/it]\u001b[A\n",
            "      72%|███████████████████████████████████▊              | 78/109 [26:41<10:52, 21.06s/it]\u001b[A\n",
            "      72%|████████████████████████████████████▏             | 79/109 [27:01<10:16, 20.55s/it]\u001b[A\n",
            "      73%|████████████████████████████████████▋             | 80/109 [27:18<09:28, 19.61s/it]\u001b[A\n",
            "      74%|█████████████████████████████████████▏            | 81/109 [27:38<09:11, 19.70s/it]\u001b[A\n",
            "      75%|█████████████████████████████████████▌            | 82/109 [27:59<09:06, 20.24s/it]\u001b[A\n",
            "      76%|██████████████████████████████████████            | 83/109 [28:18<08:33, 19.77s/it]\u001b[A\n",
            "      77%|██████████████████████████████████████▌           | 84/109 [28:36<07:56, 19.07s/it]\u001b[A\n",
            "      78%|██████████████████████████████████████▉           | 85/109 [28:56<07:49, 19.56s/it]\u001b[A\n",
            "      79%|███████████████████████████████████████▍          | 86/109 [29:17<07:40, 20.03s/it]\u001b[A\n",
            "      80%|███████████████████████████████████████▉          | 87/109 [29:42<07:50, 21.40s/it]\u001b[A\n",
            "      81%|████████████████████████████████████████▎         | 88/109 [30:01<07:13, 20.63s/it]\u001b[A\n",
            "      82%|████████████████████████████████████████▊         | 89/109 [30:24<07:05, 21.28s/it]\u001b[A\n",
            "      83%|█████████████████████████████████████████▎        | 90/109 [30:46<06:48, 21.52s/it]\u001b[A\n",
            "      83%|█████████████████████████████████████████▋        | 91/109 [31:07<06:28, 21.60s/it]\u001b[A\n",
            "      84%|██████████████████████████████████████████▏       | 92/109 [31:28<06:01, 21.25s/it]\u001b[A\n",
            "      85%|██████████████████████████████████████████▋       | 93/109 [31:49<05:39, 21.22s/it]\u001b[A\n",
            "      86%|███████████████████████████████████████████       | 94/109 [32:07<05:02, 20.18s/it]\u001b[A\n",
            "      87%|███████████████████████████████████████████▌      | 95/109 [32:31<04:59, 21.40s/it]\u001b[A\n",
            "      88%|████████████████████████████████████████████      | 96/109 [32:53<04:39, 21.50s/it]\u001b[A\n",
            "      89%|████████████████████████████████████████████▍     | 97/109 [33:14<04:15, 21.28s/it]\u001b[A\n",
            "      90%|████████████████████████████████████████████▉     | 98/109 [33:33<03:49, 20.85s/it]\u001b[A\n",
            "      91%|█████████████████████████████████████████████▍    | 99/109 [33:56<03:33, 21.36s/it]\u001b[A\n",
            "      92%|█████████████████████████████████████████████▊    | 100/109 [34:18<03:12, 21.43s/it]\u001b[A\n",
            "      93%|██████████████████████████████████████████████▎   | 101/109 [34:39<02:50, 21.34s/it]\u001b[A\n",
            "      94%|██████████████████████████████████████████████▊   | 102/109 [34:59<02:26, 20.96s/it]\u001b[A\n",
            "      94%|███████████████████████████████████████████████▏  | 103/109 [35:24<02:13, 22.21s/it]\u001b[A\n",
            "      95%|███████████████████████████████████████████████▋  | 104/109 [35:50<01:57, 23.48s/it]\u001b[A\n",
            "      96%|████████████████████████████████████████████████▏ | 105/109 [36:10<01:29, 22.41s/it]\u001b[A\n",
            "      97%|████████████████████████████████████████████████▌ | 106/109 [36:28<01:02, 20.87s/it]\u001b[A\n",
            "      98%|█████████████████████████████████████████████████ | 107/109 [36:54<00:45, 22.52s/it]\u001b[A\n",
            "      99%|█████████████████████████████████████████████████▌| 108/109 [37:13<00:21, 21.44s/it]\u001b[A"
          ]
        },
        {
          "output_type": "stream",
          "name": "stdout",
          "text": [
            "\n",
            "Epoch: 0 : loss = 1.516 - acc1 = 44.835\n"
          ]
        },
        {
          "output_type": "stream",
          "name": "stderr",
          "text": [
            "\n",
            "     100%|██████████████████████████████████████████████████| 109/109 [37:30<00:00, 20.65s/it]\n"
          ]
        },
        {
          "output_type": "stream",
          "name": "stdout",
          "text": [
            "\n",
            "Epoch: 0 : loss = 1.515 - acc1 = 44.882\n",
            "\n",
            "Test:\n"
          ]
        },
        {
          "output_type": "stream",
          "name": "stderr",
          "text": [
            "\n",
            "       0%|                                                  | 0/23 [00:00<?, ?it/s]\u001b[A\n",
            "       4%|██▏                                               | 1/23 [00:29<10:38, 29.02s/it]\u001b[A\n",
            "       9%|████▎                                             | 2/23 [00:47<07:57, 22.72s/it]\u001b[A\n",
            "      13%|██████▌                                           | 3/23 [01:05<06:51, 20.60s/it]\u001b[A\n",
            "      17%|████████▋                                         | 4/23 [01:23<06:12, 19.60s/it]\u001b[A\n",
            "      22%|██████████▊                                       | 5/23 [01:49<06:31, 21.75s/it]\u001b[A\n",
            "      26%|█████████████                                     | 6/23 [02:14<06:31, 23.06s/it]\u001b[A\n",
            "      30%|███████████████▏                                  | 7/23 [02:39<06:20, 23.79s/it]\u001b[A"
          ]
        },
        {
          "output_type": "stream",
          "name": "stdout",
          "text": [
            "\n",
            "Epoch: 1 : loss = 2.932 - acc1 = 28.125\n"
          ]
        },
        {
          "output_type": "stream",
          "name": "stderr",
          "text": [
            "\n",
            "      35%|█████████████████▍                                | 8/23 [03:03<05:56, 23.74s/it]\u001b[A\n",
            "      39%|███████████████████▌                              | 9/23 [03:33<05:59, 25.71s/it]\u001b[A\n",
            "      43%|█████████████████████▋                            | 10/23 [03:53<05:12, 24.02s/it]\u001b[A\n",
            "      48%|███████████████████████▉                          | 11/23 [04:20<04:57, 24.75s/it]\u001b[A\n",
            "      52%|██████████████████████████                        | 12/23 [04:45<04:33, 24.90s/it]\u001b[A\n",
            "      57%|████████████████████████████▎                     | 13/23 [05:05<03:53, 23.31s/it]\u001b[A\n",
            "      61%|██████████████████████████████▍                   | 14/23 [05:30<03:36, 24.07s/it]\u001b[A"
          ]
        },
        {
          "output_type": "stream",
          "name": "stdout",
          "text": [
            "\n",
            "Epoch: 1 : loss = 2.572 - acc1 = 35.156\n"
          ]
        },
        {
          "output_type": "stream",
          "name": "stderr",
          "text": [
            "\n",
            "      65%|████████████████████████████████▌                 | 15/23 [05:43<02:45, 20.70s/it]\u001b[A\n",
            "      70%|██████████████████████████████████▊               | 16/23 [05:57<02:09, 18.54s/it]\u001b[A\n",
            "      74%|████████████████████████████████████▉             | 17/23 [06:14<01:47, 17.97s/it]\u001b[A\n",
            "      78%|███████████████████████████████████████▏          | 18/23 [06:28<01:24, 16.97s/it]\u001b[A\n",
            "      83%|█████████████████████████████████████████▎        | 19/23 [06:49<01:12, 18.18s/it]\u001b[A\n",
            "      87%|███████████████████████████████████████████▍      | 20/23 [07:14<01:00, 20.29s/it]\u001b[A\n",
            "      91%|█████████████████████████████████████████████▋    | 21/23 [07:40<00:43, 21.85s/it]\u001b[A"
          ]
        },
        {
          "output_type": "stream",
          "name": "stdout",
          "text": [
            "\n",
            "Epoch: 1 : loss = 2.426 - acc1 = 29.836\n"
          ]
        },
        {
          "output_type": "stream",
          "name": "stderr",
          "text": [
            "\n",
            "      96%|███████████████████████████████████████████████▊  | 22/23 [08:09<00:23, 23.90s/it]\u001b[A\n",
            "     100%|██████████████████████████████████████████████████| 23/23 [08:32<00:00, 22.30s/it]\n"
          ]
        },
        {
          "output_type": "stream",
          "name": "stdout",
          "text": [
            "\n",
            "Epoch: 1 : loss = 2.390 - acc1 = 30.027\n"
          ]
        },
        {
          "output_type": "stream",
          "name": "stderr",
          "text": [
            "100%|██████████| 1/1 [46:03<00:00, 2763.66s/it]\n"
          ]
        },
        {
          "output_type": "stream",
          "name": "stdout",
          "text": [
            "Accuracy Of the model  0 = tensor(30.0272, device='cuda:0')\n",
            "conv1.weight         | nonzeros =    2822 /    3136 ( 89.99%) | total_pruned =     314 | shape = (64, 1, 7, 7)\n",
            "bn1.weight           | nonzeros =      57 /      64 ( 89.06%) | total_pruned =       7 | shape = (64,)\n",
            "bn1.bias             | nonzeros =       0 /      64 (  0.00%) | total_pruned =      64 | shape = (64,)\n",
            "layer1.0.conv1.weight | nonzeros =   33177 /   36864 ( 90.00%) | total_pruned =    3687 | shape = (64, 64, 3, 3)\n",
            "layer1.0.bn1.weight  | nonzeros =      57 /      64 ( 89.06%) | total_pruned =       7 | shape = (64,)\n",
            "layer1.0.bn1.bias    | nonzeros =       0 /      64 (  0.00%) | total_pruned =      64 | shape = (64,)\n",
            "layer1.0.conv2.weight | nonzeros =   33177 /   36864 ( 90.00%) | total_pruned =    3687 | shape = (64, 64, 3, 3)\n",
            "layer1.0.bn2.weight  | nonzeros =      57 /      64 ( 89.06%) | total_pruned =       7 | shape = (64,)\n",
            "layer1.0.bn2.bias    | nonzeros =       0 /      64 (  0.00%) | total_pruned =      64 | shape = (64,)\n",
            "layer1.1.conv1.weight | nonzeros =   33177 /   36864 ( 90.00%) | total_pruned =    3687 | shape = (64, 64, 3, 3)\n",
            "layer1.1.bn1.weight  | nonzeros =      57 /      64 ( 89.06%) | total_pruned =       7 | shape = (64,)\n",
            "layer1.1.bn1.bias    | nonzeros =       0 /      64 (  0.00%) | total_pruned =      64 | shape = (64,)\n",
            "layer1.1.conv2.weight | nonzeros =   33177 /   36864 ( 90.00%) | total_pruned =    3687 | shape = (64, 64, 3, 3)\n",
            "layer1.1.bn2.weight  | nonzeros =      57 /      64 ( 89.06%) | total_pruned =       7 | shape = (64,)\n",
            "layer1.1.bn2.bias    | nonzeros =       0 /      64 (  0.00%) | total_pruned =      64 | shape = (64,)\n",
            "layer2.0.conv1.weight | nonzeros =   66355 /   73728 ( 90.00%) | total_pruned =    7373 | shape = (128, 64, 3, 3)\n",
            "layer2.0.bn1.weight  | nonzeros =     115 /     128 ( 89.84%) | total_pruned =      13 | shape = (128,)\n",
            "layer2.0.bn1.bias    | nonzeros =       0 /     128 (  0.00%) | total_pruned =     128 | shape = (128,)\n",
            "layer2.0.conv2.weight | nonzeros =  132710 /  147456 ( 90.00%) | total_pruned =   14746 | shape = (128, 128, 3, 3)\n",
            "layer2.0.bn2.weight  | nonzeros =     115 /     128 ( 89.84%) | total_pruned =      13 | shape = (128,)\n",
            "layer2.0.bn2.bias    | nonzeros =       0 /     128 (  0.00%) | total_pruned =     128 | shape = (128,)\n",
            "layer2.0.downsample.0.weight | nonzeros =    7372 /    8192 ( 89.99%) | total_pruned =     820 | shape = (128, 64, 1, 1)\n",
            "layer2.0.downsample.1.weight | nonzeros =     115 /     128 ( 89.84%) | total_pruned =      13 | shape = (128,)\n",
            "layer2.0.downsample.1.bias | nonzeros =       0 /     128 (  0.00%) | total_pruned =     128 | shape = (128,)\n",
            "layer2.1.conv1.weight | nonzeros =  132710 /  147456 ( 90.00%) | total_pruned =   14746 | shape = (128, 128, 3, 3)\n",
            "layer2.1.bn1.weight  | nonzeros =     115 /     128 ( 89.84%) | total_pruned =      13 | shape = (128,)\n",
            "layer2.1.bn1.bias    | nonzeros =       0 /     128 (  0.00%) | total_pruned =     128 | shape = (128,)\n",
            "layer2.1.conv2.weight | nonzeros =  132710 /  147456 ( 90.00%) | total_pruned =   14746 | shape = (128, 128, 3, 3)\n",
            "layer2.1.bn2.weight  | nonzeros =     115 /     128 ( 89.84%) | total_pruned =      13 | shape = (128,)\n",
            "layer2.1.bn2.bias    | nonzeros =       0 /     128 (  0.00%) | total_pruned =     128 | shape = (128,)\n",
            "layer3.0.conv1.weight | nonzeros =  265420 /  294912 ( 90.00%) | total_pruned =   29492 | shape = (256, 128, 3, 3)\n",
            "layer3.0.bn1.weight  | nonzeros =     230 /     256 ( 89.84%) | total_pruned =      26 | shape = (256,)\n",
            "layer3.0.bn1.bias    | nonzeros =       0 /     256 (  0.00%) | total_pruned =     256 | shape = (256,)\n",
            "layer3.0.conv2.weight | nonzeros =  530841 /  589824 ( 90.00%) | total_pruned =   58983 | shape = (256, 256, 3, 3)\n",
            "layer3.0.bn2.weight  | nonzeros =     230 /     256 ( 89.84%) | total_pruned =      26 | shape = (256,)\n",
            "layer3.0.bn2.bias    | nonzeros =       0 /     256 (  0.00%) | total_pruned =     256 | shape = (256,)\n",
            "layer3.0.downsample.0.weight | nonzeros =   29491 /   32768 ( 90.00%) | total_pruned =    3277 | shape = (256, 128, 1, 1)\n",
            "layer3.0.downsample.1.weight | nonzeros =     230 /     256 ( 89.84%) | total_pruned =      26 | shape = (256,)\n",
            "layer3.0.downsample.1.bias | nonzeros =       0 /     256 (  0.00%) | total_pruned =     256 | shape = (256,)\n",
            "layer3.1.conv1.weight | nonzeros =  530841 /  589824 ( 90.00%) | total_pruned =   58983 | shape = (256, 256, 3, 3)\n",
            "layer3.1.bn1.weight  | nonzeros =     230 /     256 ( 89.84%) | total_pruned =      26 | shape = (256,)\n",
            "layer3.1.bn1.bias    | nonzeros =       0 /     256 (  0.00%) | total_pruned =     256 | shape = (256,)\n",
            "layer3.1.conv2.weight | nonzeros =  530841 /  589824 ( 90.00%) | total_pruned =   58983 | shape = (256, 256, 3, 3)\n",
            "layer3.1.bn2.weight  | nonzeros =     230 /     256 ( 89.84%) | total_pruned =      26 | shape = (256,)\n",
            "layer3.1.bn2.bias    | nonzeros =       0 /     256 (  0.00%) | total_pruned =     256 | shape = (256,)\n",
            "layer4.0.conv1.weight | nonzeros = 1061683 / 1179648 ( 90.00%) | total_pruned =  117965 | shape = (512, 256, 3, 3)\n",
            "layer4.0.bn1.weight  | nonzeros =     460 /     512 ( 89.84%) | total_pruned =      52 | shape = (512,)\n",
            "layer4.0.bn1.bias    | nonzeros =       0 /     512 (  0.00%) | total_pruned =     512 | shape = (512,)\n",
            "layer4.0.conv2.weight | nonzeros = 2123366 / 2359296 ( 90.00%) | total_pruned =  235930 | shape = (512, 512, 3, 3)\n",
            "layer4.0.bn2.weight  | nonzeros =     460 /     512 ( 89.84%) | total_pruned =      52 | shape = (512,)\n",
            "layer4.0.bn2.bias    | nonzeros =       0 /     512 (  0.00%) | total_pruned =     512 | shape = (512,)\n",
            "layer4.0.downsample.0.weight | nonzeros =  117964 /  131072 ( 90.00%) | total_pruned =   13108 | shape = (512, 256, 1, 1)\n",
            "layer4.0.downsample.1.weight | nonzeros =     460 /     512 ( 89.84%) | total_pruned =      52 | shape = (512,)\n",
            "layer4.0.downsample.1.bias | nonzeros =       0 /     512 (  0.00%) | total_pruned =     512 | shape = (512,)\n",
            "layer4.1.conv1.weight | nonzeros = 2123366 / 2359296 ( 90.00%) | total_pruned =  235930 | shape = (512, 512, 3, 3)\n",
            "layer4.1.bn1.weight  | nonzeros =     460 /     512 ( 89.84%) | total_pruned =      52 | shape = (512,)\n",
            "layer4.1.bn1.bias    | nonzeros =       0 /     512 (  0.00%) | total_pruned =     512 | shape = (512,)\n",
            "layer4.1.conv2.weight | nonzeros = 2123366 / 2359296 ( 90.00%) | total_pruned =  235930 | shape = (512, 512, 3, 3)\n",
            "layer4.1.bn2.weight  | nonzeros =     460 /     512 ( 89.84%) | total_pruned =      52 | shape = (512,)\n",
            "layer4.1.bn2.bias    | nonzeros =       0 /     512 (  0.00%) | total_pruned =     512 | shape = (512,)\n",
            "fc.weight            | nonzeros =    4608 /    5120 ( 90.00%) | total_pruned =     512 | shape = (10, 512)\n",
            "fc.bias              | nonzeros =      10 /      10 (100.00%) | total_pruned =       0 | shape = (10,)\n",
            "alive: 10053494, pruned : 1121876, total: 11175370, Compression rate :       1.11x  ( 10.04% pruned)\n"
          ]
        },
        {
          "output_type": "stream",
          "name": "stderr",
          "text": [
            "\r  0%|          | 0/1 [00:00<?, ?it/s]"
          ]
        },
        {
          "output_type": "stream",
          "name": "stdout",
          "text": [
            "\n",
            "Training: 1/1 epochs\n"
          ]
        },
        {
          "output_type": "stream",
          "name": "stderr",
          "text": [
            "\n",
            "       0%|                                                  | 0/109 [00:00<?, ?it/s]\u001b[A\n",
            "       1%|▍                                                 | 1/109 [00:14<26:41, 14.83s/it]\u001b[A\n",
            "       2%|▉                                                 | 2/109 [00:25<22:00, 12.34s/it]\u001b[A\n",
            "       3%|█▍                                                | 3/109 [00:36<20:57, 11.86s/it]\u001b[A\n",
            "       4%|█▊                                                | 4/109 [00:50<21:45, 12.43s/it]\u001b[A\n",
            "       5%|██▎                                               | 5/109 [01:02<21:34, 12.45s/it]\u001b[A\n",
            "       6%|██▊                                               | 6/109 [01:13<20:34, 11.99s/it]\u001b[A\n",
            "       6%|███▏                                              | 7/109 [01:21<18:16, 10.75s/it]\u001b[A\n",
            "       7%|███▋                                              | 8/109 [01:31<17:18, 10.28s/it]\u001b[A\n",
            "       8%|████▏                                             | 9/109 [01:41<17:06, 10.27s/it]\u001b[A\n",
            "       9%|████▌                                             | 10/109 [01:52<17:27, 10.58s/it]\u001b[A\n",
            "      10%|█████                                             | 11/109 [02:03<17:36, 10.78s/it]\u001b[A\n",
            "      11%|█████▌                                            | 12/109 [02:13<16:47, 10.39s/it]\u001b[A\n",
            "      12%|█████▉                                            | 13/109 [02:23<16:26, 10.28s/it]\u001b[A\n",
            "      13%|██████▍                                           | 14/109 [02:37<18:18, 11.56s/it]\u001b[A\n",
            "      14%|██████▉                                           | 15/109 [02:50<18:46, 11.98s/it]\u001b[A\n",
            "      15%|███████▎                                          | 16/109 [03:03<18:52, 12.18s/it]\u001b[A\n",
            "      16%|███████▊                                          | 17/109 [03:14<18:13, 11.89s/it]\u001b[A\n",
            "      17%|████████▎                                         | 18/109 [03:25<17:38, 11.64s/it]\u001b[A\n",
            "      17%|████████▋                                         | 19/109 [03:37<17:37, 11.75s/it]\u001b[A\n",
            "      18%|█████████▏                                        | 20/109 [03:48<16:51, 11.37s/it]\u001b[A\n",
            "      19%|█████████▋                                        | 21/109 [04:01<17:38, 12.03s/it]\u001b[A\n",
            "      20%|██████████                                        | 22/109 [04:14<17:52, 12.33s/it]\u001b[A\n",
            "      21%|██████████▌                                       | 23/109 [04:29<18:28, 12.89s/it]\u001b[A\n",
            "      22%|███████████                                       | 24/109 [04:43<18:56, 13.37s/it]\u001b[A\n",
            "      23%|███████████▍                                      | 25/109 [04:55<18:20, 13.10s/it]\u001b[A\n",
            "      24%|███████████▉                                      | 26/109 [05:06<17:14, 12.46s/it]\u001b[A\n",
            "      25%|████████████▍                                     | 27/109 [05:23<18:33, 13.58s/it]\u001b[A\n",
            "      26%|████████████▊                                     | 28/109 [05:37<18:43, 13.87s/it]\u001b[A\n",
            "      27%|█████████████▎                                    | 29/109 [05:52<18:55, 14.19s/it]\u001b[A\n",
            "      28%|█████████████▊                                    | 30/109 [06:10<20:05, 15.26s/it]\u001b[A\n",
            "      28%|██████████████▏                                   | 31/109 [06:23<18:48, 14.47s/it]\u001b[A\n",
            "      29%|██████████████▋                                   | 32/109 [06:37<18:42, 14.58s/it]\u001b[A\n",
            "      30%|███████████████▏                                  | 33/109 [06:55<19:32, 15.42s/it]\u001b[A\n",
            "      31%|███████████████▌                                  | 34/109 [07:12<20:00, 16.01s/it]\u001b[A\n",
            "      32%|████████████████                                  | 35/109 [07:27<19:09, 15.54s/it]\u001b[A\n",
            "      33%|████████████████▌                                 | 36/109 [07:39<17:44, 14.58s/it]\u001b[A"
          ]
        },
        {
          "output_type": "stream",
          "name": "stdout",
          "text": [
            "\n",
            "Epoch: 1 : loss = 1.725 - acc1 = 37.326\n"
          ]
        },
        {
          "output_type": "stream",
          "name": "stderr",
          "text": [
            "\n",
            "      34%|████████████████▉                                 | 37/109 [07:56<18:34, 15.48s/it]\u001b[A\n",
            "      35%|█████████████████▍                                | 38/109 [08:10<17:42, 14.97s/it]\u001b[A\n",
            "      36%|█████████████████▉                                | 39/109 [08:27<18:01, 15.45s/it]\u001b[A\n",
            "      37%|██████████████████▎                               | 40/109 [08:43<17:57, 15.62s/it]\u001b[A\n",
            "      38%|██████████████████▊                               | 41/109 [08:59<17:42, 15.63s/it]\u001b[A\n",
            "      39%|███████████████████▎                              | 42/109 [09:17<18:15, 16.36s/it]\u001b[A\n",
            "      39%|███████████████████▋                              | 43/109 [09:36<19:01, 17.29s/it]\u001b[A\n",
            "      40%|████████████████████▏                             | 44/109 [09:51<18:00, 16.62s/it]\u001b[A\n",
            "      41%|████████████████████▋                             | 45/109 [10:07<17:38, 16.53s/it]\u001b[A\n",
            "      42%|█████████████████████                             | 46/109 [10:25<17:36, 16.77s/it]\u001b[A\n",
            "      43%|█████████████████████▌                            | 47/109 [10:42<17:26, 16.89s/it]\u001b[A\n",
            "      44%|██████████████████████                            | 48/109 [11:00<17:23, 17.11s/it]\u001b[A\n",
            "      45%|██████████████████████▍                           | 49/109 [11:19<17:52, 17.88s/it]\u001b[A\n",
            "      46%|██████████████████████▉                           | 50/109 [11:36<17:08, 17.43s/it]\u001b[A\n",
            "      47%|███████████████████████▍                          | 51/109 [11:57<18:05, 18.71s/it]\u001b[A\n",
            "      48%|███████████████████████▊                          | 52/109 [12:16<17:49, 18.77s/it]\u001b[A\n",
            "      49%|████████████████████████▎                         | 53/109 [12:29<15:55, 17.06s/it]\u001b[A\n",
            "      50%|████████████████████████▊                         | 54/109 [12:43<14:39, 15.99s/it]\u001b[A\n",
            "      50%|█████████████████████████▏                        | 55/109 [13:00<14:36, 16.24s/it]\u001b[A\n",
            "      51%|█████████████████████████▋                        | 56/109 [13:18<14:58, 16.96s/it]\u001b[A\n",
            "      52%|██████████████████████████▏                       | 57/109 [13:33<14:03, 16.22s/it]\u001b[A\n",
            "      53%|██████████████████████████▌                       | 58/109 [13:48<13:25, 15.80s/it]\u001b[A\n",
            "      54%|███████████████████████████                       | 59/109 [14:08<14:26, 17.34s/it]\u001b[A\n",
            "      55%|███████████████████████████▌                      | 60/109 [14:28<14:40, 17.97s/it]\u001b[A\n",
            "      56%|███████████████████████████▉                      | 61/109 [14:51<15:42, 19.64s/it]\u001b[A\n",
            "      57%|████████████████████████████▍                     | 62/109 [15:11<15:15, 19.47s/it]\u001b[A\n",
            "      58%|████████████████████████████▉                     | 63/109 [15:32<15:23, 20.08s/it]\u001b[A\n",
            "      59%|█████████████████████████████▎                    | 64/109 [15:52<14:58, 19.97s/it]\u001b[A\n",
            "      60%|█████████████████████████████▊                    | 65/109 [16:13<15:01, 20.49s/it]\u001b[A\n",
            "      61%|██████████████████████████████▎                   | 66/109 [16:34<14:46, 20.62s/it]\u001b[A\n",
            "      61%|██████████████████████████████▋                   | 67/109 [16:55<14:31, 20.76s/it]\u001b[A\n",
            "      62%|███████████████████████████████▏                  | 68/109 [17:15<14:02, 20.54s/it]\u001b[A\n",
            "      63%|███████████████████████████████▋                  | 69/109 [17:40<14:27, 21.70s/it]\u001b[A\n",
            "      64%|████████████████████████████████                  | 70/109 [18:01<13:59, 21.52s/it]\u001b[A\n",
            "      65%|████████████████████████████████▌                 | 71/109 [18:23<13:44, 21.70s/it]\u001b[A\n",
            "      66%|█████████████████████████████████                 | 72/109 [18:43<12:59, 21.07s/it]\u001b[A"
          ]
        },
        {
          "output_type": "stream",
          "name": "stdout",
          "text": [
            "\n",
            "Epoch: 1 : loss = 1.525 - acc1 = 43.490\n"
          ]
        },
        {
          "output_type": "stream",
          "name": "stderr",
          "text": [
            "\n",
            "      67%|█████████████████████████████████▍                | 73/109 [19:00<11:56, 19.91s/it]\u001b[A\n",
            "      68%|█████████████████████████████████▉                | 74/109 [19:16<10:56, 18.76s/it]\u001b[A\n",
            "      69%|██████████████████████████████████▍               | 75/109 [19:34<10:32, 18.59s/it]\u001b[A\n",
            "      70%|██████████████████████████████████▊               | 76/109 [20:02<11:46, 21.40s/it]\u001b[A\n",
            "      71%|███████████████████████████████████▎              | 77/109 [20:22<11:07, 20.86s/it]\u001b[A\n",
            "      72%|███████████████████████████████████▊              | 78/109 [20:44<10:58, 21.24s/it]\u001b[A\n",
            "      72%|████████████████████████████████████▏             | 79/109 [21:08<10:59, 21.97s/it]\u001b[A\n",
            "      73%|████████████████████████████████████▋             | 80/109 [21:35<11:21, 23.49s/it]\u001b[A\n",
            "      74%|█████████████████████████████████████▏            | 81/109 [21:57<10:50, 23.22s/it]\u001b[A\n",
            "      75%|█████████████████████████████████████▌            | 82/109 [22:19<10:17, 22.87s/it]\u001b[A\n",
            "      76%|██████████████████████████████████████            | 83/109 [22:40<09:37, 22.22s/it]\u001b[A\n",
            "      77%|██████████████████████████████████████▌           | 84/109 [23:02<09:16, 22.24s/it]\u001b[A\n",
            "      78%|██████████████████████████████████████▉           | 85/109 [23:25<08:55, 22.30s/it]\u001b[A\n",
            "      79%|███████████████████████████████████████▍          | 86/109 [23:49<08:45, 22.87s/it]\u001b[A\n",
            "      80%|███████████████████████████████████████▉          | 87/109 [24:10<08:14, 22.47s/it]\u001b[A\n",
            "      81%|████████████████████████████████████████▎         | 88/109 [24:37<08:17, 23.70s/it]\u001b[A\n",
            "      82%|████████████████████████████████████████▊         | 89/109 [24:58<07:35, 22.78s/it]\u001b[A\n",
            "      83%|█████████████████████████████████████████▎        | 90/109 [25:21<07:15, 22.91s/it]\u001b[A\n",
            "      83%|█████████████████████████████████████████▋        | 91/109 [25:42<06:41, 22.28s/it]\u001b[A\n",
            "      84%|██████████████████████████████████████████▏       | 92/109 [26:00<05:57, 21.00s/it]\u001b[A\n",
            "      85%|██████████████████████████████████████████▋       | 93/109 [26:23<05:47, 21.71s/it]\u001b[A\n",
            "      86%|███████████████████████████████████████████       | 94/109 [26:45<05:26, 21.76s/it]\u001b[A\n",
            "      87%|███████████████████████████████████████████▌      | 95/109 [27:10<05:18, 22.74s/it]\u001b[A\n",
            "      88%|████████████████████████████████████████████      | 96/109 [27:29<04:40, 21.61s/it]\u001b[A\n",
            "      89%|████████████████████████████████████████████▍     | 97/109 [27:50<04:18, 21.53s/it]\u001b[A\n",
            "      90%|████████████████████████████████████████████▉     | 98/109 [28:09<03:48, 20.74s/it]\u001b[A\n",
            "      91%|█████████████████████████████████████████████▍    | 99/109 [28:32<03:34, 21.49s/it]\u001b[A\n",
            "      92%|█████████████████████████████████████████████▊    | 100/109 [29:00<03:30, 23.40s/it]\u001b[A\n",
            "      93%|██████████████████████████████████████████████▎   | 101/109 [29:25<03:10, 23.77s/it]\u001b[A\n",
            "      94%|██████████████████████████████████████████████▊   | 102/109 [29:54<02:57, 25.31s/it]\u001b[A\n",
            "      94%|███████████████████████████████████████████████▏  | 103/109 [30:20<02:33, 25.60s/it]\u001b[A\n",
            "      95%|███████████████████████████████████████████████▋  | 104/109 [30:47<02:10, 26.11s/it]\u001b[A\n",
            "      96%|████████████████████████████████████████████████▏ | 105/109 [31:15<01:46, 26.62s/it]\u001b[A\n",
            "      97%|████████████████████████████████████████████████▌ | 106/109 [31:42<01:19, 26.58s/it]\u001b[A\n",
            "      98%|█████████████████████████████████████████████████ | 107/109 [32:07<00:52, 26.18s/it]\u001b[A\n",
            "      99%|█████████████████████████████████████████████████▌| 108/109 [32:29<00:25, 25.11s/it]\u001b[A"
          ]
        },
        {
          "output_type": "stream",
          "name": "stdout",
          "text": [
            "\n",
            "Epoch: 1 : loss = 1.418 - acc1 = 47.309\n"
          ]
        },
        {
          "output_type": "stream",
          "name": "stderr",
          "text": [
            "\n",
            "     100%|██████████████████████████████████████████████████| 109/109 [32:56<00:00, 18.14s/it]\n"
          ]
        },
        {
          "output_type": "stream",
          "name": "stdout",
          "text": [
            "\n",
            "Epoch: 1 : loss = 1.415 - acc1 = 47.420\n",
            "\n",
            "Test:\n"
          ]
        },
        {
          "output_type": "stream",
          "name": "stderr",
          "text": [
            "\n",
            "       0%|                                                  | 0/23 [00:00<?, ?it/s]\u001b[A\n",
            "       4%|██▏                                               | 1/23 [00:27<09:58, 27.21s/it]\u001b[A\n",
            "       9%|████▎                                             | 2/23 [00:53<09:14, 26.38s/it]\u001b[A\n",
            "      13%|██████▌                                           | 3/23 [01:13<07:54, 23.72s/it]\u001b[A\n",
            "      17%|████████▋                                         | 4/23 [01:38<07:40, 24.22s/it]\u001b[A\n",
            "      22%|██████████▊                                       | 5/23 [02:03<07:22, 24.59s/it]\u001b[A\n",
            "      26%|█████████████                                     | 6/23 [02:22<06:26, 22.75s/it]\u001b[A\n",
            "      30%|███████████████▏                                  | 7/23 [02:48<06:16, 23.53s/it]\u001b[A"
          ]
        },
        {
          "output_type": "stream",
          "name": "stdout",
          "text": [
            "\n",
            "Epoch: 2 : loss = 6.779 - acc1 = 1.563\n"
          ]
        },
        {
          "output_type": "stream",
          "name": "stderr",
          "text": [
            "\n",
            "      35%|█████████████████▍                                | 8/23 [03:12<05:58, 23.91s/it]\u001b[A\n",
            "      39%|███████████████████▌                              | 9/23 [03:37<05:37, 24.10s/it]\u001b[A\n",
            "      43%|█████████████████████▋                            | 10/23 [04:06<05:32, 25.57s/it]\u001b[A\n",
            "      48%|███████████████████████▉                          | 11/23 [04:31<05:04, 25.36s/it]\u001b[A\n",
            "      52%|██████████████████████████                        | 12/23 [04:54<04:31, 24.72s/it]\u001b[A\n",
            "      57%|████████████████████████████▎                     | 13/23 [05:21<04:14, 25.45s/it]\u001b[A\n",
            "      61%|██████████████████████████████▍                   | 14/23 [05:40<03:32, 23.63s/it]\u001b[A"
          ]
        },
        {
          "output_type": "stream",
          "name": "stdout",
          "text": [
            "\n",
            "Epoch: 2 : loss = 5.942 - acc1 = 3.237\n"
          ]
        },
        {
          "output_type": "stream",
          "name": "stderr",
          "text": [
            "\n",
            "      65%|████████████████████████████████▌                 | 15/23 [05:54<02:44, 20.54s/it]\u001b[A\n",
            "      70%|██████████████████████████████████▊               | 16/23 [06:08<02:09, 18.52s/it]\u001b[A\n",
            "      74%|████████████████████████████████████▉             | 17/23 [06:23<01:45, 17.61s/it]\u001b[A\n",
            "      78%|███████████████████████████████████████▏          | 18/23 [06:40<01:27, 17.52s/it]\u001b[A\n",
            "      83%|█████████████████████████████████████████▎        | 19/23 [07:02<01:15, 18.87s/it]\u001b[A\n",
            "      87%|███████████████████████████████████████████▍      | 20/23 [07:26<01:00, 20.22s/it]\u001b[A\n",
            "      91%|█████████████████████████████████████████████▋    | 21/23 [07:50<00:42, 21.32s/it]\u001b[A"
          ]
        },
        {
          "output_type": "stream",
          "name": "stdout",
          "text": [
            "\n",
            "Epoch: 2 : loss = 5.001 - acc1 = 10.268\n"
          ]
        },
        {
          "output_type": "stream",
          "name": "stderr",
          "text": [
            "\n",
            "      96%|███████████████████████████████████████████████▊  | 22/23 [08:11<00:21, 21.28s/it]\u001b[A\n",
            "     100%|██████████████████████████████████████████████████| 23/23 [08:36<00:00, 22.45s/it]\n",
            "100%|██████████| 1/1 [41:33<00:00, 2493.19s/it]"
          ]
        },
        {
          "output_type": "stream",
          "name": "stdout",
          "text": [
            "\n",
            "Epoch: 2 : loss = 4.655 - acc1 = 13.723\n",
            "Accuracy Of the model  1 = tensor(30.0272, device='cuda:0')\n"
          ]
        },
        {
          "output_type": "stream",
          "name": "stderr",
          "text": [
            "\n"
          ]
        }
      ],
      "source": [
        "for _ite in range(0, ITERATION):\n",
        "\n",
        "        if not _ite == 0:\n",
        "            prune_by_percentile(prune_percent, resample=resample, reinit=reinit)\n",
        "            if reinit:\n",
        "                model.apply(weight_init)\n",
        "                for name, param in model.named_parameters():\n",
        "                    if 'weight' in name:\n",
        "                        weight_dev = param.device\n",
        "                        param.data = torch.from_numpy(param.data.cpu().numpy() * mask[step]).to(weight_dev)\n",
        "                        step = step + 1\n",
        "                step = 0\n",
        "            else:\n",
        "                original_initialization(mask, initial_state_dict)\n",
        "        # Print the table of Nonzeros in each layer\n",
        "\n",
        "        comp1 = print_nonzeros(model)\n",
        "        comp[_ite] = comp1\n",
        "\n",
        "        pbar = tqdm(range(epoch))\n",
        "        valid_freq = 2\n",
        "        print_frequency = 10\n",
        "        for iter_ in pbar:\n",
        "\n",
        "          # Training\n",
        "          loss,accuracy = mng.one_epoch(training=True)\n",
        "          mng.current_epoch +=1\n",
        "          all_loss[iter_] = loss\n",
        "          all_accuracy[iter_] = accuracy\n",
        "          \n",
        "            # Frequency for Testing\n",
        "          if iter_ %valid_freq == 0:\n",
        "              _,accuracy = mng.one_epoch(training=False)\n",
        "              # Save Weights\n",
        "              if accuracy > best_accuracy:\n",
        "                  best_accuracy = accuracy\n",
        "                  #utils.checkdir(f\"{os.getcwd()}/saves/{args.arch_type}/{args.dataset}/\")\n",
        "                  torch.save(model,f\"{os.getcwd()}/saves/{_ite}_model_.pth.tar\")\n",
        "                  \n",
        "          # Frequency for Printing Accuracy and Loss\n",
        "          #if iter_ % print_frequency == 0:\n",
        "          #    pbar.set_description(\n",
        "            #       f'Train Epoch: {iter_}/{Iteration} Loss: {loss:.6f} Accuracy: {accuracy:.2f}% Best Accuracy: {best_accuracy:.2f}%')       \n",
        "        print('Accuracy Of the model ', _ite, '=', best_accuracy)\n",
        "        bestacc[_ite] = best_accuracy"
      ]
    },
    {
      "cell_type": "code",
      "source": [
        "loader_train = DataLoader(\n",
        "    train_dataset,\n",
        "    batch_size=batchsize,\n",
        "    shuffle=True,\n",
        "    pin_memory=True,\n",
        "    num_workers=num_workers,\n",
        "    drop_last=True,\n",
        ")\n",
        "\n",
        "loader_test = DataLoader(\n",
        "    test_dataset,\n",
        "    batch_size=batchsize,\n",
        "    shuffle=False,\n",
        "    pin_memory=True,\n",
        "    num_workers=num_workers,\n",
        "    drop_last=True,\n",
        ")\n",
        "model_resnet_2 = models.resnet18(pretrained=False,progress=True)\n",
        "model_resnet_2.fc = torch.nn.Linear(in_features=512,out_features=10)\n",
        "model_resnet_2.conv1 = nn.Conv2d(1, 64, kernel_size=7, stride=2, padding=3, bias=False)\n",
        "\n",
        "\n",
        "# --- Get network\n",
        "spectrogram = LogMelSpectrogram()\n",
        "model_2 = model_resnet_2\n",
        "# Weight Initialization\n",
        "model_2.apply(weight_init)\n",
        "\n",
        "print(\"\\n\\nNet at training time\")\n",
        "print(model_2)\n",
        "\n",
        "# ---\n",
        "optim = torch.optim.AdamW(\n",
        "    [\n",
        "        {\"params\": model_2.parameters()},\n",
        "    ],\n",
        "    lr=lr,\n",
        "    weight_decay=weight_decay\n",
        ")\n",
        "scheduler = torch.optim.lr_scheduler.CosineAnnealingLR(\n",
        "    optim,\n",
        "    epoch,\n",
        "    eta_min=eta_min\n",
        ")\n",
        "\n",
        "# --- Log dir\n",
        "path2log = out_dir\n",
        "\n",
        "# --- Training\n",
        "mng_2 = TrainingManager(\n",
        "    model_2,\n",
        "    spectrogram,\n",
        "    loader_train,\n",
        "    loader_test,\n",
        "    optim,\n",
        "    scheduler,\n",
        "    epoch ,\n",
        "    reload,\n",
        "    mixup_alpha,\n",
        "    path2log\n",
        ")\n",
        "\n",
        "make_mask(model_2)\n",
        "initial_state_dict = copy.deepcopy(model_2.state_dict())\n",
        "#mng_2.train()\n",
        "\n",
        "\n",
        "# Pruning\n",
        "# NOTE First Pruning Iteration is of No Compression\n",
        "bestacc = 0.0\n",
        "best_accuracy = 0\n",
        "ITERATION = 2\n",
        "comp = np.zeros(ITERATION,float)\n",
        "bestacc = np.zeros(ITERATION,float)\n",
        "step = 0\n",
        "all_loss = np.zeros(epoch,float)\n",
        "all_accuracy = np.zeros(epoch,float)\n",
        "prune_percent = 70\n",
        "resample = False\n",
        "reinit = False\n"
      ],
      "metadata": {
        "id": "qchaPUbU74IN",
        "colab": {
          "base_uri": "https://localhost:8080/"
        },
        "outputId": "0bcd7131-2597-4266-860c-4fa27eb7d0a2"
      },
      "execution_count": null,
      "outputs": [
        {
          "output_type": "stream",
          "name": "stdout",
          "text": [
            "\n",
            "\n",
            "Net at training time\n",
            "ResNet(\n",
            "  (conv1): Conv2d(1, 64, kernel_size=(7, 7), stride=(2, 2), padding=(3, 3), bias=False)\n",
            "  (bn1): BatchNorm2d(64, eps=1e-05, momentum=0.1, affine=True, track_running_stats=True)\n",
            "  (relu): ReLU(inplace=True)\n",
            "  (maxpool): MaxPool2d(kernel_size=3, stride=2, padding=1, dilation=1, ceil_mode=False)\n",
            "  (layer1): Sequential(\n",
            "    (0): BasicBlock(\n",
            "      (conv1): Conv2d(64, 64, kernel_size=(3, 3), stride=(1, 1), padding=(1, 1), bias=False)\n",
            "      (bn1): BatchNorm2d(64, eps=1e-05, momentum=0.1, affine=True, track_running_stats=True)\n",
            "      (relu): ReLU(inplace=True)\n",
            "      (conv2): Conv2d(64, 64, kernel_size=(3, 3), stride=(1, 1), padding=(1, 1), bias=False)\n",
            "      (bn2): BatchNorm2d(64, eps=1e-05, momentum=0.1, affine=True, track_running_stats=True)\n",
            "    )\n",
            "    (1): BasicBlock(\n",
            "      (conv1): Conv2d(64, 64, kernel_size=(3, 3), stride=(1, 1), padding=(1, 1), bias=False)\n",
            "      (bn1): BatchNorm2d(64, eps=1e-05, momentum=0.1, affine=True, track_running_stats=True)\n",
            "      (relu): ReLU(inplace=True)\n",
            "      (conv2): Conv2d(64, 64, kernel_size=(3, 3), stride=(1, 1), padding=(1, 1), bias=False)\n",
            "      (bn2): BatchNorm2d(64, eps=1e-05, momentum=0.1, affine=True, track_running_stats=True)\n",
            "    )\n",
            "  )\n",
            "  (layer2): Sequential(\n",
            "    (0): BasicBlock(\n",
            "      (conv1): Conv2d(64, 128, kernel_size=(3, 3), stride=(2, 2), padding=(1, 1), bias=False)\n",
            "      (bn1): BatchNorm2d(128, eps=1e-05, momentum=0.1, affine=True, track_running_stats=True)\n",
            "      (relu): ReLU(inplace=True)\n",
            "      (conv2): Conv2d(128, 128, kernel_size=(3, 3), stride=(1, 1), padding=(1, 1), bias=False)\n",
            "      (bn2): BatchNorm2d(128, eps=1e-05, momentum=0.1, affine=True, track_running_stats=True)\n",
            "      (downsample): Sequential(\n",
            "        (0): Conv2d(64, 128, kernel_size=(1, 1), stride=(2, 2), bias=False)\n",
            "        (1): BatchNorm2d(128, eps=1e-05, momentum=0.1, affine=True, track_running_stats=True)\n",
            "      )\n",
            "    )\n",
            "    (1): BasicBlock(\n",
            "      (conv1): Conv2d(128, 128, kernel_size=(3, 3), stride=(1, 1), padding=(1, 1), bias=False)\n",
            "      (bn1): BatchNorm2d(128, eps=1e-05, momentum=0.1, affine=True, track_running_stats=True)\n",
            "      (relu): ReLU(inplace=True)\n",
            "      (conv2): Conv2d(128, 128, kernel_size=(3, 3), stride=(1, 1), padding=(1, 1), bias=False)\n",
            "      (bn2): BatchNorm2d(128, eps=1e-05, momentum=0.1, affine=True, track_running_stats=True)\n",
            "    )\n",
            "  )\n",
            "  (layer3): Sequential(\n",
            "    (0): BasicBlock(\n",
            "      (conv1): Conv2d(128, 256, kernel_size=(3, 3), stride=(2, 2), padding=(1, 1), bias=False)\n",
            "      (bn1): BatchNorm2d(256, eps=1e-05, momentum=0.1, affine=True, track_running_stats=True)\n",
            "      (relu): ReLU(inplace=True)\n",
            "      (conv2): Conv2d(256, 256, kernel_size=(3, 3), stride=(1, 1), padding=(1, 1), bias=False)\n",
            "      (bn2): BatchNorm2d(256, eps=1e-05, momentum=0.1, affine=True, track_running_stats=True)\n",
            "      (downsample): Sequential(\n",
            "        (0): Conv2d(128, 256, kernel_size=(1, 1), stride=(2, 2), bias=False)\n",
            "        (1): BatchNorm2d(256, eps=1e-05, momentum=0.1, affine=True, track_running_stats=True)\n",
            "      )\n",
            "    )\n",
            "    (1): BasicBlock(\n",
            "      (conv1): Conv2d(256, 256, kernel_size=(3, 3), stride=(1, 1), padding=(1, 1), bias=False)\n",
            "      (bn1): BatchNorm2d(256, eps=1e-05, momentum=0.1, affine=True, track_running_stats=True)\n",
            "      (relu): ReLU(inplace=True)\n",
            "      (conv2): Conv2d(256, 256, kernel_size=(3, 3), stride=(1, 1), padding=(1, 1), bias=False)\n",
            "      (bn2): BatchNorm2d(256, eps=1e-05, momentum=0.1, affine=True, track_running_stats=True)\n",
            "    )\n",
            "  )\n",
            "  (layer4): Sequential(\n",
            "    (0): BasicBlock(\n",
            "      (conv1): Conv2d(256, 512, kernel_size=(3, 3), stride=(2, 2), padding=(1, 1), bias=False)\n",
            "      (bn1): BatchNorm2d(512, eps=1e-05, momentum=0.1, affine=True, track_running_stats=True)\n",
            "      (relu): ReLU(inplace=True)\n",
            "      (conv2): Conv2d(512, 512, kernel_size=(3, 3), stride=(1, 1), padding=(1, 1), bias=False)\n",
            "      (bn2): BatchNorm2d(512, eps=1e-05, momentum=0.1, affine=True, track_running_stats=True)\n",
            "      (downsample): Sequential(\n",
            "        (0): Conv2d(256, 512, kernel_size=(1, 1), stride=(2, 2), bias=False)\n",
            "        (1): BatchNorm2d(512, eps=1e-05, momentum=0.1, affine=True, track_running_stats=True)\n",
            "      )\n",
            "    )\n",
            "    (1): BasicBlock(\n",
            "      (conv1): Conv2d(512, 512, kernel_size=(3, 3), stride=(1, 1), padding=(1, 1), bias=False)\n",
            "      (bn1): BatchNorm2d(512, eps=1e-05, momentum=0.1, affine=True, track_running_stats=True)\n",
            "      (relu): ReLU(inplace=True)\n",
            "      (conv2): Conv2d(512, 512, kernel_size=(3, 3), stride=(1, 1), padding=(1, 1), bias=False)\n",
            "      (bn2): BatchNorm2d(512, eps=1e-05, momentum=0.1, affine=True, track_running_stats=True)\n",
            "    )\n",
            "  )\n",
            "  (avgpool): AdaptiveAvgPool2d(output_size=(1, 1))\n",
            "  (fc): Linear(in_features=512, out_features=10, bias=True)\n",
            ")\n"
          ]
        }
      ]
    },
    {
      "cell_type": "code",
      "source": [
        "for _ite in range(0, ITERATION):\n",
        "        best_accuracy=0\n",
        "        if not _ite == 0:\n",
        "            prune_by_percentile(prune_percent, resample=resample, reinit=reinit)\n",
        "            if reinit:\n",
        "                model_2.apply(weight_init)\n",
        "                for name, param in model_2.named_parameters():\n",
        "                    if 'weight' in name:\n",
        "                        weight_dev = param.device\n",
        "                        param.data = torch.from_numpy(param.data.cpu().numpy() * mask[step]).to(weight_dev)\n",
        "                        step = step + 1\n",
        "                step = 0\n",
        "            else:\n",
        "                original_initialization(mask, initial_state_dict)\n",
        "                mng_2.current_epoch=0\n",
        "        # Print the table of Nonzeros in each layer\n",
        "\n",
        "        comp1 = print_nonzeros(model_2)\n",
        "        comp[_ite] = comp1\n",
        "\n",
        "        pbar = tqdm(range(epoch))\n",
        "        valid_freq = 2\n",
        "        print_frequency = 10\n",
        "        for iter_ in pbar:\n",
        "\n",
        "          # Training\n",
        "          loss,accuracy = mng_2.one_epoch(training=True)\n",
        "          mng_2.current_epoch +=1\n",
        "          all_loss[iter_] = loss\n",
        "          all_accuracy[iter_] = accuracy\n",
        "          \n",
        "            # Frequency for Testing\n",
        "          if iter_ %valid_freq == 0:\n",
        "              _,accuracy = mng_2.one_epoch(training=False)\n",
        "              # Save Weights\n",
        "              if accuracy > best_accuracy:\n",
        "                  best_accuracy = accuracy\n",
        "                  #utils.checkdir(f\"{os.getcwd()}/saves/{args.arch_type}/{args.dataset}/\")\n",
        "                  #torch.save(model_2,f\"{os.getcwd()}/saves/{_ite}_model_2_prunned.pth.tar\")\n",
        "                  \n",
        "          # Frequency for Printing Accuracy and Loss\n",
        "          #if iter_ % print_frequency == 0:\n",
        "          #    pbar.set_description(\n",
        "            #       f'Train Epoch: {iter_}/{Iteration} Loss: {loss:.6f} Accuracy: {accuracy:.2f}% Best Accuracy: {best_accuracy:.2f}%')       \n",
        "        print('Accuracy Of the model_2 ', _ite, '=', best_accuracy)\n",
        "        bestacc[_ite] = best_accuracy"
      ],
      "metadata": {
        "colab": {
          "base_uri": "https://localhost:8080/",
          "height": 5846
        },
        "id": "fCycox-cTB2L",
        "outputId": "877fac32-ab35-4169-cd7f-16c15452b47f"
      },
      "execution_count": null,
      "outputs": [
        {
          "output_type": "stream",
          "name": "stdout",
          "text": [
            "conv1.weight         | nonzeros =    3136 /    3136 (100.00%) | total_pruned =       0 | shape = (64, 1, 7, 7)\n",
            "bn1.weight           | nonzeros =      64 /      64 (100.00%) | total_pruned =       0 | shape = (64,)\n",
            "bn1.bias             | nonzeros =       0 /      64 (  0.00%) | total_pruned =      64 | shape = (64,)\n",
            "layer1.0.conv1.weight | nonzeros =   36864 /   36864 (100.00%) | total_pruned =       0 | shape = (64, 64, 3, 3)\n",
            "layer1.0.bn1.weight  | nonzeros =      64 /      64 (100.00%) | total_pruned =       0 | shape = (64,)\n",
            "layer1.0.bn1.bias    | nonzeros =       0 /      64 (  0.00%) | total_pruned =      64 | shape = (64,)\n",
            "layer1.0.conv2.weight | nonzeros =   36864 /   36864 (100.00%) | total_pruned =       0 | shape = (64, 64, 3, 3)\n",
            "layer1.0.bn2.weight  | nonzeros =      64 /      64 (100.00%) | total_pruned =       0 | shape = (64,)\n",
            "layer1.0.bn2.bias    | nonzeros =       0 /      64 (  0.00%) | total_pruned =      64 | shape = (64,)\n",
            "layer1.1.conv1.weight | nonzeros =   36864 /   36864 (100.00%) | total_pruned =       0 | shape = (64, 64, 3, 3)\n",
            "layer1.1.bn1.weight  | nonzeros =      64 /      64 (100.00%) | total_pruned =       0 | shape = (64,)\n",
            "layer1.1.bn1.bias    | nonzeros =       0 /      64 (  0.00%) | total_pruned =      64 | shape = (64,)\n",
            "layer1.1.conv2.weight | nonzeros =   36864 /   36864 (100.00%) | total_pruned =       0 | shape = (64, 64, 3, 3)\n",
            "layer1.1.bn2.weight  | nonzeros =      64 /      64 (100.00%) | total_pruned =       0 | shape = (64,)\n",
            "layer1.1.bn2.bias    | nonzeros =       0 /      64 (  0.00%) | total_pruned =      64 | shape = (64,)\n",
            "layer2.0.conv1.weight | nonzeros =   73728 /   73728 (100.00%) | total_pruned =       0 | shape = (128, 64, 3, 3)\n",
            "layer2.0.bn1.weight  | nonzeros =     128 /     128 (100.00%) | total_pruned =       0 | shape = (128,)\n",
            "layer2.0.bn1.bias    | nonzeros =       0 /     128 (  0.00%) | total_pruned =     128 | shape = (128,)\n",
            "layer2.0.conv2.weight | nonzeros =  147456 /  147456 (100.00%) | total_pruned =       0 | shape = (128, 128, 3, 3)\n",
            "layer2.0.bn2.weight  | nonzeros =     128 /     128 (100.00%) | total_pruned =       0 | shape = (128,)\n",
            "layer2.0.bn2.bias    | nonzeros =       0 /     128 (  0.00%) | total_pruned =     128 | shape = (128,)\n",
            "layer2.0.downsample.0.weight | nonzeros =    8192 /    8192 (100.00%) | total_pruned =       0 | shape = (128, 64, 1, 1)\n",
            "layer2.0.downsample.1.weight | nonzeros =     128 /     128 (100.00%) | total_pruned =       0 | shape = (128,)\n",
            "layer2.0.downsample.1.bias | nonzeros =       0 /     128 (  0.00%) | total_pruned =     128 | shape = (128,)\n",
            "layer2.1.conv1.weight | nonzeros =  147456 /  147456 (100.00%) | total_pruned =       0 | shape = (128, 128, 3, 3)\n",
            "layer2.1.bn1.weight  | nonzeros =     128 /     128 (100.00%) | total_pruned =       0 | shape = (128,)\n",
            "layer2.1.bn1.bias    | nonzeros =       0 /     128 (  0.00%) | total_pruned =     128 | shape = (128,)\n",
            "layer2.1.conv2.weight | nonzeros =  147456 /  147456 (100.00%) | total_pruned =       0 | shape = (128, 128, 3, 3)\n",
            "layer2.1.bn2.weight  | nonzeros =     128 /     128 (100.00%) | total_pruned =       0 | shape = (128,)\n",
            "layer2.1.bn2.bias    | nonzeros =       0 /     128 (  0.00%) | total_pruned =     128 | shape = (128,)\n",
            "layer3.0.conv1.weight | nonzeros =  294912 /  294912 (100.00%) | total_pruned =       0 | shape = (256, 128, 3, 3)\n",
            "layer3.0.bn1.weight  | nonzeros =     256 /     256 (100.00%) | total_pruned =       0 | shape = (256,)\n",
            "layer3.0.bn1.bias    | nonzeros =       0 /     256 (  0.00%) | total_pruned =     256 | shape = (256,)\n",
            "layer3.0.conv2.weight | nonzeros =  589824 /  589824 (100.00%) | total_pruned =       0 | shape = (256, 256, 3, 3)\n",
            "layer3.0.bn2.weight  | nonzeros =     256 /     256 (100.00%) | total_pruned =       0 | shape = (256,)\n",
            "layer3.0.bn2.bias    | nonzeros =       0 /     256 (  0.00%) | total_pruned =     256 | shape = (256,)\n",
            "layer3.0.downsample.0.weight | nonzeros =   32768 /   32768 (100.00%) | total_pruned =       0 | shape = (256, 128, 1, 1)\n",
            "layer3.0.downsample.1.weight | nonzeros =     256 /     256 (100.00%) | total_pruned =       0 | shape = (256,)\n",
            "layer3.0.downsample.1.bias | nonzeros =       0 /     256 (  0.00%) | total_pruned =     256 | shape = (256,)\n",
            "layer3.1.conv1.weight | nonzeros =  589824 /  589824 (100.00%) | total_pruned =       0 | shape = (256, 256, 3, 3)\n",
            "layer3.1.bn1.weight  | nonzeros =     256 /     256 (100.00%) | total_pruned =       0 | shape = (256,)\n",
            "layer3.1.bn1.bias    | nonzeros =       0 /     256 (  0.00%) | total_pruned =     256 | shape = (256,)\n",
            "layer3.1.conv2.weight | nonzeros =  589824 /  589824 (100.00%) | total_pruned =       0 | shape = (256, 256, 3, 3)\n",
            "layer3.1.bn2.weight  | nonzeros =     256 /     256 (100.00%) | total_pruned =       0 | shape = (256,)\n",
            "layer3.1.bn2.bias    | nonzeros =       0 /     256 (  0.00%) | total_pruned =     256 | shape = (256,)\n",
            "layer4.0.conv1.weight | nonzeros = 1179648 / 1179648 (100.00%) | total_pruned =       0 | shape = (512, 256, 3, 3)\n",
            "layer4.0.bn1.weight  | nonzeros =     512 /     512 (100.00%) | total_pruned =       0 | shape = (512,)\n",
            "layer4.0.bn1.bias    | nonzeros =       0 /     512 (  0.00%) | total_pruned =     512 | shape = (512,)\n",
            "layer4.0.conv2.weight | nonzeros = 2359296 / 2359296 (100.00%) | total_pruned =       0 | shape = (512, 512, 3, 3)\n",
            "layer4.0.bn2.weight  | nonzeros =     512 /     512 (100.00%) | total_pruned =       0 | shape = (512,)\n",
            "layer4.0.bn2.bias    | nonzeros =       0 /     512 (  0.00%) | total_pruned =     512 | shape = (512,)\n",
            "layer4.0.downsample.0.weight | nonzeros =  131072 /  131072 (100.00%) | total_pruned =       0 | shape = (512, 256, 1, 1)\n",
            "layer4.0.downsample.1.weight | nonzeros =     512 /     512 (100.00%) | total_pruned =       0 | shape = (512,)\n",
            "layer4.0.downsample.1.bias | nonzeros =       0 /     512 (  0.00%) | total_pruned =     512 | shape = (512,)\n",
            "layer4.1.conv1.weight | nonzeros = 2359295 / 2359296 (100.00%) | total_pruned =       1 | shape = (512, 512, 3, 3)\n",
            "layer4.1.bn1.weight  | nonzeros =     512 /     512 (100.00%) | total_pruned =       0 | shape = (512,)\n",
            "layer4.1.bn1.bias    | nonzeros =       0 /     512 (  0.00%) | total_pruned =     512 | shape = (512,)\n",
            "layer4.1.conv2.weight | nonzeros = 2359296 / 2359296 (100.00%) | total_pruned =       0 | shape = (512, 512, 3, 3)\n",
            "layer4.1.bn2.weight  | nonzeros =     512 /     512 (100.00%) | total_pruned =       0 | shape = (512,)\n",
            "layer4.1.bn2.bias    | nonzeros =       0 /     512 (  0.00%) | total_pruned =     512 | shape = (512,)\n",
            "fc.weight            | nonzeros =    5120 /    5120 (100.00%) | total_pruned =       0 | shape = (10, 512)\n",
            "fc.bias              | nonzeros =      10 /      10 (100.00%) | total_pruned =       0 | shape = (10,)\n",
            "alive: 11170569, pruned : 4801, total: 11175370, Compression rate :       1.00x  (  0.04% pruned)\n"
          ]
        },
        {
          "output_type": "stream",
          "name": "stderr",
          "text": [
            "\r  0%|          | 0/1 [00:00<?, ?it/s]"
          ]
        },
        {
          "output_type": "stream",
          "name": "stdout",
          "text": [
            "\n",
            "Training: 0/1 epochs\n"
          ]
        },
        {
          "output_type": "stream",
          "name": "stderr",
          "text": [
            "\n",
            "       0%|                                                  | 0/109 [00:00<?, ?it/s]\u001b[A\n",
            "       1%|▍                                                 | 1/109 [00:09<17:36,  9.78s/it]\u001b[A\n",
            "       2%|▉                                                 | 2/109 [00:21<19:02, 10.67s/it]\u001b[A\n",
            "       3%|█▍                                                | 3/109 [00:34<20:58, 11.87s/it]\u001b[A\n",
            "       4%|█▊                                                | 4/109 [00:43<18:57, 10.83s/it]\u001b[A\n",
            "       5%|██▎                                               | 5/109 [00:56<19:45, 11.40s/it]\u001b[A\n",
            "       6%|██▊                                               | 6/109 [01:09<20:46, 12.10s/it]\u001b[A\n",
            "       6%|███▏                                              | 7/109 [01:23<21:53, 12.88s/it]\u001b[A\n",
            "       7%|███▋                                              | 8/109 [01:34<20:41, 12.29s/it]\u001b[A\n",
            "       8%|████▏                                             | 9/109 [01:45<19:24, 11.64s/it]\u001b[A\n",
            "       9%|████▌                                             | 10/109 [01:58<20:02, 12.15s/it]\u001b[A\n",
            "      10%|█████                                             | 11/109 [02:15<22:05, 13.53s/it]\u001b[A\n",
            "      11%|█████▌                                            | 12/109 [02:28<21:40, 13.40s/it]\u001b[A\n",
            "      12%|█████▉                                            | 13/109 [02:40<20:52, 13.04s/it]\u001b[A\n",
            "      13%|██████▍                                           | 14/109 [02:52<20:00, 12.64s/it]\u001b[A\n",
            "      14%|██████▉                                           | 15/109 [03:04<19:41, 12.57s/it]\u001b[A\n",
            "      15%|███████▎                                          | 16/109 [03:16<19:04, 12.30s/it]\u001b[A\n",
            "      16%|███████▊                                          | 17/109 [03:24<17:00, 11.10s/it]\u001b[A\n",
            "      17%|████████▎                                         | 18/109 [03:42<19:59, 13.18s/it]\u001b[A\n",
            "      17%|████████▋                                         | 19/109 [03:56<19:55, 13.29s/it]\u001b[A\n",
            "      18%|█████████▏                                        | 20/109 [04:06<18:18, 12.34s/it]\u001b[A\n",
            "      19%|█████████▋                                        | 21/109 [04:15<16:44, 11.41s/it]\u001b[A\n",
            "      20%|██████████                                        | 22/109 [04:25<15:53, 10.96s/it]\u001b[A\n",
            "      21%|██████████▌                                       | 23/109 [04:37<16:14, 11.33s/it]\u001b[A\n",
            "      22%|███████████                                       | 24/109 [04:49<16:28, 11.63s/it]\u001b[A\n",
            "      23%|███████████▍                                      | 25/109 [05:04<17:25, 12.45s/it]\u001b[A\n",
            "      24%|███████████▉                                      | 26/109 [05:18<18:00, 13.01s/it]\u001b[A\n",
            "      25%|████████████▍                                     | 27/109 [05:30<17:19, 12.67s/it]\u001b[A\n",
            "      26%|████████████▊                                     | 28/109 [05:40<16:09, 11.97s/it]\u001b[A\n",
            "      27%|█████████████▎                                    | 29/109 [05:54<16:33, 12.42s/it]\u001b[A\n",
            "      28%|█████████████▊                                    | 30/109 [06:06<16:26, 12.49s/it]\u001b[A\n",
            "      28%|██████████████▏                                   | 31/109 [06:16<15:15, 11.74s/it]\u001b[A\n",
            "      29%|██████████████▋                                   | 32/109 [06:33<16:44, 13.05s/it]\u001b[A\n",
            "      30%|███████████████▏                                  | 33/109 [06:46<16:43, 13.20s/it]\u001b[A\n",
            "      31%|███████████████▌                                  | 34/109 [06:58<16:07, 12.90s/it]\u001b[A\n",
            "      32%|████████████████                                  | 35/109 [07:13<16:44, 13.58s/it]\u001b[A\n",
            "      33%|████████████████▌                                 | 36/109 [07:27<16:27, 13.53s/it]\u001b[A"
          ]
        },
        {
          "output_type": "stream",
          "name": "stdout",
          "text": [
            "\n",
            "Epoch: 0 : loss = 2.128 - acc1 = 27.865\n"
          ]
        },
        {
          "output_type": "stream",
          "name": "stderr",
          "text": [
            "\n",
            "      34%|████████████████▉                                 | 37/109 [07:41<16:16, 13.56s/it]\u001b[A\n",
            "      35%|█████████████████▍                                | 38/109 [07:55<16:28, 13.93s/it]\u001b[A\n",
            "      36%|█████████████████▉                                | 39/109 [08:11<16:52, 14.47s/it]\u001b[A\n",
            "      37%|██████████████████▎                               | 40/109 [08:28<17:39, 15.35s/it]\u001b[A\n",
            "      38%|██████████████████▊                               | 41/109 [08:43<16:57, 14.97s/it]\u001b[A\n",
            "      39%|███████████████████▎                              | 42/109 [08:57<16:36, 14.87s/it]\u001b[A\n",
            "      39%|███████████████████▋                              | 43/109 [09:14<16:55, 15.39s/it]\u001b[A\n",
            "      40%|████████████████████▏                             | 44/109 [09:31<17:20, 16.01s/it]\u001b[A\n",
            "      41%|████████████████████▋                             | 45/109 [09:42<15:26, 14.47s/it]\u001b[A\n",
            "      42%|█████████████████████                             | 46/109 [09:57<15:22, 14.64s/it]\u001b[A\n",
            "      43%|█████████████████████▌                            | 47/109 [10:15<15:58, 15.46s/it]\u001b[A\n",
            "      44%|██████████████████████                            | 48/109 [10:30<15:35, 15.34s/it]\u001b[A\n",
            "      45%|██████████████████████▍                           | 49/109 [10:43<14:42, 14.72s/it]\u001b[A\n",
            "      46%|██████████████████████▉                           | 50/109 [10:58<14:39, 14.90s/it]\u001b[A\n",
            "      47%|███████████████████████▍                          | 51/109 [11:16<15:12, 15.74s/it]\u001b[A\n",
            "      48%|███████████████████████▊                          | 52/109 [11:33<15:18, 16.11s/it]\u001b[A\n",
            "      49%|████████████████████████▎                         | 53/109 [11:49<15:08, 16.22s/it]\u001b[A\n",
            "      50%|████████████████████████▊                         | 54/109 [12:08<15:39, 17.08s/it]\u001b[A\n",
            "      50%|█████████████████████████▏                        | 55/109 [12:27<15:48, 17.56s/it]\u001b[A\n",
            "      51%|█████████████████████████▋                        | 56/109 [12:46<15:43, 17.81s/it]\u001b[A\n",
            "      52%|██████████████████████████▏                       | 57/109 [13:05<15:47, 18.21s/it]\u001b[A\n",
            "      53%|██████████████████████████▌                       | 58/109 [13:19<14:34, 17.15s/it]\u001b[A\n",
            "      54%|███████████████████████████                       | 59/109 [13:37<14:31, 17.42s/it]\u001b[A\n",
            "      55%|███████████████████████████▌                      | 60/109 [13:55<14:20, 17.57s/it]\u001b[A\n",
            "      56%|███████████████████████████▉                      | 61/109 [14:11<13:43, 17.16s/it]\u001b[A\n",
            "      57%|████████████████████████████▍                     | 62/109 [14:28<13:20, 17.03s/it]\u001b[A\n",
            "      58%|████████████████████████████▉                     | 63/109 [14:48<13:36, 17.75s/it]\u001b[A\n",
            "      59%|█████████████████████████████▎                    | 64/109 [15:09<14:09, 18.89s/it]\u001b[A\n",
            "      60%|█████████████████████████████▊                    | 65/109 [15:26<13:26, 18.33s/it]\u001b[A\n",
            "      61%|██████████████████████████████▎                   | 66/109 [15:42<12:31, 17.47s/it]\u001b[A\n",
            "      61%|██████████████████████████████▋                   | 67/109 [16:00<12:25, 17.75s/it]\u001b[A\n",
            "      62%|███████████████████████████████▏                  | 68/109 [16:14<11:23, 16.67s/it]\u001b[A\n",
            "      63%|███████████████████████████████▋                  | 69/109 [16:28<10:34, 15.86s/it]\u001b[A\n",
            "      64%|████████████████████████████████                  | 70/109 [16:54<12:16, 18.88s/it]\u001b[A\n",
            "      65%|████████████████████████████████▌                 | 71/109 [17:13<12:02, 19.02s/it]\u001b[A\n",
            "      66%|█████████████████████████████████                 | 72/109 [17:35<12:14, 19.86s/it]\u001b[A"
          ]
        },
        {
          "output_type": "stream",
          "name": "stdout",
          "text": [
            "\n",
            "Epoch: 0 : loss = 1.858 - acc1 = 35.308\n"
          ]
        },
        {
          "output_type": "stream",
          "name": "stderr",
          "text": [
            "\n",
            "      67%|█████████████████████████████████▍                | 73/109 [17:56<11:58, 19.97s/it]\u001b[A\n",
            "      68%|█████████████████████████████████▉                | 74/109 [18:16<11:39, 19.97s/it]\u001b[A\n",
            "      69%|██████████████████████████████████▍               | 75/109 [18:36<11:27, 20.21s/it]\u001b[A\n",
            "      70%|██████████████████████████████████▊               | 76/109 [18:58<11:22, 20.68s/it]\u001b[A\n",
            "      71%|███████████████████████████████████▎              | 77/109 [19:19<11:05, 20.80s/it]\u001b[A\n",
            "      72%|███████████████████████████████████▊              | 78/109 [19:38<10:23, 20.12s/it]\u001b[A\n",
            "      72%|████████████████████████████████████▏             | 79/109 [20:00<10:19, 20.66s/it]\u001b[A\n",
            "      73%|████████████████████████████████████▋             | 80/109 [20:21<10:05, 20.87s/it]\u001b[A\n",
            "      74%|█████████████████████████████████████▏            | 81/109 [20:44<09:58, 21.39s/it]\u001b[A\n",
            "      75%|█████████████████████████████████████▌            | 82/109 [21:07<09:51, 21.90s/it]\u001b[A\n",
            "      76%|██████████████████████████████████████            | 83/109 [21:23<08:43, 20.14s/it]\u001b[A\n",
            "      77%|██████████████████████████████████████▌           | 84/109 [21:44<08:29, 20.39s/it]\u001b[A\n",
            "      78%|██████████████████████████████████████▉           | 85/109 [22:09<08:43, 21.82s/it]\u001b[A\n",
            "      79%|███████████████████████████████████████▍          | 86/109 [22:32<08:31, 22.24s/it]\u001b[A\n",
            "      80%|███████████████████████████████████████▉          | 87/109 [23:00<08:44, 23.86s/it]\u001b[A\n",
            "      81%|████████████████████████████████████████▎         | 88/109 [23:28<08:51, 25.33s/it]\u001b[A\n",
            "      82%|████████████████████████████████████████▊         | 89/109 [23:57<08:48, 26.40s/it]\u001b[A\n",
            "      83%|█████████████████████████████████████████▎        | 90/109 [24:24<08:22, 26.42s/it]\u001b[A\n",
            "      83%|█████████████████████████████████████████▋        | 91/109 [24:52<08:04, 26.89s/it]\u001b[A\n",
            "      84%|██████████████████████████████████████████▏       | 92/109 [25:19<07:40, 27.06s/it]\u001b[A\n",
            "      85%|██████████████████████████████████████████▋       | 93/109 [25:46<07:11, 26.99s/it]\u001b[A\n",
            "      86%|███████████████████████████████████████████       | 94/109 [26:17<07:03, 28.22s/it]\u001b[A\n",
            "      87%|███████████████████████████████████████████▌      | 95/109 [26:44<06:28, 27.76s/it]\u001b[A\n",
            "      88%|████████████████████████████████████████████      | 96/109 [27:10<05:54, 27.24s/it]\u001b[A\n",
            "      89%|████████████████████████████████████████████▍     | 97/109 [27:37<05:27, 27.33s/it]\u001b[A\n",
            "      90%|████████████████████████████████████████████▉     | 98/109 [28:02<04:51, 26.49s/it]\u001b[A\n",
            "      91%|█████████████████████████████████████████████▍    | 99/109 [28:26<04:16, 25.69s/it]\u001b[A\n",
            "      92%|█████████████████████████████████████████████▊    | 100/109 [28:52<03:52, 25.82s/it]\u001b[A\n",
            "      93%|██████████████████████████████████████████████▎   | 101/109 [29:18<03:27, 25.90s/it]\u001b[A\n",
            "      94%|██████████████████████████████████████████████▊   | 102/109 [29:44<03:02, 26.01s/it]\u001b[A\n",
            "      94%|███████████████████████████████████████████████▏  | 103/109 [30:12<02:38, 26.47s/it]\u001b[A\n",
            "      95%|███████████████████████████████████████████████▋  | 104/109 [30:35<02:07, 25.43s/it]\u001b[A\n",
            "      96%|████████████████████████████████████████████████▏ | 105/109 [30:59<01:40, 25.07s/it]\u001b[A\n",
            "      97%|████████████████████████████████████████████████▌ | 106/109 [31:21<01:12, 24.14s/it]\u001b[A\n",
            "      98%|█████████████████████████████████████████████████ | 107/109 [31:42<00:46, 23.18s/it]\u001b[A\n",
            "      99%|█████████████████████████████████████████████████▌| 108/109 [32:07<00:23, 23.87s/it]\u001b[A"
          ]
        },
        {
          "output_type": "stream",
          "name": "stdout",
          "text": [
            "\n",
            "Epoch: 0 : loss = 1.708 - acc1 = 38.354\n"
          ]
        },
        {
          "output_type": "stream",
          "name": "stderr",
          "text": [
            "\n",
            "     100%|██████████████████████████████████████████████████| 109/109 [32:35<00:00, 17.94s/it]\n"
          ]
        },
        {
          "output_type": "stream",
          "name": "stdout",
          "text": [
            "\n",
            "Epoch: 0 : loss = 1.704 - acc1 = 38.575\n",
            "\n",
            "Test:\n"
          ]
        },
        {
          "output_type": "stream",
          "name": "stderr",
          "text": [
            "\n",
            "       0%|                                                  | 0/23 [00:00<?, ?it/s]\u001b[A\n",
            "       4%|██▏                                               | 1/23 [00:24<08:53, 24.27s/it]\u001b[A\n",
            "       9%|████▎                                             | 2/23 [00:49<08:43, 24.91s/it]\u001b[A\n",
            "      13%|██████▌                                           | 3/23 [01:14<08:21, 25.07s/it]\u001b[A\n",
            "      17%|████████▋                                         | 4/23 [01:39<07:54, 24.99s/it]\u001b[A\n",
            "      22%|██████████▊                                       | 5/23 [02:01<07:08, 23.79s/it]\u001b[A\n",
            "      26%|█████████████                                     | 6/23 [02:26<06:52, 24.24s/it]\u001b[A\n",
            "      30%|███████████████▏                                  | 7/23 [02:53<06:40, 25.05s/it]\u001b[A"
          ]
        },
        {
          "output_type": "stream",
          "name": "stdout",
          "text": [
            "\n",
            "Epoch: 1 : loss = 2.424 - acc1 = 16.964\n"
          ]
        },
        {
          "output_type": "stream",
          "name": "stderr",
          "text": [
            "\n",
            "      35%|█████████████████▍                                | 8/23 [03:21<06:32, 26.19s/it]\u001b[A\n",
            "      39%|███████████████████▌                              | 9/23 [03:49<06:10, 26.49s/it]\u001b[A\n",
            "      43%|█████████████████████▋                            | 10/23 [04:16<05:49, 26.91s/it]\u001b[A\n",
            "      48%|███████████████████████▉                          | 11/23 [04:39<05:07, 25.59s/it]\u001b[A\n",
            "      52%|██████████████████████████                        | 12/23 [05:08<04:51, 26.52s/it]\u001b[A\n",
            "      57%|████████████████████████████▎                     | 13/23 [05:35<04:27, 26.77s/it]\u001b[A\n",
            "      61%|██████████████████████████████▍                   | 14/23 [05:59<03:52, 25.82s/it]\u001b[A"
          ]
        },
        {
          "output_type": "stream",
          "name": "stdout",
          "text": [
            "\n",
            "Epoch: 1 : loss = 1.778 - acc1 = 43.415\n"
          ]
        },
        {
          "output_type": "stream",
          "name": "stderr",
          "text": [
            "\n",
            "      65%|████████████████████████████████▌                 | 15/23 [06:17<03:09, 23.73s/it]\u001b[A\n",
            "      70%|██████████████████████████████████▊               | 16/23 [06:37<02:37, 22.52s/it]\u001b[A\n",
            "      74%|████████████████████████████████████▉             | 17/23 [06:56<02:09, 21.52s/it]\u001b[A\n",
            "      78%|███████████████████████████████████████▏          | 18/23 [07:15<01:42, 20.57s/it]\u001b[A\n",
            "      83%|█████████████████████████████████████████▎        | 19/23 [07:39<01:26, 21.55s/it]\u001b[A\n",
            "      87%|███████████████████████████████████████████▍      | 20/23 [08:00<01:04, 21.61s/it]\u001b[A\n",
            "      91%|█████████████████████████████████████████████▋    | 21/23 [08:26<00:45, 22.73s/it]\u001b[A"
          ]
        },
        {
          "output_type": "stream",
          "name": "stdout",
          "text": [
            "\n",
            "Epoch: 1 : loss = 1.974 - acc1 = 30.729\n"
          ]
        },
        {
          "output_type": "stream",
          "name": "stderr",
          "text": [
            "\n",
            "      96%|███████████████████████████████████████████████▊  | 22/23 [08:53<00:24, 24.15s/it]\u001b[A\n",
            "     100%|██████████████████████████████████████████████████| 23/23 [09:19<00:00, 24.34s/it]\n",
            "100%|██████████| 1/1 [41:54<00:00, 2514.80s/it]\n"
          ]
        },
        {
          "output_type": "stream",
          "name": "stdout",
          "text": [
            "\n",
            "Epoch: 1 : loss = 2.136 - acc1 = 28.193\n",
            "Accuracy Of the model_2  0 = tensor(28.1929, device='cuda:0')\n",
            "conv1.weight         | nonzeros =    3136 /    3136 (100.00%) | total_pruned =       0 | shape = (64, 1, 7, 7)\n",
            "bn1.weight           | nonzeros =      64 /      64 (100.00%) | total_pruned =       0 | shape = (64,)\n",
            "bn1.bias             | nonzeros =      64 /      64 (100.00%) | total_pruned =       0 | shape = (64,)\n",
            "layer1.0.conv1.weight | nonzeros =   36864 /   36864 (100.00%) | total_pruned =       0 | shape = (64, 64, 3, 3)\n",
            "layer1.0.bn1.weight  | nonzeros =      64 /      64 (100.00%) | total_pruned =       0 | shape = (64,)\n",
            "layer1.0.bn1.bias    | nonzeros =      64 /      64 (100.00%) | total_pruned =       0 | shape = (64,)\n",
            "layer1.0.conv2.weight | nonzeros =   36864 /   36864 (100.00%) | total_pruned =       0 | shape = (64, 64, 3, 3)\n",
            "layer1.0.bn2.weight  | nonzeros =      64 /      64 (100.00%) | total_pruned =       0 | shape = (64,)\n",
            "layer1.0.bn2.bias    | nonzeros =      64 /      64 (100.00%) | total_pruned =       0 | shape = (64,)\n",
            "layer1.1.conv1.weight | nonzeros =   36864 /   36864 (100.00%) | total_pruned =       0 | shape = (64, 64, 3, 3)\n",
            "layer1.1.bn1.weight  | nonzeros =      64 /      64 (100.00%) | total_pruned =       0 | shape = (64,)\n",
            "layer1.1.bn1.bias    | nonzeros =      64 /      64 (100.00%) | total_pruned =       0 | shape = (64,)\n",
            "layer1.1.conv2.weight | nonzeros =   36864 /   36864 (100.00%) | total_pruned =       0 | shape = (64, 64, 3, 3)\n",
            "layer1.1.bn2.weight  | nonzeros =      64 /      64 (100.00%) | total_pruned =       0 | shape = (64,)\n",
            "layer1.1.bn2.bias    | nonzeros =      64 /      64 (100.00%) | total_pruned =       0 | shape = (64,)\n",
            "layer2.0.conv1.weight | nonzeros =   73728 /   73728 (100.00%) | total_pruned =       0 | shape = (128, 64, 3, 3)\n",
            "layer2.0.bn1.weight  | nonzeros =     128 /     128 (100.00%) | total_pruned =       0 | shape = (128,)\n",
            "layer2.0.bn1.bias    | nonzeros =     128 /     128 (100.00%) | total_pruned =       0 | shape = (128,)\n",
            "layer2.0.conv2.weight | nonzeros =  147456 /  147456 (100.00%) | total_pruned =       0 | shape = (128, 128, 3, 3)\n",
            "layer2.0.bn2.weight  | nonzeros =     128 /     128 (100.00%) | total_pruned =       0 | shape = (128,)\n",
            "layer2.0.bn2.bias    | nonzeros =     128 /     128 (100.00%) | total_pruned =       0 | shape = (128,)\n",
            "layer2.0.downsample.0.weight | nonzeros =    8192 /    8192 (100.00%) | total_pruned =       0 | shape = (128, 64, 1, 1)\n",
            "layer2.0.downsample.1.weight | nonzeros =     128 /     128 (100.00%) | total_pruned =       0 | shape = (128,)\n",
            "layer2.0.downsample.1.bias | nonzeros =     128 /     128 (100.00%) | total_pruned =       0 | shape = (128,)\n",
            "layer2.1.conv1.weight | nonzeros =  147456 /  147456 (100.00%) | total_pruned =       0 | shape = (128, 128, 3, 3)\n",
            "layer2.1.bn1.weight  | nonzeros =     128 /     128 (100.00%) | total_pruned =       0 | shape = (128,)\n",
            "layer2.1.bn1.bias    | nonzeros =     128 /     128 (100.00%) | total_pruned =       0 | shape = (128,)\n",
            "layer2.1.conv2.weight | nonzeros =  147456 /  147456 (100.00%) | total_pruned =       0 | shape = (128, 128, 3, 3)\n",
            "layer2.1.bn2.weight  | nonzeros =     128 /     128 (100.00%) | total_pruned =       0 | shape = (128,)\n",
            "layer2.1.bn2.bias    | nonzeros =     128 /     128 (100.00%) | total_pruned =       0 | shape = (128,)\n",
            "layer3.0.conv1.weight | nonzeros =  294912 /  294912 (100.00%) | total_pruned =       0 | shape = (256, 128, 3, 3)\n",
            "layer3.0.bn1.weight  | nonzeros =     256 /     256 (100.00%) | total_pruned =       0 | shape = (256,)\n",
            "layer3.0.bn1.bias    | nonzeros =     256 /     256 (100.00%) | total_pruned =       0 | shape = (256,)\n",
            "layer3.0.conv2.weight | nonzeros =  589824 /  589824 (100.00%) | total_pruned =       0 | shape = (256, 256, 3, 3)\n",
            "layer3.0.bn2.weight  | nonzeros =     256 /     256 (100.00%) | total_pruned =       0 | shape = (256,)\n",
            "layer3.0.bn2.bias    | nonzeros =     256 /     256 (100.00%) | total_pruned =       0 | shape = (256,)\n",
            "layer3.0.downsample.0.weight | nonzeros =   32768 /   32768 (100.00%) | total_pruned =       0 | shape = (256, 128, 1, 1)\n",
            "layer3.0.downsample.1.weight | nonzeros =     256 /     256 (100.00%) | total_pruned =       0 | shape = (256,)\n",
            "layer3.0.downsample.1.bias | nonzeros =     256 /     256 (100.00%) | total_pruned =       0 | shape = (256,)\n",
            "layer3.1.conv1.weight | nonzeros =  589824 /  589824 (100.00%) | total_pruned =       0 | shape = (256, 256, 3, 3)\n",
            "layer3.1.bn1.weight  | nonzeros =     256 /     256 (100.00%) | total_pruned =       0 | shape = (256,)\n",
            "layer3.1.bn1.bias    | nonzeros =     256 /     256 (100.00%) | total_pruned =       0 | shape = (256,)\n",
            "layer3.1.conv2.weight | nonzeros =  589824 /  589824 (100.00%) | total_pruned =       0 | shape = (256, 256, 3, 3)\n",
            "layer3.1.bn2.weight  | nonzeros =     256 /     256 (100.00%) | total_pruned =       0 | shape = (256,)\n",
            "layer3.1.bn2.bias    | nonzeros =     256 /     256 (100.00%) | total_pruned =       0 | shape = (256,)\n",
            "layer4.0.conv1.weight | nonzeros = 1179648 / 1179648 (100.00%) | total_pruned =       0 | shape = (512, 256, 3, 3)\n",
            "layer4.0.bn1.weight  | nonzeros =     512 /     512 (100.00%) | total_pruned =       0 | shape = (512,)\n",
            "layer4.0.bn1.bias    | nonzeros =     512 /     512 (100.00%) | total_pruned =       0 | shape = (512,)\n",
            "layer4.0.conv2.weight | nonzeros = 2359296 / 2359296 (100.00%) | total_pruned =       0 | shape = (512, 512, 3, 3)\n",
            "layer4.0.bn2.weight  | nonzeros =     512 /     512 (100.00%) | total_pruned =       0 | shape = (512,)\n",
            "layer4.0.bn2.bias    | nonzeros =     512 /     512 (100.00%) | total_pruned =       0 | shape = (512,)\n",
            "layer4.0.downsample.0.weight | nonzeros =  131072 /  131072 (100.00%) | total_pruned =       0 | shape = (512, 256, 1, 1)\n",
            "layer4.0.downsample.1.weight | nonzeros =     512 /     512 (100.00%) | total_pruned =       0 | shape = (512,)\n",
            "layer4.0.downsample.1.bias | nonzeros =     512 /     512 (100.00%) | total_pruned =       0 | shape = (512,)\n",
            "layer4.1.conv1.weight | nonzeros = 2359296 / 2359296 (100.00%) | total_pruned =       0 | shape = (512, 512, 3, 3)\n",
            "layer4.1.bn1.weight  | nonzeros =     512 /     512 (100.00%) | total_pruned =       0 | shape = (512,)\n",
            "layer4.1.bn1.bias    | nonzeros =     512 /     512 (100.00%) | total_pruned =       0 | shape = (512,)\n",
            "layer4.1.conv2.weight | nonzeros = 2359296 / 2359296 (100.00%) | total_pruned =       0 | shape = (512, 512, 3, 3)\n",
            "layer4.1.bn2.weight  | nonzeros =     512 /     512 (100.00%) | total_pruned =       0 | shape = (512,)\n",
            "layer4.1.bn2.bias    | nonzeros =     512 /     512 (100.00%) | total_pruned =       0 | shape = (512,)\n",
            "fc.weight            | nonzeros =    5120 /    5120 (100.00%) | total_pruned =       0 | shape = (10, 512)\n",
            "fc.bias              | nonzeros =      10 /      10 (100.00%) | total_pruned =       0 | shape = (10,)\n",
            "alive: 11175370, pruned : 0, total: 11175370, Compression rate :       1.00x  (  0.00% pruned)\n"
          ]
        },
        {
          "output_type": "stream",
          "name": "stderr",
          "text": [
            "\r  0%|          | 0/1 [00:00<?, ?it/s]"
          ]
        },
        {
          "output_type": "stream",
          "name": "stdout",
          "text": [
            "\n",
            "Training: 0/1 epochs\n"
          ]
        },
        {
          "output_type": "stream",
          "name": "stderr",
          "text": [
            "\n",
            "       0%|                                                  | 0/109 [00:00<?, ?it/s]\u001b[A\n",
            "       1%|▍                                                 | 1/109 [00:12<22:26, 12.47s/it]\u001b[A\n",
            "       2%|▉                                                 | 2/109 [00:21<18:16, 10.25s/it]\u001b[A\n",
            "       3%|█▍                                                | 3/109 [00:34<20:28, 11.59s/it]\u001b[A\n",
            "       4%|█▊                                                | 4/109 [00:48<22:14, 12.71s/it]\u001b[A\n",
            "       5%|██▎                                               | 5/109 [00:58<20:28, 11.81s/it]\u001b[A\n",
            "       6%|██▊                                               | 6/109 [01:08<18:42, 10.90s/it]\u001b[A\n",
            "       6%|███▏                                              | 7/109 [01:25<21:58, 12.93s/it]\u001b[A\n",
            "       7%|███▋                                              | 8/109 [01:39<22:21, 13.28s/it]\u001b[A\n",
            "       8%|████▏                                             | 9/109 [01:55<23:36, 14.16s/it]\u001b[A\n",
            "       9%|████▌                                             | 10/109 [02:08<23:04, 13.98s/it]\u001b[A\n",
            "      10%|█████                                             | 11/109 [02:24<23:41, 14.51s/it]\u001b[A\n",
            "      11%|█████▌                                            | 12/109 [02:37<22:48, 14.10s/it]\u001b[A\n",
            "      12%|█████▉                                            | 13/109 [02:47<20:34, 12.86s/it]\u001b[A\n",
            "      13%|██████▍                                           | 14/109 [03:01<20:40, 13.06s/it]\u001b[A\n",
            "      14%|██████▉                                           | 15/109 [03:15<20:52, 13.32s/it]\u001b[A\n",
            "      15%|███████▎                                          | 16/109 [03:25<19:24, 12.52s/it]\u001b[A\n",
            "      16%|███████▊                                          | 17/109 [03:39<19:51, 12.95s/it]\u001b[A\n",
            "      17%|████████▎                                         | 18/109 [03:56<21:18, 14.05s/it]\u001b[A\n",
            "      17%|████████▋                                         | 19/109 [04:09<20:25, 13.61s/it]\u001b[A\n",
            "      18%|█████████▏                                        | 20/109 [04:20<19:26, 13.10s/it]\u001b[A\n",
            "      19%|█████████▋                                        | 21/109 [04:30<17:50, 12.16s/it]\u001b[A\n",
            "      20%|██████████                                        | 22/109 [04:40<16:42, 11.52s/it]\u001b[A\n",
            "      21%|██████████▌                                       | 23/109 [04:51<16:04, 11.21s/it]\u001b[A\n",
            "      22%|███████████                                       | 24/109 [05:02<15:52, 11.21s/it]\u001b[A\n",
            "      23%|███████████▍                                      | 25/109 [05:10<14:11, 10.14s/it]\u001b[A\n",
            "      24%|███████████▉                                      | 26/109 [05:31<17:39, 12.77s/it]\n",
            "  0%|          | 0/1 [05:32<?, ?it/s]\n"
          ]
        },
        {
          "output_type": "error",
          "ename": "KeyboardInterrupt",
          "evalue": "ignored",
          "traceback": [
            "\u001b[0;31m---------------------------------------------------------------------------\u001b[0m",
            "\u001b[0;31mKeyboardInterrupt\u001b[0m                         Traceback (most recent call last)",
            "\u001b[0;32m<ipython-input-123-eeb9d29e4494>\u001b[0m in \u001b[0;36m<module>\u001b[0;34m()\u001b[0m\n\u001b[1;32m     25\u001b[0m \u001b[0;34m\u001b[0m\u001b[0m\n\u001b[1;32m     26\u001b[0m           \u001b[0;31m# Training\u001b[0m\u001b[0;34m\u001b[0m\u001b[0;34m\u001b[0m\u001b[0;34m\u001b[0m\u001b[0m\n\u001b[0;32m---> 27\u001b[0;31m           \u001b[0mloss\u001b[0m\u001b[0;34m,\u001b[0m\u001b[0maccuracy\u001b[0m \u001b[0;34m=\u001b[0m \u001b[0mmng_2\u001b[0m\u001b[0;34m.\u001b[0m\u001b[0mone_epoch\u001b[0m\u001b[0;34m(\u001b[0m\u001b[0mtraining\u001b[0m\u001b[0;34m=\u001b[0m\u001b[0;32mTrue\u001b[0m\u001b[0;34m)\u001b[0m\u001b[0;34m\u001b[0m\u001b[0;34m\u001b[0m\u001b[0m\n\u001b[0m\u001b[1;32m     28\u001b[0m           \u001b[0mmng_2\u001b[0m\u001b[0;34m.\u001b[0m\u001b[0mcurrent_epoch\u001b[0m \u001b[0;34m+=\u001b[0m\u001b[0;36m1\u001b[0m\u001b[0;34m\u001b[0m\u001b[0;34m\u001b[0m\u001b[0m\n\u001b[1;32m     29\u001b[0m           \u001b[0mall_loss\u001b[0m\u001b[0;34m[\u001b[0m\u001b[0miter_\u001b[0m\u001b[0;34m]\u001b[0m \u001b[0;34m=\u001b[0m \u001b[0mloss\u001b[0m\u001b[0;34m\u001b[0m\u001b[0;34m\u001b[0m\u001b[0m\n",
            "\u001b[0;32m<ipython-input-77-1eb18244d59a>\u001b[0m in \u001b[0;36mone_epoch\u001b[0;34m(self, training)\u001b[0m\n\u001b[1;32m     81\u001b[0m         \u001b[0;31m# Loop over mini-batches\u001b[0m\u001b[0;34m\u001b[0m\u001b[0;34m\u001b[0m\u001b[0;34m\u001b[0m\u001b[0m\n\u001b[1;32m     82\u001b[0m         \u001b[0mbar_format\u001b[0m \u001b[0;34m=\u001b[0m \u001b[0;34m\"{desc:<5.5}{percentage:3.0f}%|{bar:50}{r_bar}\"\u001b[0m\u001b[0;34m\u001b[0m\u001b[0;34m\u001b[0m\u001b[0m\n\u001b[0;32m---> 83\u001b[0;31m         \u001b[0;32mfor\u001b[0m \u001b[0mit\u001b[0m\u001b[0;34m,\u001b[0m \u001b[0mbatch\u001b[0m \u001b[0;32min\u001b[0m \u001b[0menumerate\u001b[0m\u001b[0;34m(\u001b[0m\u001b[0mtqdm\u001b[0m\u001b[0;34m(\u001b[0m\u001b[0mloader\u001b[0m\u001b[0;34m,\u001b[0m \u001b[0mbar_format\u001b[0m\u001b[0;34m=\u001b[0m\u001b[0mbar_format\u001b[0m\u001b[0;34m)\u001b[0m\u001b[0;34m)\u001b[0m\u001b[0;34m:\u001b[0m\u001b[0;34m\u001b[0m\u001b[0;34m\u001b[0m\u001b[0m\n\u001b[0m\u001b[1;32m     84\u001b[0m \u001b[0;34m\u001b[0m\u001b[0m\n\u001b[1;32m     85\u001b[0m             \u001b[0;31m# Data\u001b[0m\u001b[0;34m\u001b[0m\u001b[0;34m\u001b[0m\u001b[0;34m\u001b[0m\u001b[0m\n",
            "\u001b[0;32m/usr/local/lib/python3.7/dist-packages/tqdm/std.py\u001b[0m in \u001b[0;36m__iter__\u001b[0;34m(self)\u001b[0m\n\u001b[1;32m   1193\u001b[0m \u001b[0;34m\u001b[0m\u001b[0m\n\u001b[1;32m   1194\u001b[0m         \u001b[0;32mtry\u001b[0m\u001b[0;34m:\u001b[0m\u001b[0;34m\u001b[0m\u001b[0;34m\u001b[0m\u001b[0m\n\u001b[0;32m-> 1195\u001b[0;31m             \u001b[0;32mfor\u001b[0m \u001b[0mobj\u001b[0m \u001b[0;32min\u001b[0m \u001b[0miterable\u001b[0m\u001b[0;34m:\u001b[0m\u001b[0;34m\u001b[0m\u001b[0;34m\u001b[0m\u001b[0m\n\u001b[0m\u001b[1;32m   1196\u001b[0m                 \u001b[0;32myield\u001b[0m \u001b[0mobj\u001b[0m\u001b[0;34m\u001b[0m\u001b[0;34m\u001b[0m\u001b[0m\n\u001b[1;32m   1197\u001b[0m                 \u001b[0;31m# Update and possibly print the progressbar.\u001b[0m\u001b[0;34m\u001b[0m\u001b[0;34m\u001b[0m\u001b[0;34m\u001b[0m\u001b[0m\n",
            "\u001b[0;32m/usr/local/lib/python3.7/dist-packages/torch/utils/data/dataloader.py\u001b[0m in \u001b[0;36m__next__\u001b[0;34m(self)\u001b[0m\n\u001b[1;32m    433\u001b[0m         \u001b[0;32mif\u001b[0m \u001b[0mself\u001b[0m\u001b[0;34m.\u001b[0m\u001b[0m_sampler_iter\u001b[0m \u001b[0;32mis\u001b[0m \u001b[0;32mNone\u001b[0m\u001b[0;34m:\u001b[0m\u001b[0;34m\u001b[0m\u001b[0;34m\u001b[0m\u001b[0m\n\u001b[1;32m    434\u001b[0m             \u001b[0mself\u001b[0m\u001b[0;34m.\u001b[0m\u001b[0m_reset\u001b[0m\u001b[0;34m(\u001b[0m\u001b[0;34m)\u001b[0m\u001b[0;34m\u001b[0m\u001b[0;34m\u001b[0m\u001b[0m\n\u001b[0;32m--> 435\u001b[0;31m         \u001b[0mdata\u001b[0m \u001b[0;34m=\u001b[0m \u001b[0mself\u001b[0m\u001b[0;34m.\u001b[0m\u001b[0m_next_data\u001b[0m\u001b[0;34m(\u001b[0m\u001b[0;34m)\u001b[0m\u001b[0;34m\u001b[0m\u001b[0;34m\u001b[0m\u001b[0m\n\u001b[0m\u001b[1;32m    436\u001b[0m         \u001b[0mself\u001b[0m\u001b[0;34m.\u001b[0m\u001b[0m_num_yielded\u001b[0m \u001b[0;34m+=\u001b[0m \u001b[0;36m1\u001b[0m\u001b[0;34m\u001b[0m\u001b[0;34m\u001b[0m\u001b[0m\n\u001b[1;32m    437\u001b[0m         \u001b[0;32mif\u001b[0m \u001b[0mself\u001b[0m\u001b[0;34m.\u001b[0m\u001b[0m_dataset_kind\u001b[0m \u001b[0;34m==\u001b[0m \u001b[0m_DatasetKind\u001b[0m\u001b[0;34m.\u001b[0m\u001b[0mIterable\u001b[0m \u001b[0;32mand\u001b[0m\u001b[0;31m \u001b[0m\u001b[0;31m\\\u001b[0m\u001b[0;34m\u001b[0m\u001b[0;34m\u001b[0m\u001b[0m\n",
            "\u001b[0;32m/usr/local/lib/python3.7/dist-packages/torch/utils/data/dataloader.py\u001b[0m in \u001b[0;36m_next_data\u001b[0;34m(self)\u001b[0m\n\u001b[1;32m   1066\u001b[0m \u001b[0;34m\u001b[0m\u001b[0m\n\u001b[1;32m   1067\u001b[0m             \u001b[0;32massert\u001b[0m \u001b[0;32mnot\u001b[0m \u001b[0mself\u001b[0m\u001b[0;34m.\u001b[0m\u001b[0m_shutdown\u001b[0m \u001b[0;32mand\u001b[0m \u001b[0mself\u001b[0m\u001b[0;34m.\u001b[0m\u001b[0m_tasks_outstanding\u001b[0m \u001b[0;34m>\u001b[0m \u001b[0;36m0\u001b[0m\u001b[0;34m\u001b[0m\u001b[0;34m\u001b[0m\u001b[0m\n\u001b[0;32m-> 1068\u001b[0;31m             \u001b[0midx\u001b[0m\u001b[0;34m,\u001b[0m \u001b[0mdata\u001b[0m \u001b[0;34m=\u001b[0m \u001b[0mself\u001b[0m\u001b[0;34m.\u001b[0m\u001b[0m_get_data\u001b[0m\u001b[0;34m(\u001b[0m\u001b[0;34m)\u001b[0m\u001b[0;34m\u001b[0m\u001b[0;34m\u001b[0m\u001b[0m\n\u001b[0m\u001b[1;32m   1069\u001b[0m             \u001b[0mself\u001b[0m\u001b[0;34m.\u001b[0m\u001b[0m_tasks_outstanding\u001b[0m \u001b[0;34m-=\u001b[0m \u001b[0;36m1\u001b[0m\u001b[0;34m\u001b[0m\u001b[0;34m\u001b[0m\u001b[0m\n\u001b[1;32m   1070\u001b[0m             \u001b[0;32mif\u001b[0m \u001b[0mself\u001b[0m\u001b[0;34m.\u001b[0m\u001b[0m_dataset_kind\u001b[0m \u001b[0;34m==\u001b[0m \u001b[0m_DatasetKind\u001b[0m\u001b[0;34m.\u001b[0m\u001b[0mIterable\u001b[0m\u001b[0;34m:\u001b[0m\u001b[0;34m\u001b[0m\u001b[0;34m\u001b[0m\u001b[0m\n",
            "\u001b[0;32m/usr/local/lib/python3.7/dist-packages/torch/utils/data/dataloader.py\u001b[0m in \u001b[0;36m_get_data\u001b[0;34m(self)\u001b[0m\n\u001b[1;32m   1022\u001b[0m         \u001b[0;32melif\u001b[0m \u001b[0mself\u001b[0m\u001b[0;34m.\u001b[0m\u001b[0m_pin_memory\u001b[0m\u001b[0;34m:\u001b[0m\u001b[0;34m\u001b[0m\u001b[0;34m\u001b[0m\u001b[0m\n\u001b[1;32m   1023\u001b[0m             \u001b[0;32mwhile\u001b[0m \u001b[0mself\u001b[0m\u001b[0;34m.\u001b[0m\u001b[0m_pin_memory_thread\u001b[0m\u001b[0;34m.\u001b[0m\u001b[0mis_alive\u001b[0m\u001b[0;34m(\u001b[0m\u001b[0;34m)\u001b[0m\u001b[0;34m:\u001b[0m\u001b[0;34m\u001b[0m\u001b[0;34m\u001b[0m\u001b[0m\n\u001b[0;32m-> 1024\u001b[0;31m                 \u001b[0msuccess\u001b[0m\u001b[0;34m,\u001b[0m \u001b[0mdata\u001b[0m \u001b[0;34m=\u001b[0m \u001b[0mself\u001b[0m\u001b[0;34m.\u001b[0m\u001b[0m_try_get_data\u001b[0m\u001b[0;34m(\u001b[0m\u001b[0;34m)\u001b[0m\u001b[0;34m\u001b[0m\u001b[0;34m\u001b[0m\u001b[0m\n\u001b[0m\u001b[1;32m   1025\u001b[0m                 \u001b[0;32mif\u001b[0m \u001b[0msuccess\u001b[0m\u001b[0;34m:\u001b[0m\u001b[0;34m\u001b[0m\u001b[0;34m\u001b[0m\u001b[0m\n\u001b[1;32m   1026\u001b[0m                     \u001b[0;32mreturn\u001b[0m \u001b[0mdata\u001b[0m\u001b[0;34m\u001b[0m\u001b[0;34m\u001b[0m\u001b[0m\n",
            "\u001b[0;32m/usr/local/lib/python3.7/dist-packages/torch/utils/data/dataloader.py\u001b[0m in \u001b[0;36m_try_get_data\u001b[0;34m(self, timeout)\u001b[0m\n\u001b[1;32m    870\u001b[0m         \u001b[0;31m#   (bool: whether successfully get data, any: data if successful else None)\u001b[0m\u001b[0;34m\u001b[0m\u001b[0;34m\u001b[0m\u001b[0;34m\u001b[0m\u001b[0m\n\u001b[1;32m    871\u001b[0m         \u001b[0;32mtry\u001b[0m\u001b[0;34m:\u001b[0m\u001b[0;34m\u001b[0m\u001b[0;34m\u001b[0m\u001b[0m\n\u001b[0;32m--> 872\u001b[0;31m             \u001b[0mdata\u001b[0m \u001b[0;34m=\u001b[0m \u001b[0mself\u001b[0m\u001b[0;34m.\u001b[0m\u001b[0m_data_queue\u001b[0m\u001b[0;34m.\u001b[0m\u001b[0mget\u001b[0m\u001b[0;34m(\u001b[0m\u001b[0mtimeout\u001b[0m\u001b[0;34m=\u001b[0m\u001b[0mtimeout\u001b[0m\u001b[0;34m)\u001b[0m\u001b[0;34m\u001b[0m\u001b[0;34m\u001b[0m\u001b[0m\n\u001b[0m\u001b[1;32m    873\u001b[0m             \u001b[0;32mreturn\u001b[0m \u001b[0;34m(\u001b[0m\u001b[0;32mTrue\u001b[0m\u001b[0;34m,\u001b[0m \u001b[0mdata\u001b[0m\u001b[0;34m)\u001b[0m\u001b[0;34m\u001b[0m\u001b[0;34m\u001b[0m\u001b[0m\n\u001b[1;32m    874\u001b[0m         \u001b[0;32mexcept\u001b[0m \u001b[0mException\u001b[0m \u001b[0;32mas\u001b[0m \u001b[0me\u001b[0m\u001b[0;34m:\u001b[0m\u001b[0;34m\u001b[0m\u001b[0;34m\u001b[0m\u001b[0m\n",
            "\u001b[0;32m/usr/lib/python3.7/queue.py\u001b[0m in \u001b[0;36mget\u001b[0;34m(self, block, timeout)\u001b[0m\n\u001b[1;32m    177\u001b[0m                     \u001b[0;32mif\u001b[0m \u001b[0mremaining\u001b[0m \u001b[0;34m<=\u001b[0m \u001b[0;36m0.0\u001b[0m\u001b[0;34m:\u001b[0m\u001b[0;34m\u001b[0m\u001b[0;34m\u001b[0m\u001b[0m\n\u001b[1;32m    178\u001b[0m                         \u001b[0;32mraise\u001b[0m \u001b[0mEmpty\u001b[0m\u001b[0;34m\u001b[0m\u001b[0;34m\u001b[0m\u001b[0m\n\u001b[0;32m--> 179\u001b[0;31m                     \u001b[0mself\u001b[0m\u001b[0;34m.\u001b[0m\u001b[0mnot_empty\u001b[0m\u001b[0;34m.\u001b[0m\u001b[0mwait\u001b[0m\u001b[0;34m(\u001b[0m\u001b[0mremaining\u001b[0m\u001b[0;34m)\u001b[0m\u001b[0;34m\u001b[0m\u001b[0;34m\u001b[0m\u001b[0m\n\u001b[0m\u001b[1;32m    180\u001b[0m             \u001b[0mitem\u001b[0m \u001b[0;34m=\u001b[0m \u001b[0mself\u001b[0m\u001b[0;34m.\u001b[0m\u001b[0m_get\u001b[0m\u001b[0;34m(\u001b[0m\u001b[0;34m)\u001b[0m\u001b[0;34m\u001b[0m\u001b[0;34m\u001b[0m\u001b[0m\n\u001b[1;32m    181\u001b[0m             \u001b[0mself\u001b[0m\u001b[0;34m.\u001b[0m\u001b[0mnot_full\u001b[0m\u001b[0;34m.\u001b[0m\u001b[0mnotify\u001b[0m\u001b[0;34m(\u001b[0m\u001b[0;34m)\u001b[0m\u001b[0;34m\u001b[0m\u001b[0;34m\u001b[0m\u001b[0m\n",
            "\u001b[0;32m/usr/lib/python3.7/threading.py\u001b[0m in \u001b[0;36mwait\u001b[0;34m(self, timeout)\u001b[0m\n\u001b[1;32m    298\u001b[0m             \u001b[0;32melse\u001b[0m\u001b[0;34m:\u001b[0m\u001b[0;34m\u001b[0m\u001b[0;34m\u001b[0m\u001b[0m\n\u001b[1;32m    299\u001b[0m                 \u001b[0;32mif\u001b[0m \u001b[0mtimeout\u001b[0m \u001b[0;34m>\u001b[0m \u001b[0;36m0\u001b[0m\u001b[0;34m:\u001b[0m\u001b[0;34m\u001b[0m\u001b[0;34m\u001b[0m\u001b[0m\n\u001b[0;32m--> 300\u001b[0;31m                     \u001b[0mgotit\u001b[0m \u001b[0;34m=\u001b[0m \u001b[0mwaiter\u001b[0m\u001b[0;34m.\u001b[0m\u001b[0macquire\u001b[0m\u001b[0;34m(\u001b[0m\u001b[0;32mTrue\u001b[0m\u001b[0;34m,\u001b[0m \u001b[0mtimeout\u001b[0m\u001b[0;34m)\u001b[0m\u001b[0;34m\u001b[0m\u001b[0;34m\u001b[0m\u001b[0m\n\u001b[0m\u001b[1;32m    301\u001b[0m                 \u001b[0;32melse\u001b[0m\u001b[0;34m:\u001b[0m\u001b[0;34m\u001b[0m\u001b[0;34m\u001b[0m\u001b[0m\n\u001b[1;32m    302\u001b[0m                     \u001b[0mgotit\u001b[0m \u001b[0;34m=\u001b[0m \u001b[0mwaiter\u001b[0m\u001b[0;34m.\u001b[0m\u001b[0macquire\u001b[0m\u001b[0;34m(\u001b[0m\u001b[0;32mFalse\u001b[0m\u001b[0;34m)\u001b[0m\u001b[0;34m\u001b[0m\u001b[0;34m\u001b[0m\u001b[0m\n",
            "\u001b[0;31mKeyboardInterrupt\u001b[0m: "
          ]
        }
      ]
    }
  ],
  "metadata": {
    "accelerator": "GPU",
    "colab": {
      "collapsed_sections": [],
      "name": "projet.ipynb",
      "provenance": []
    },
    "interpreter": {
      "hash": "2db524e06e9f5f4ffedc911c917cb75e12dbc923643829bf417064a77eb14d37"
    },
    "kernelspec": {
      "display_name": "Python 3.8.3 64-bit",
      "language": "python",
      "name": "python3"
    },
    "language_info": {
      "codemirror_mode": {
        "name": "ipython",
        "version": 3
      },
      "file_extension": ".py",
      "mimetype": "text/x-python",
      "name": "python",
      "nbconvert_exporter": "python",
      "pygments_lexer": "ipython3",
      "version": "3.8.5"
    }
  },
  "nbformat": 4,
  "nbformat_minor": 0
}