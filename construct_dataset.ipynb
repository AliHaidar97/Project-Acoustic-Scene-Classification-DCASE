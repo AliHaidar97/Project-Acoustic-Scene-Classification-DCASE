{
 "cells": [
  {
   "cell_type": "code",
   "execution_count": 1,
   "metadata": {},
   "outputs": [],
   "source": [
    "import os\n",
    "import pandas as pd\n",
    "import shutil"
   ]
  },
  {
   "cell_type": "code",
   "execution_count": 2,
   "metadata": {},
   "outputs": [],
   "source": [
    "root_dir = \"data/TAU-urban-acoustic-scenes-2020-mobile-development\"\n",
    "\n",
    "\n",
    "files = os.listdir(root_dir + '/audio')\n",
    "\n",
    "test_files = pd.read_csv(root_dir+\"/fold1_test.csv\", sep = \"\\t\")\n",
    "train_files = pd.read_csv(root_dir+\"/fold1_train.csv\", sep = \"\\t\")\n",
    "val_files = pd.read_csv(root_dir+\"/fold1_evaluate.csv\", sep = \"\\t\")"
   ]
  },
  {
   "cell_type": "code",
   "execution_count": 3,
   "metadata": {},
   "outputs": [
    {
     "name": "stdout",
     "output_type": "stream",
     "text": [
      "c:\\Users\\Emeric\\Documents\\GitHub\\Project-Acoustic-Scene-Classification-DCASE\\data\\TAU-urban-acoustic-scenes-2020-mobile-development\n"
     ]
    }
   ],
   "source": [
    "%cd data/TAU-urban-acoustic-scenes-2020-mobile-development\n"
   ]
  },
  {
   "cell_type": "code",
   "execution_count": 4,
   "metadata": {},
   "outputs": [
    {
     "name": "stdout",
     "output_type": "stream",
     "text": [
      " Le volume dans le lecteur C s'appelle OS\n",
      " Le num�ro de s�rie du volume est B2EB-DBCF\n",
      "\n",
      " R�pertoire de c:\\Users\\Emeric\\Documents\\GitHub\\Project-Acoustic-Scene-Classification-DCASE\\data\\TAU-urban-acoustic-scenes-2020-mobile-development\n",
      "\n",
      "03/03/2022  16:18    <DIR>          .\n",
      "02/03/2022  14:16    <DIR>          ..\n",
      "02/03/2022  17:37                 1 .gitignore\n",
      "03/03/2022  16:36    <DIR>          audio\n",
      "03/03/2022  15:40    <DIR>          evaluation_setup\n",
      "03/03/2022  15:49           150�125 fold1_evaluate.csv\n",
      "03/03/2022  15:49           119�535 fold1_test.csv\n",
      "03/03/2022  15:49           691�685 fold1_train.csv\n",
      "03/03/2022  15:40             1�549 LICENSE\n",
      "03/03/2022  15:40         1�466�648 meta.csv\n",
      "03/03/2022  15:40            63�282 README.html\n",
      "03/03/2022  15:40            53�575 README.md\n",
      "03/03/2022  16:18             5�824 test_data.csv\n",
      "03/03/2022  15:58    <DIR>          test_files\n",
      "03/03/2022  16:17             5�574 train_data.csv\n",
      "03/03/2022  15:58    <DIR>          train_files\n",
      "03/03/2022  15:58    <DIR>          val_files\n",
      "              10 fichier(s)        2�557�798 octets\n",
      "               7 R�p(s)  13�115�617�280 octets libres\n"
     ]
    }
   ],
   "source": [
    "%ls"
   ]
  },
  {
   "cell_type": "code",
   "execution_count": 5,
   "metadata": {},
   "outputs": [],
   "source": [
    "def check_dir(dir_path):\n",
    "    dir_path = dir_path.replace('//','/')\n",
    "    os.makedirs(dir_path, exist_ok=True)\n",
    "    "
   ]
  },
  {
   "cell_type": "code",
   "execution_count": 6,
   "metadata": {},
   "outputs": [
    {
     "data": {
      "text/html": [
       "<div>\n",
       "<style scoped>\n",
       "    .dataframe tbody tr th:only-of-type {\n",
       "        vertical-align: middle;\n",
       "    }\n",
       "\n",
       "    .dataframe tbody tr th {\n",
       "        vertical-align: top;\n",
       "    }\n",
       "\n",
       "    .dataframe thead th {\n",
       "        text-align: right;\n",
       "    }\n",
       "</style>\n",
       "<table border=\"1\" class=\"dataframe\">\n",
       "  <thead>\n",
       "    <tr style=\"text-align: right;\">\n",
       "      <th></th>\n",
       "      <th>filename</th>\n",
       "    </tr>\n",
       "  </thead>\n",
       "  <tbody>\n",
       "    <tr>\n",
       "      <th>0</th>\n",
       "      <td>audio/airport-barcelona-203-6129-a.wav</td>\n",
       "    </tr>\n",
       "    <tr>\n",
       "      <th>1</th>\n",
       "      <td>audio/airport-barcelona-203-6133-a.wav</td>\n",
       "    </tr>\n",
       "    <tr>\n",
       "      <th>2</th>\n",
       "      <td>audio/airport-barcelona-203-6132-a.wav</td>\n",
       "    </tr>\n",
       "    <tr>\n",
       "      <th>3</th>\n",
       "      <td>audio/airport-helsinki-204-6150-a.wav</td>\n",
       "    </tr>\n",
       "    <tr>\n",
       "      <th>4</th>\n",
       "      <td>audio/airport-helsinki-204-6163-a.wav</td>\n",
       "    </tr>\n",
       "    <tr>\n",
       "      <th>...</th>\n",
       "      <td>...</td>\n",
       "    </tr>\n",
       "    <tr>\n",
       "      <th>2963</th>\n",
       "      <td>audio/tram-vienna-285-8615-s6.wav</td>\n",
       "    </tr>\n",
       "    <tr>\n",
       "      <th>2964</th>\n",
       "      <td>audio/tram-vienna-285-8605-s6.wav</td>\n",
       "    </tr>\n",
       "    <tr>\n",
       "      <th>2965</th>\n",
       "      <td>audio/tram-barcelona-275-8391-s6.wav</td>\n",
       "    </tr>\n",
       "    <tr>\n",
       "      <th>2966</th>\n",
       "      <td>audio/tram-helsinki-276-8416-s6.wav</td>\n",
       "    </tr>\n",
       "    <tr>\n",
       "      <th>2967</th>\n",
       "      <td>audio/tram-lisbon-1200-45650-s6.wav</td>\n",
       "    </tr>\n",
       "  </tbody>\n",
       "</table>\n",
       "<p>2968 rows × 1 columns</p>\n",
       "</div>"
      ],
      "text/plain": [
       "                                    filename\n",
       "0     audio/airport-barcelona-203-6129-a.wav\n",
       "1     audio/airport-barcelona-203-6133-a.wav\n",
       "2     audio/airport-barcelona-203-6132-a.wav\n",
       "3      audio/airport-helsinki-204-6150-a.wav\n",
       "4      audio/airport-helsinki-204-6163-a.wav\n",
       "...                                      ...\n",
       "2963       audio/tram-vienna-285-8615-s6.wav\n",
       "2964       audio/tram-vienna-285-8605-s6.wav\n",
       "2965    audio/tram-barcelona-275-8391-s6.wav\n",
       "2966     audio/tram-helsinki-276-8416-s6.wav\n",
       "2967     audio/tram-lisbon-1200-45650-s6.wav\n",
       "\n",
       "[2968 rows x 1 columns]"
      ]
     },
     "execution_count": 6,
     "metadata": {},
     "output_type": "execute_result"
    }
   ],
   "source": [
    "test_files"
   ]
  },
  {
   "cell_type": "code",
   "execution_count": 7,
   "metadata": {},
   "outputs": [
    {
     "data": {
      "text/plain": [
       "'c:\\\\Users\\\\Emeric\\\\Documents\\\\GitHub\\\\Project-Acoustic-Scene-Classification-DCASE\\\\data\\\\TAU-urban-acoustic-scenes-2020-mobile-development'"
      ]
     },
     "execution_count": 7,
     "metadata": {},
     "output_type": "execute_result"
    }
   ],
   "source": [
    "%pwd"
   ]
  },
  {
   "cell_type": "code",
   "execution_count": 15,
   "metadata": {},
   "outputs": [
    {
     "name": "stdout",
     "output_type": "stream",
     "text": [
      " Le volume dans le lecteur C s'appelle OS\n",
      " Le num�ro de s�rie du volume est B2EB-DBCF\n",
      "\n",
      " R�pertoire de c:\\Users\\Emeric\\Documents\\GitHub\\Project-Acoustic-Scene-Classification-DCASE\\data\\TAU-urban-acoustic-scenes-2020-mobile-development\n",
      "\n",
      "03/03/2022  16:18    <DIR>          .\n",
      "02/03/2022  14:16    <DIR>          ..\n",
      "02/03/2022  17:37                 1 .gitignore\n",
      "03/03/2022  16:36    <DIR>          audio\n",
      "03/03/2022  15:40    <DIR>          evaluation_setup\n",
      "03/03/2022  15:49           150�125 fold1_evaluate.csv\n",
      "03/03/2022  15:49           119�535 fold1_test.csv\n",
      "03/03/2022  15:49           691�685 fold1_train.csv\n",
      "03/03/2022  15:40             1�549 LICENSE\n",
      "03/03/2022  15:40         1�466�648 meta.csv\n",
      "03/03/2022  15:40            63�282 README.html\n",
      "03/03/2022  15:40            53�575 README.md\n",
      "03/03/2022  16:18             5�824 test_data.csv\n",
      "03/03/2022  15:58    <DIR>          test_files\n",
      "03/03/2022  16:17             5�574 train_data.csv\n",
      "03/03/2022  15:58    <DIR>          train_files\n",
      "03/03/2022  15:58    <DIR>          val_files\n",
      "              10 fichier(s)        2�557�798 octets\n",
      "               7 R�p(s)  13�088�583�680 octets libres\n"
     ]
    }
   ],
   "source": [
    "%ls"
   ]
  },
  {
   "cell_type": "code",
   "execution_count": 25,
   "metadata": {},
   "outputs": [
    {
     "data": {
      "text/plain": [
       "'C:\\\\Users\\\\Emeric\\\\Documents\\\\GitHub\\\\Project-Acoustic-Scene-Classification-DCASE\\\\data\\\\TAU-urban-acoustic-scenes-2020-mobile-development\\\\test_files\\\\airport-barcelona-0-2-c.wav'"
      ]
     },
     "execution_count": 25,
     "metadata": {},
     "output_type": "execute_result"
    }
   ],
   "source": [
    "file = r'airport-barcelona-0-2-c.wav'\n",
    "dir = r'C:\\Users\\Emeric\\Documents\\GitHub\\Project-Acoustic-Scene-Classification-DCASE\\data\\TAU-urban-acoustic-scenes-2020-mobile-development'\n",
    "path_to_move = os.path.join(dir, \"test_files\", file)\n",
    "file_to_move = os.path.join(dir, \"audio\", file)\n",
    "shutil.move(file_to_move,path_to_move)"
   ]
  },
  {
   "cell_type": "code",
   "execution_count": 26,
   "metadata": {},
   "outputs": [
    {
     "ename": "FileNotFoundError",
     "evalue": "[Errno 2] No such file or directory: 'C:\\\\Users\\\\Emeric\\\\Documents\\\\GitHub\\\\Project-Acoustic-Scene-Classification-DCASE\\\\data\\\\TAU-urban-acoustic-scenes-2020-mobile-development\\\\audio\\\\audio/airport-barcelona-203-6129-a.wav'",
     "output_type": "error",
     "traceback": [
      "\u001b[1;31m---------------------------------------------------------------------------\u001b[0m",
      "\u001b[1;31mFileNotFoundError\u001b[0m                         Traceback (most recent call last)",
      "\u001b[1;32m~\\anaconda3\\lib\\shutil.py\u001b[0m in \u001b[0;36mmove\u001b[1;34m(src, dst, copy_function)\u001b[0m\n\u001b[0;32m    813\u001b[0m     \u001b[1;32mtry\u001b[0m\u001b[1;33m:\u001b[0m\u001b[1;33m\u001b[0m\u001b[1;33m\u001b[0m\u001b[0m\n\u001b[1;32m--> 814\u001b[1;33m         \u001b[0mos\u001b[0m\u001b[1;33m.\u001b[0m\u001b[0mrename\u001b[0m\u001b[1;33m(\u001b[0m\u001b[0msrc\u001b[0m\u001b[1;33m,\u001b[0m \u001b[0mreal_dst\u001b[0m\u001b[1;33m)\u001b[0m\u001b[1;33m\u001b[0m\u001b[1;33m\u001b[0m\u001b[0m\n\u001b[0m\u001b[0;32m    815\u001b[0m     \u001b[1;32mexcept\u001b[0m \u001b[0mOSError\u001b[0m\u001b[1;33m:\u001b[0m\u001b[1;33m\u001b[0m\u001b[1;33m\u001b[0m\u001b[0m\n",
      "\u001b[1;31mFileNotFoundError\u001b[0m: [WinError 3] Le chemin d’accès spécifié est introuvable: 'C:\\\\Users\\\\Emeric\\\\Documents\\\\GitHub\\\\Project-Acoustic-Scene-Classification-DCASE\\\\data\\\\TAU-urban-acoustic-scenes-2020-mobile-development\\\\audio\\\\audio/airport-barcelona-203-6129-a.wav' -> 'C:\\\\Users\\\\Emeric\\\\Documents\\\\GitHub\\\\Project-Acoustic-Scene-Classification-DCASE\\\\data\\\\TAU-urban-acoustic-scenes-2020-mobile-development\\\\test_files\\\\audio/airport-barcelona-203-6129-a.wav'",
      "\nDuring handling of the above exception, another exception occurred:\n",
      "\u001b[1;31mFileNotFoundError\u001b[0m                         Traceback (most recent call last)",
      "\u001b[1;32m~\\AppData\\Local\\Temp/ipykernel_49560/8807476.py\u001b[0m in \u001b[0;36m<module>\u001b[1;34m\u001b[0m\n\u001b[0;32m      3\u001b[0m     \u001b[0mpath_to_move\u001b[0m \u001b[1;33m=\u001b[0m \u001b[0mos\u001b[0m\u001b[1;33m.\u001b[0m\u001b[0mpath\u001b[0m\u001b[1;33m.\u001b[0m\u001b[0mjoin\u001b[0m\u001b[1;33m(\u001b[0m\u001b[0mdir\u001b[0m\u001b[1;33m,\u001b[0m \u001b[1;34m\"test_files\"\u001b[0m\u001b[1;33m,\u001b[0m \u001b[0mfile\u001b[0m\u001b[1;33m)\u001b[0m\u001b[1;33m\u001b[0m\u001b[1;33m\u001b[0m\u001b[0m\n\u001b[0;32m      4\u001b[0m     \u001b[0mfile_to_move\u001b[0m \u001b[1;33m=\u001b[0m \u001b[0mos\u001b[0m\u001b[1;33m.\u001b[0m\u001b[0mpath\u001b[0m\u001b[1;33m.\u001b[0m\u001b[0mjoin\u001b[0m\u001b[1;33m(\u001b[0m\u001b[0mdir\u001b[0m\u001b[1;33m,\u001b[0m \u001b[1;34m\"audio\"\u001b[0m\u001b[1;33m,\u001b[0m \u001b[0mfile\u001b[0m\u001b[1;33m)\u001b[0m\u001b[1;33m\u001b[0m\u001b[1;33m\u001b[0m\u001b[0m\n\u001b[1;32m----> 5\u001b[1;33m     \u001b[0mshutil\u001b[0m\u001b[1;33m.\u001b[0m\u001b[0mmove\u001b[0m\u001b[1;33m(\u001b[0m\u001b[0mfile_to_move\u001b[0m\u001b[1;33m,\u001b[0m\u001b[0mpath_to_move\u001b[0m\u001b[1;33m)\u001b[0m\u001b[1;33m\u001b[0m\u001b[1;33m\u001b[0m\u001b[0m\n\u001b[0m\u001b[0;32m      6\u001b[0m \u001b[1;33m\u001b[0m\u001b[0m\n\u001b[0;32m      7\u001b[0m \"\"\"\n",
      "\u001b[1;32m~\\anaconda3\\lib\\shutil.py\u001b[0m in \u001b[0;36mmove\u001b[1;34m(src, dst, copy_function)\u001b[0m\n\u001b[0;32m    832\u001b[0m             \u001b[0mrmtree\u001b[0m\u001b[1;33m(\u001b[0m\u001b[0msrc\u001b[0m\u001b[1;33m)\u001b[0m\u001b[1;33m\u001b[0m\u001b[1;33m\u001b[0m\u001b[0m\n\u001b[0;32m    833\u001b[0m         \u001b[1;32melse\u001b[0m\u001b[1;33m:\u001b[0m\u001b[1;33m\u001b[0m\u001b[1;33m\u001b[0m\u001b[0m\n\u001b[1;32m--> 834\u001b[1;33m             \u001b[0mcopy_function\u001b[0m\u001b[1;33m(\u001b[0m\u001b[0msrc\u001b[0m\u001b[1;33m,\u001b[0m \u001b[0mreal_dst\u001b[0m\u001b[1;33m)\u001b[0m\u001b[1;33m\u001b[0m\u001b[1;33m\u001b[0m\u001b[0m\n\u001b[0m\u001b[0;32m    835\u001b[0m             \u001b[0mos\u001b[0m\u001b[1;33m.\u001b[0m\u001b[0munlink\u001b[0m\u001b[1;33m(\u001b[0m\u001b[0msrc\u001b[0m\u001b[1;33m)\u001b[0m\u001b[1;33m\u001b[0m\u001b[1;33m\u001b[0m\u001b[0m\n\u001b[0;32m    836\u001b[0m     \u001b[1;32mreturn\u001b[0m \u001b[0mreal_dst\u001b[0m\u001b[1;33m\u001b[0m\u001b[1;33m\u001b[0m\u001b[0m\n",
      "\u001b[1;32m~\\anaconda3\\lib\\shutil.py\u001b[0m in \u001b[0;36mcopy2\u001b[1;34m(src, dst, follow_symlinks)\u001b[0m\n\u001b[0;32m    441\u001b[0m     \u001b[1;32mif\u001b[0m \u001b[0mos\u001b[0m\u001b[1;33m.\u001b[0m\u001b[0mpath\u001b[0m\u001b[1;33m.\u001b[0m\u001b[0misdir\u001b[0m\u001b[1;33m(\u001b[0m\u001b[0mdst\u001b[0m\u001b[1;33m)\u001b[0m\u001b[1;33m:\u001b[0m\u001b[1;33m\u001b[0m\u001b[1;33m\u001b[0m\u001b[0m\n\u001b[0;32m    442\u001b[0m         \u001b[0mdst\u001b[0m \u001b[1;33m=\u001b[0m \u001b[0mos\u001b[0m\u001b[1;33m.\u001b[0m\u001b[0mpath\u001b[0m\u001b[1;33m.\u001b[0m\u001b[0mjoin\u001b[0m\u001b[1;33m(\u001b[0m\u001b[0mdst\u001b[0m\u001b[1;33m,\u001b[0m \u001b[0mos\u001b[0m\u001b[1;33m.\u001b[0m\u001b[0mpath\u001b[0m\u001b[1;33m.\u001b[0m\u001b[0mbasename\u001b[0m\u001b[1;33m(\u001b[0m\u001b[0msrc\u001b[0m\u001b[1;33m)\u001b[0m\u001b[1;33m)\u001b[0m\u001b[1;33m\u001b[0m\u001b[1;33m\u001b[0m\u001b[0m\n\u001b[1;32m--> 443\u001b[1;33m     \u001b[0mcopyfile\u001b[0m\u001b[1;33m(\u001b[0m\u001b[0msrc\u001b[0m\u001b[1;33m,\u001b[0m \u001b[0mdst\u001b[0m\u001b[1;33m,\u001b[0m \u001b[0mfollow_symlinks\u001b[0m\u001b[1;33m=\u001b[0m\u001b[0mfollow_symlinks\u001b[0m\u001b[1;33m)\u001b[0m\u001b[1;33m\u001b[0m\u001b[1;33m\u001b[0m\u001b[0m\n\u001b[0m\u001b[0;32m    444\u001b[0m     \u001b[0mcopystat\u001b[0m\u001b[1;33m(\u001b[0m\u001b[0msrc\u001b[0m\u001b[1;33m,\u001b[0m \u001b[0mdst\u001b[0m\u001b[1;33m,\u001b[0m \u001b[0mfollow_symlinks\u001b[0m\u001b[1;33m=\u001b[0m\u001b[0mfollow_symlinks\u001b[0m\u001b[1;33m)\u001b[0m\u001b[1;33m\u001b[0m\u001b[1;33m\u001b[0m\u001b[0m\n\u001b[0;32m    445\u001b[0m     \u001b[1;32mreturn\u001b[0m \u001b[0mdst\u001b[0m\u001b[1;33m\u001b[0m\u001b[1;33m\u001b[0m\u001b[0m\n",
      "\u001b[1;32m~\\anaconda3\\lib\\shutil.py\u001b[0m in \u001b[0;36mcopyfile\u001b[1;34m(src, dst, follow_symlinks)\u001b[0m\n\u001b[0;32m    263\u001b[0m     \u001b[1;32melse\u001b[0m\u001b[1;33m:\u001b[0m\u001b[1;33m\u001b[0m\u001b[1;33m\u001b[0m\u001b[0m\n\u001b[0;32m    264\u001b[0m         \u001b[1;32mtry\u001b[0m\u001b[1;33m:\u001b[0m\u001b[1;33m\u001b[0m\u001b[1;33m\u001b[0m\u001b[0m\n\u001b[1;32m--> 265\u001b[1;33m             \u001b[1;32mwith\u001b[0m \u001b[0mopen\u001b[0m\u001b[1;33m(\u001b[0m\u001b[0msrc\u001b[0m\u001b[1;33m,\u001b[0m \u001b[1;34m'rb'\u001b[0m\u001b[1;33m)\u001b[0m \u001b[1;32mas\u001b[0m \u001b[0mfsrc\u001b[0m\u001b[1;33m,\u001b[0m \u001b[0mopen\u001b[0m\u001b[1;33m(\u001b[0m\u001b[0mdst\u001b[0m\u001b[1;33m,\u001b[0m \u001b[1;34m'wb'\u001b[0m\u001b[1;33m)\u001b[0m \u001b[1;32mas\u001b[0m \u001b[0mfdst\u001b[0m\u001b[1;33m:\u001b[0m\u001b[1;33m\u001b[0m\u001b[1;33m\u001b[0m\u001b[0m\n\u001b[0m\u001b[0;32m    266\u001b[0m                 \u001b[1;31m# macOS\u001b[0m\u001b[1;33m\u001b[0m\u001b[1;33m\u001b[0m\u001b[0m\n\u001b[0;32m    267\u001b[0m                 \u001b[1;32mif\u001b[0m \u001b[0m_HAS_FCOPYFILE\u001b[0m\u001b[1;33m:\u001b[0m\u001b[1;33m\u001b[0m\u001b[1;33m\u001b[0m\u001b[0m\n",
      "\u001b[1;31mFileNotFoundError\u001b[0m: [Errno 2] No such file or directory: 'C:\\\\Users\\\\Emeric\\\\Documents\\\\GitHub\\\\Project-Acoustic-Scene-Classification-DCASE\\\\data\\\\TAU-urban-acoustic-scenes-2020-mobile-development\\\\audio\\\\audio/airport-barcelona-203-6129-a.wav'"
     ]
    }
   ],
   "source": [
    "path_to_move = '/test_files'\n",
    "for file in test_files['filename']:\n",
    "    path_to_move = os.path.join(dir, \"test_files\", file)\n",
    "    file_to_move = os.path.join(dir, \"audio\", file)\n",
    "    shutil.move(file_to_move,path_to_move)\n",
    "\n",
    "\"\"\"\n",
    "path = '/train_files'\n",
    "os.chmod(path, 777)\n",
    "for file in train_files['filename']:\n",
    "    print('test1')\n",
    "    if os.path.isfile(file):\n",
    "        print('test2')\n",
    "        shutil.move(file,path)\n",
    "        print('test3')\n",
    "        os.remove(file)\n",
    "\n",
    "\n",
    "for file in val_files['filename']:\n",
    "    path = r'/val_files'\n",
    "    if os.path.isfile(file):\n",
    "        shutil.move(file,path)\n",
    "        os.remove(file)\"\"\""
   ]
  },
  {
   "cell_type": "code",
   "execution_count": null,
   "metadata": {},
   "outputs": [],
   "source": []
  }
 ],
 "metadata": {
  "interpreter": {
   "hash": "2db524e06e9f5f4ffedc911c917cb75e12dbc923643829bf417064a77eb14d37"
  },
  "kernelspec": {
   "display_name": "Python 3.8.3 64-bit",
   "language": "python",
   "name": "python3"
  },
  "language_info": {
   "codemirror_mode": {
    "name": "ipython",
    "version": 3
   },
   "file_extension": ".py",
   "mimetype": "text/x-python",
   "name": "python",
   "nbconvert_exporter": "python",
   "pygments_lexer": "ipython3",
   "version": "3.9.7"
  },
  "orig_nbformat": 4
 },
 "nbformat": 4,
 "nbformat_minor": 2
}
