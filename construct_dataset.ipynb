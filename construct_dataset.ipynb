{
 "cells": [
  {
   "cell_type": "code",
   "execution_count": 2,
   "metadata": {},
   "outputs": [],
   "source": [
    "import os\n",
    "import pandas as pd\n",
    "import shutil"
   ]
  },
  {
   "cell_type": "code",
   "execution_count": 21,
   "metadata": {},
   "outputs": [],
   "source": [
    "root_dir = \"data/TAU-urban-acoustic-scenes-2020-mobile-development\"\n",
    "\n",
    "\n",
    "files = os.listdir(root_dir + '/audio')\n",
    "\n",
    "test_files = pd.read_csv(root_dir+\"/fold1_test.csv\", sep = \" \")\n",
    "train_files = pd.read_csv(root_dir+\"/fold1_train.csv\",sep=\"\\t\")\n",
    "val_files = pd.read_csv(root_dir+\"/fold1_evaluate.csv\", sep = \"\\t\")"
   ]
  },
  {
   "cell_type": "code",
   "execution_count": 25,
   "metadata": {},
   "outputs": [
    {
     "name": "stdout",
     "output_type": "stream",
     "text": [
      "c:\\Users\\stanislas\\Documents\\GitHub\\Project-Acoustic-Scene-Classification-DCASE\\data\\TAU-urban-acoustic-scenes-2020-mobile-development\n"
     ]
    }
   ],
   "source": [
    "%cd data/TAU-urban-acoustic-scenes-2020-mobile-development\n"
   ]
  },
  {
   "cell_type": "code",
   "execution_count": 26,
   "metadata": {},
   "outputs": [
    {
     "data": {
      "text/plain": [
       "'c:\\\\Users\\\\stanislas\\\\Documents\\\\GitHub\\\\Project-Acoustic-Scene-Classification-DCASE\\\\data\\\\TAU-urban-acoustic-scenes-2020-mobile-development'"
      ]
     },
     "execution_count": 26,
     "metadata": {},
     "output_type": "execute_result"
    }
   ],
   "source": [
    "%pwd"
   ]
  },
  {
   "cell_type": "code",
   "execution_count": 35,
   "metadata": {},
   "outputs": [],
   "source": [
    "for file in test_files['filename']:\n",
    "    path = os.path.join('/test_files/',file)\n",
    "    if os.path.isfile(file):\n",
    "        shutil.copy2(file,path)\n",
    "        os.remove(file)\n",
    "\n",
    "\n",
    "for file in train_files['filename']:\n",
    "    path = os.path.join('/train_files/',file)\n",
    "    if os.path.isfile(file):\n",
    "        shutil.copy2(file,path)\n",
    "        os.remove(file)\n",
    "\n",
    "\n",
    "for file in val_files['filename']:\n",
    "    path = os.path.join('/val_files/',file)\n",
    "    if os.path.isfile(file):\n",
    "        shutil.copy2(file,path)\n",
    "        os.remove(file)\n"
   ]
  },
  {
   "cell_type": "code",
   "execution_count": null,
   "metadata": {},
   "outputs": [],
   "source": []
  }
 ],
 "metadata": {
  "interpreter": {
   "hash": "2db524e06e9f5f4ffedc911c917cb75e12dbc923643829bf417064a77eb14d37"
  },
  "kernelspec": {
   "display_name": "Python 3.8.3 64-bit",
   "language": "python",
   "name": "python3"
  },
  "language_info": {
   "codemirror_mode": {
    "name": "ipython",
    "version": 3
   },
   "file_extension": ".py",
   "mimetype": "text/x-python",
   "name": "python",
   "nbconvert_exporter": "python",
   "pygments_lexer": "ipython3",
   "version": "3.8.3"
  },
  "orig_nbformat": 4
 },
 "nbformat": 4,
 "nbformat_minor": 2
}
